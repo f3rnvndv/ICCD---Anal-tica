{
  "cells": [
    {
      "cell_type": "markdown",
      "metadata": {},
      "source": [
        "# Análisis de precios de iPhone "
      ]
    },
    {
      "cell_type": "markdown",
      "metadata": {},
      "source": [
        "## Parte 1"
      ]
    },
    {
      "cell_type": "markdown",
      "metadata": {},
      "source": [
        "Los datos fueron extraídos en agosto mediante web scraping"
      ]
    },
    {
      "cell_type": "code",
      "execution_count": 31,
      "metadata": {
        "colab": {
          "base_uri": "https://localhost:8080/",
          "height": 424
        },
        "id": "hE94XCGHbrE1",
        "outputId": "33ad0dc0-a269-4c25-af2e-2a1cce5b412f"
      },
      "outputs": [
        {
          "data": {
            "text/html": [
              "<div>\n",
              "<style scoped>\n",
              "    .dataframe tbody tr th:only-of-type {\n",
              "        vertical-align: middle;\n",
              "    }\n",
              "\n",
              "    .dataframe tbody tr th {\n",
              "        vertical-align: top;\n",
              "    }\n",
              "\n",
              "    .dataframe thead th {\n",
              "        text-align: right;\n",
              "    }\n",
              "</style>\n",
              "<table border=\"1\" class=\"dataframe\">\n",
              "  <thead>\n",
              "    <tr style=\"text-align: right;\">\n",
              "      <th></th>\n",
              "      <th>modelo</th>\n",
              "      <th>precio_normal</th>\n",
              "      <th>precio_oferta</th>\n",
              "      <th>tienda</th>\n",
              "      <th>category</th>\n",
              "    </tr>\n",
              "  </thead>\n",
              "  <tbody>\n",
              "    <tr>\n",
              "      <th>0</th>\n",
              "      <td>iphone 15 pro 256gb</td>\n",
              "      <td>1199990</td>\n",
              "      <td>819990</td>\n",
              "      <td>falabella</td>\n",
              "      <td>pro</td>\n",
              "    </tr>\n",
              "    <tr>\n",
              "      <th>1</th>\n",
              "      <td>iphone 15 pro max 256gb</td>\n",
              "      <td>1349990</td>\n",
              "      <td>819990</td>\n",
              "      <td>falabella</td>\n",
              "      <td>pro max</td>\n",
              "    </tr>\n",
              "    <tr>\n",
              "      <th>2</th>\n",
              "      <td>iphone 15 128gb</td>\n",
              "      <td>849990</td>\n",
              "      <td>819990</td>\n",
              "      <td>falabella</td>\n",
              "      <td>standard</td>\n",
              "    </tr>\n",
              "    <tr>\n",
              "      <th>3</th>\n",
              "      <td>iphone 15 pro max 512gb</td>\n",
              "      <td>1499990</td>\n",
              "      <td>1079990</td>\n",
              "      <td>falabella</td>\n",
              "      <td>pro max</td>\n",
              "    </tr>\n",
              "    <tr>\n",
              "      <th>4</th>\n",
              "      <td>iphone 11 128gb</td>\n",
              "      <td>429990</td>\n",
              "      <td>399990</td>\n",
              "      <td>falabella</td>\n",
              "      <td>standard</td>\n",
              "    </tr>\n",
              "    <tr>\n",
              "      <th>...</th>\n",
              "      <td>...</td>\n",
              "      <td>...</td>\n",
              "      <td>...</td>\n",
              "      <td>...</td>\n",
              "      <td>...</td>\n",
              "    </tr>\n",
              "    <tr>\n",
              "      <th>133</th>\n",
              "      <td>iphone 15 plus 128gb</td>\n",
              "      <td>1999900</td>\n",
              "      <td>999990</td>\n",
              "      <td>movistar</td>\n",
              "      <td>plus</td>\n",
              "    </tr>\n",
              "    <tr>\n",
              "      <th>134</th>\n",
              "      <td>iphone 14 plus 512gb</td>\n",
              "      <td>1499990</td>\n",
              "      <td>1399990</td>\n",
              "      <td>movistar</td>\n",
              "      <td>plus</td>\n",
              "    </tr>\n",
              "    <tr>\n",
              "      <th>135</th>\n",
              "      <td>iphone 13 pro 1tb</td>\n",
              "      <td>1649990</td>\n",
              "      <td>1649990</td>\n",
              "      <td>movistar</td>\n",
              "      <td>pro</td>\n",
              "    </tr>\n",
              "    <tr>\n",
              "      <th>136</th>\n",
              "      <td>iphone 13 512gb</td>\n",
              "      <td>1199990</td>\n",
              "      <td>999990</td>\n",
              "      <td>movistar</td>\n",
              "      <td>standard</td>\n",
              "    </tr>\n",
              "    <tr>\n",
              "      <th>137</th>\n",
              "      <td>iphone 14 512gb</td>\n",
              "      <td>1369990</td>\n",
              "      <td>1039990</td>\n",
              "      <td>movistar</td>\n",
              "      <td>standard</td>\n",
              "    </tr>\n",
              "  </tbody>\n",
              "</table>\n",
              "<p>138 rows × 5 columns</p>\n",
              "</div>"
            ],
            "text/plain": [
              "                      modelo  precio_normal  precio_oferta     tienda  \\\n",
              "0        iphone 15 pro 256gb        1199990         819990  falabella   \n",
              "1    iphone 15 pro max 256gb        1349990         819990  falabella   \n",
              "2            iphone 15 128gb         849990         819990  falabella   \n",
              "3    iphone 15 pro max 512gb        1499990        1079990  falabella   \n",
              "4            iphone 11 128gb         429990         399990  falabella   \n",
              "..                       ...            ...            ...        ...   \n",
              "133     iphone 15 plus 128gb        1999900         999990   movistar   \n",
              "134     iphone 14 plus 512gb        1499990        1399990   movistar   \n",
              "135        iphone 13 pro 1tb        1649990        1649990   movistar   \n",
              "136          iphone 13 512gb        1199990         999990   movistar   \n",
              "137          iphone 14 512gb        1369990        1039990   movistar   \n",
              "\n",
              "     category  \n",
              "0         pro  \n",
              "1     pro max  \n",
              "2    standard  \n",
              "3     pro max  \n",
              "4    standard  \n",
              "..        ...  \n",
              "133      plus  \n",
              "134      plus  \n",
              "135       pro  \n",
              "136  standard  \n",
              "137  standard  \n",
              "\n",
              "[138 rows x 5 columns]"
            ]
          },
          "execution_count": 31,
          "metadata": {},
          "output_type": "execute_result"
        }
      ],
      "source": [
        "import pandas as pd\n",
        "\n",
        "productos = pd.read_csv('productosFinal.csv',index_col=0)\n",
        "productos"
      ]
    },
    {
      "cell_type": "code",
      "execution_count": 32,
      "metadata": {
        "colab": {
          "base_uri": "https://localhost:8080/",
          "height": 241
        },
        "id": "N0Kwrf2pbrE2",
        "outputId": "bf03e6e1-77a3-4d46-f752-3a5cacba93bd"
      },
      "outputs": [
        {
          "data": {
            "text/plain": [
              "modelo           0\n",
              "precio_normal    0\n",
              "precio_oferta    0\n",
              "tienda           0\n",
              "category         0\n",
              "dtype: int64"
            ]
          },
          "execution_count": 32,
          "metadata": {},
          "output_type": "execute_result"
        }
      ],
      "source": [
        "valores_nulos = productos.isnull().sum()\n",
        "valores_nulos"
      ]
    },
    {
      "cell_type": "markdown",
      "metadata": {
        "id": "8NfM4irvbrE3"
      },
      "source": [
        "Al eliminar los duplicados la data se reducio en 34 datos"
      ]
    },
    {
      "cell_type": "code",
      "execution_count": 33,
      "metadata": {
        "colab": {
          "base_uri": "https://localhost:8080/",
          "height": 424
        },
        "id": "NVExdhNubrE4",
        "outputId": "b75ee740-da84-4d68-e912-9c0f10b03511"
      },
      "outputs": [
        {
          "data": {
            "text/html": [
              "<div>\n",
              "<style scoped>\n",
              "    .dataframe tbody tr th:only-of-type {\n",
              "        vertical-align: middle;\n",
              "    }\n",
              "\n",
              "    .dataframe tbody tr th {\n",
              "        vertical-align: top;\n",
              "    }\n",
              "\n",
              "    .dataframe thead th {\n",
              "        text-align: right;\n",
              "    }\n",
              "</style>\n",
              "<table border=\"1\" class=\"dataframe\">\n",
              "  <thead>\n",
              "    <tr style=\"text-align: right;\">\n",
              "      <th></th>\n",
              "      <th>modelo</th>\n",
              "      <th>precio_normal</th>\n",
              "      <th>precio_oferta</th>\n",
              "      <th>tienda</th>\n",
              "      <th>category</th>\n",
              "    </tr>\n",
              "  </thead>\n",
              "  <tbody>\n",
              "    <tr>\n",
              "      <th>0</th>\n",
              "      <td>iphone 15 pro 256gb</td>\n",
              "      <td>1199990</td>\n",
              "      <td>819990</td>\n",
              "      <td>falabella</td>\n",
              "      <td>pro</td>\n",
              "    </tr>\n",
              "    <tr>\n",
              "      <th>1</th>\n",
              "      <td>iphone 15 pro max 256gb</td>\n",
              "      <td>1349990</td>\n",
              "      <td>819990</td>\n",
              "      <td>falabella</td>\n",
              "      <td>pro max</td>\n",
              "    </tr>\n",
              "    <tr>\n",
              "      <th>2</th>\n",
              "      <td>iphone 15 128gb</td>\n",
              "      <td>849990</td>\n",
              "      <td>819990</td>\n",
              "      <td>falabella</td>\n",
              "      <td>standard</td>\n",
              "    </tr>\n",
              "    <tr>\n",
              "      <th>3</th>\n",
              "      <td>iphone 15 pro max 512gb</td>\n",
              "      <td>1499990</td>\n",
              "      <td>1079990</td>\n",
              "      <td>falabella</td>\n",
              "      <td>pro max</td>\n",
              "    </tr>\n",
              "    <tr>\n",
              "      <th>4</th>\n",
              "      <td>iphone 11 128gb</td>\n",
              "      <td>429990</td>\n",
              "      <td>399990</td>\n",
              "      <td>falabella</td>\n",
              "      <td>standard</td>\n",
              "    </tr>\n",
              "    <tr>\n",
              "      <th>...</th>\n",
              "      <td>...</td>\n",
              "      <td>...</td>\n",
              "      <td>...</td>\n",
              "      <td>...</td>\n",
              "      <td>...</td>\n",
              "    </tr>\n",
              "    <tr>\n",
              "      <th>133</th>\n",
              "      <td>iphone 15 plus 128gb</td>\n",
              "      <td>1999900</td>\n",
              "      <td>999990</td>\n",
              "      <td>movistar</td>\n",
              "      <td>plus</td>\n",
              "    </tr>\n",
              "    <tr>\n",
              "      <th>134</th>\n",
              "      <td>iphone 14 plus 512gb</td>\n",
              "      <td>1499990</td>\n",
              "      <td>1399990</td>\n",
              "      <td>movistar</td>\n",
              "      <td>plus</td>\n",
              "    </tr>\n",
              "    <tr>\n",
              "      <th>135</th>\n",
              "      <td>iphone 13 pro 1tb</td>\n",
              "      <td>1649990</td>\n",
              "      <td>1649990</td>\n",
              "      <td>movistar</td>\n",
              "      <td>pro</td>\n",
              "    </tr>\n",
              "    <tr>\n",
              "      <th>136</th>\n",
              "      <td>iphone 13 512gb</td>\n",
              "      <td>1199990</td>\n",
              "      <td>999990</td>\n",
              "      <td>movistar</td>\n",
              "      <td>standard</td>\n",
              "    </tr>\n",
              "    <tr>\n",
              "      <th>137</th>\n",
              "      <td>iphone 14 512gb</td>\n",
              "      <td>1369990</td>\n",
              "      <td>1039990</td>\n",
              "      <td>movistar</td>\n",
              "      <td>standard</td>\n",
              "    </tr>\n",
              "  </tbody>\n",
              "</table>\n",
              "<p>104 rows × 5 columns</p>\n",
              "</div>"
            ],
            "text/plain": [
              "                      modelo  precio_normal  precio_oferta     tienda  \\\n",
              "0        iphone 15 pro 256gb        1199990         819990  falabella   \n",
              "1    iphone 15 pro max 256gb        1349990         819990  falabella   \n",
              "2            iphone 15 128gb         849990         819990  falabella   \n",
              "3    iphone 15 pro max 512gb        1499990        1079990  falabella   \n",
              "4            iphone 11 128gb         429990         399990  falabella   \n",
              "..                       ...            ...            ...        ...   \n",
              "133     iphone 15 plus 128gb        1999900         999990   movistar   \n",
              "134     iphone 14 plus 512gb        1499990        1399990   movistar   \n",
              "135        iphone 13 pro 1tb        1649990        1649990   movistar   \n",
              "136          iphone 13 512gb        1199990         999990   movistar   \n",
              "137          iphone 14 512gb        1369990        1039990   movistar   \n",
              "\n",
              "     category  \n",
              "0         pro  \n",
              "1     pro max  \n",
              "2    standard  \n",
              "3     pro max  \n",
              "4    standard  \n",
              "..        ...  \n",
              "133      plus  \n",
              "134      plus  \n",
              "135       pro  \n",
              "136  standard  \n",
              "137  standard  \n",
              "\n",
              "[104 rows x 5 columns]"
            ]
          },
          "execution_count": 33,
          "metadata": {},
          "output_type": "execute_result"
        }
      ],
      "source": [
        "productos = productos.drop_duplicates()\n",
        "productos"
      ]
    },
    {
      "cell_type": "code",
      "execution_count": 34,
      "metadata": {
        "colab": {
          "base_uri": "https://localhost:8080/"
        },
        "id": "qR_3CHMgbrE4",
        "outputId": "d86c046b-f903-4ed3-d7d3-f953b21f9f1e"
      },
      "outputs": [
        {
          "data": {
            "text/plain": [
              "array(['iphone 15 pro 256gb', 'iphone 15 pro max 256gb',\n",
              "       'iphone 15 128gb', 'iphone 15 pro max 512gb', 'iphone 11 128gb',\n",
              "       'iphone 15 pro 128gb', 'iphone 15 256gb', 'iphone 14 256gb',\n",
              "       'iphone 14 128gb', 'iphone 13 128gb', 'iphone 15 512gb',\n",
              "       'iphone 12 128gb', 'iphone\\xa013 128gb',\n",
              "       'iphone\\xa015 pro\\xa0max\\xa0256gb', 'iphone 11 64gb',\n",
              "       'iphone 15 plus 128gb', 'iphone\\xa015 pro\\xa0256gb',\n",
              "       'iphone\\xa015 pro\\xa0max\\xa0512gb', 'iphone\\xa015 pro\\xa0128gb',\n",
              "       'iphone 15 pro max  256gb', 'iphone 13 256gb',\n",
              "       'iphone 14 plus 256gb', 'iphone 15 negro 256gb',\n",
              "       'iphone 15 pro 512gb', 'iphone 15 plus 256gb', 'iphone 13 512gb',\n",
              "       'iphone 15 plus 512gb', 'iphone 14 pro max 128gb',\n",
              "       'iphone 14 plus 128gb', 'iphone 14 pro 128gb', 'iphone 12 64gb',\n",
              "       'iphone 14 plus 512gb', 'iphone 13 pro 1tb', 'iphone 14 512gb'],\n",
              "      dtype=object)"
            ]
          },
          "execution_count": 34,
          "metadata": {},
          "output_type": "execute_result"
        }
      ],
      "source": [
        "productos['modelo'].unique()"
      ]
    },
    {
      "cell_type": "code",
      "execution_count": 35,
      "metadata": {
        "colab": {
          "base_uri": "https://localhost:8080/"
        },
        "id": "DUZjPDrybrE4",
        "outputId": "1e4254b0-33fe-468a-d36e-cdc46f61ab32"
      },
      "outputs": [
        {
          "name": "stderr",
          "output_type": "stream",
          "text": [
            "C:\\Users\\ferna\\AppData\\Local\\Temp\\ipykernel_5888\\2811734622.py:1: SettingWithCopyWarning:\n",
            "\n",
            "\n",
            "A value is trying to be set on a copy of a slice from a DataFrame.\n",
            "Try using .loc[row_indexer,col_indexer] = value instead\n",
            "\n",
            "See the caveats in the documentation: https://pandas.pydata.org/pandas-docs/stable/user_guide/indexing.html#returning-a-view-versus-a-copy\n",
            "\n",
            "C:\\Users\\ferna\\AppData\\Local\\Temp\\ipykernel_5888\\2811734622.py:2: SettingWithCopyWarning:\n",
            "\n",
            "\n",
            "A value is trying to be set on a copy of a slice from a DataFrame.\n",
            "Try using .loc[row_indexer,col_indexer] = value instead\n",
            "\n",
            "See the caveats in the documentation: https://pandas.pydata.org/pandas-docs/stable/user_guide/indexing.html#returning-a-view-versus-a-copy\n",
            "\n"
          ]
        }
      ],
      "source": [
        "productos['precio_normal']=productos['precio_normal'].astype('float')\n",
        "productos['precio_oferta']=productos['precio_oferta'].astype('float')\n"
      ]
    },
    {
      "cell_type": "code",
      "execution_count": 36,
      "metadata": {
        "colab": {
          "base_uri": "https://localhost:8080/",
          "height": 424
        },
        "id": "e8ZN00-_brE5",
        "outputId": "2c1b29ba-d3fc-41d0-ac2a-c03d13a2975d"
      },
      "outputs": [
        {
          "data": {
            "text/html": [
              "<div>\n",
              "<style scoped>\n",
              "    .dataframe tbody tr th:only-of-type {\n",
              "        vertical-align: middle;\n",
              "    }\n",
              "\n",
              "    .dataframe tbody tr th {\n",
              "        vertical-align: top;\n",
              "    }\n",
              "\n",
              "    .dataframe thead th {\n",
              "        text-align: right;\n",
              "    }\n",
              "</style>\n",
              "<table border=\"1\" class=\"dataframe\">\n",
              "  <thead>\n",
              "    <tr style=\"text-align: right;\">\n",
              "      <th></th>\n",
              "      <th>modelo</th>\n",
              "      <th>precio_normal</th>\n",
              "      <th>precio_oferta</th>\n",
              "      <th>tienda</th>\n",
              "      <th>category</th>\n",
              "    </tr>\n",
              "  </thead>\n",
              "  <tbody>\n",
              "    <tr>\n",
              "      <th>0</th>\n",
              "      <td>iphone 15 pro 256gb</td>\n",
              "      <td>1,199,990</td>\n",
              "      <td>819,990</td>\n",
              "      <td>falabella</td>\n",
              "      <td>pro</td>\n",
              "    </tr>\n",
              "    <tr>\n",
              "      <th>1</th>\n",
              "      <td>iphone 15 pro max 256gb</td>\n",
              "      <td>1,349,990</td>\n",
              "      <td>819,990</td>\n",
              "      <td>falabella</td>\n",
              "      <td>pro max</td>\n",
              "    </tr>\n",
              "    <tr>\n",
              "      <th>2</th>\n",
              "      <td>iphone 15 128gb</td>\n",
              "      <td>849,990</td>\n",
              "      <td>819,990</td>\n",
              "      <td>falabella</td>\n",
              "      <td>standard</td>\n",
              "    </tr>\n",
              "    <tr>\n",
              "      <th>3</th>\n",
              "      <td>iphone 15 pro max 512gb</td>\n",
              "      <td>1,499,990</td>\n",
              "      <td>1,079,990</td>\n",
              "      <td>falabella</td>\n",
              "      <td>pro max</td>\n",
              "    </tr>\n",
              "    <tr>\n",
              "      <th>4</th>\n",
              "      <td>iphone 11 128gb</td>\n",
              "      <td>429,990</td>\n",
              "      <td>399,990</td>\n",
              "      <td>falabella</td>\n",
              "      <td>standard</td>\n",
              "    </tr>\n",
              "    <tr>\n",
              "      <th>...</th>\n",
              "      <td>...</td>\n",
              "      <td>...</td>\n",
              "      <td>...</td>\n",
              "      <td>...</td>\n",
              "      <td>...</td>\n",
              "    </tr>\n",
              "    <tr>\n",
              "      <th>133</th>\n",
              "      <td>iphone 15 plus 128gb</td>\n",
              "      <td>1,999,900</td>\n",
              "      <td>999,990</td>\n",
              "      <td>movistar</td>\n",
              "      <td>plus</td>\n",
              "    </tr>\n",
              "    <tr>\n",
              "      <th>134</th>\n",
              "      <td>iphone 14 plus 512gb</td>\n",
              "      <td>1,499,990</td>\n",
              "      <td>1,399,990</td>\n",
              "      <td>movistar</td>\n",
              "      <td>plus</td>\n",
              "    </tr>\n",
              "    <tr>\n",
              "      <th>135</th>\n",
              "      <td>iphone 13 pro 1tb</td>\n",
              "      <td>1,649,990</td>\n",
              "      <td>1,649,990</td>\n",
              "      <td>movistar</td>\n",
              "      <td>pro</td>\n",
              "    </tr>\n",
              "    <tr>\n",
              "      <th>136</th>\n",
              "      <td>iphone 13 512gb</td>\n",
              "      <td>1,199,990</td>\n",
              "      <td>999,990</td>\n",
              "      <td>movistar</td>\n",
              "      <td>standard</td>\n",
              "    </tr>\n",
              "    <tr>\n",
              "      <th>137</th>\n",
              "      <td>iphone 14 512gb</td>\n",
              "      <td>1,369,990</td>\n",
              "      <td>1,039,990</td>\n",
              "      <td>movistar</td>\n",
              "      <td>standard</td>\n",
              "    </tr>\n",
              "  </tbody>\n",
              "</table>\n",
              "<p>104 rows × 5 columns</p>\n",
              "</div>"
            ],
            "text/plain": [
              "                      modelo  precio_normal  precio_oferta     tienda  \\\n",
              "0        iphone 15 pro 256gb      1,199,990        819,990  falabella   \n",
              "1    iphone 15 pro max 256gb      1,349,990        819,990  falabella   \n",
              "2            iphone 15 128gb        849,990        819,990  falabella   \n",
              "3    iphone 15 pro max 512gb      1,499,990      1,079,990  falabella   \n",
              "4            iphone 11 128gb        429,990        399,990  falabella   \n",
              "..                       ...            ...            ...        ...   \n",
              "133     iphone 15 plus 128gb      1,999,900        999,990   movistar   \n",
              "134     iphone 14 plus 512gb      1,499,990      1,399,990   movistar   \n",
              "135        iphone 13 pro 1tb      1,649,990      1,649,990   movistar   \n",
              "136          iphone 13 512gb      1,199,990        999,990   movistar   \n",
              "137          iphone 14 512gb      1,369,990      1,039,990   movistar   \n",
              "\n",
              "     category  \n",
              "0         pro  \n",
              "1     pro max  \n",
              "2    standard  \n",
              "3     pro max  \n",
              "4    standard  \n",
              "..        ...  \n",
              "133      plus  \n",
              "134      plus  \n",
              "135       pro  \n",
              "136  standard  \n",
              "137  standard  \n",
              "\n",
              "[104 rows x 5 columns]"
            ]
          },
          "execution_count": 36,
          "metadata": {},
          "output_type": "execute_result"
        }
      ],
      "source": [
        "productos"
      ]
    },
    {
      "cell_type": "code",
      "execution_count": 37,
      "metadata": {
        "id": "woYrYEpGbrE5"
      },
      "outputs": [],
      "source": [
        "pd.options.display.float_format = '{:,.0f}'.format"
      ]
    },
    {
      "cell_type": "code",
      "execution_count": 38,
      "metadata": {
        "colab": {
          "base_uri": "https://localhost:8080/"
        },
        "id": "R4Q_Oq-FbrE5",
        "outputId": "44039923-9ebd-4a50-83b1-4b6c180a14d5"
      },
      "outputs": [
        {
          "name": "stdout",
          "output_type": "stream",
          "text": [
            "<class 'pandas.core.frame.DataFrame'>\n",
            "Index: 104 entries, 0 to 137\n",
            "Data columns (total 5 columns):\n",
            " #   Column         Non-Null Count  Dtype  \n",
            "---  ------         --------------  -----  \n",
            " 0   modelo         104 non-null    object \n",
            " 1   precio_normal  104 non-null    float64\n",
            " 2   precio_oferta  104 non-null    float64\n",
            " 3   tienda         104 non-null    object \n",
            " 4   category       104 non-null    object \n",
            "dtypes: float64(2), object(3)\n",
            "memory usage: 4.9+ KB\n"
          ]
        }
      ],
      "source": [
        "productos.info()"
      ]
    },
    {
      "cell_type": "code",
      "execution_count": 39,
      "metadata": {
        "colab": {
          "base_uri": "https://localhost:8080/",
          "height": 300
        },
        "id": "pEuPsmzlbrE6",
        "outputId": "0f0d667d-1129-423e-c8fa-b734688eec70"
      },
      "outputs": [
        {
          "data": {
            "text/html": [
              "<div>\n",
              "<style scoped>\n",
              "    .dataframe tbody tr th:only-of-type {\n",
              "        vertical-align: middle;\n",
              "    }\n",
              "\n",
              "    .dataframe tbody tr th {\n",
              "        vertical-align: top;\n",
              "    }\n",
              "\n",
              "    .dataframe thead th {\n",
              "        text-align: right;\n",
              "    }\n",
              "</style>\n",
              "<table border=\"1\" class=\"dataframe\">\n",
              "  <thead>\n",
              "    <tr style=\"text-align: right;\">\n",
              "      <th></th>\n",
              "      <th>precio_normal</th>\n",
              "      <th>precio_oferta</th>\n",
              "    </tr>\n",
              "  </thead>\n",
              "  <tbody>\n",
              "    <tr>\n",
              "      <th>count</th>\n",
              "      <td>104</td>\n",
              "      <td>104</td>\n",
              "    </tr>\n",
              "    <tr>\n",
              "      <th>mean</th>\n",
              "      <td>1,116,292</td>\n",
              "      <td>894,498</td>\n",
              "    </tr>\n",
              "    <tr>\n",
              "      <th>std</th>\n",
              "      <td>384,380</td>\n",
              "      <td>343,480</td>\n",
              "    </tr>\n",
              "    <tr>\n",
              "      <th>min</th>\n",
              "      <td>399,990</td>\n",
              "      <td>101,666</td>\n",
              "    </tr>\n",
              "    <tr>\n",
              "      <th>25%</th>\n",
              "      <td>849,990</td>\n",
              "      <td>652,498</td>\n",
              "    </tr>\n",
              "    <tr>\n",
              "      <th>50%</th>\n",
              "      <td>1,099,990</td>\n",
              "      <td>859,990</td>\n",
              "    </tr>\n",
              "    <tr>\n",
              "      <th>75%</th>\n",
              "      <td>1,409,990</td>\n",
              "      <td>1,135,575</td>\n",
              "    </tr>\n",
              "    <tr>\n",
              "      <th>max</th>\n",
              "      <td>1,999,900</td>\n",
              "      <td>1,649,990</td>\n",
              "    </tr>\n",
              "  </tbody>\n",
              "</table>\n",
              "</div>"
            ],
            "text/plain": [
              "       precio_normal  precio_oferta\n",
              "count            104            104\n",
              "mean       1,116,292        894,498\n",
              "std          384,380        343,480\n",
              "min          399,990        101,666\n",
              "25%          849,990        652,498\n",
              "50%        1,099,990        859,990\n",
              "75%        1,409,990      1,135,575\n",
              "max        1,999,900      1,649,990"
            ]
          },
          "execution_count": 39,
          "metadata": {},
          "output_type": "execute_result"
        }
      ],
      "source": [
        "productos.describe()"
      ]
    },
    {
      "cell_type": "markdown",
      "metadata": {
        "id": "19g7ptonbrE6"
      },
      "source": [
        "Las tiendas no traen todos los modelos, esto puede ir variando dependiendo de la disponibilidad"
      ]
    },
    {
      "cell_type": "code",
      "execution_count": 40,
      "metadata": {
        "colab": {
          "base_uri": "https://localhost:8080/"
        },
        "id": "EOhIQkq6brE6",
        "outputId": "70f9fd4e-00ab-4a40-ea62-5247d6f93962"
      },
      "outputs": [
        {
          "data": {
            "text/plain": [
              "(array(['claro', 'falabella', 'hites', 'la polar', 'lider',\n",
              "        'mercado libre', 'movistar', 'paris', 'pcfactory', 'ripley', 'wom'],\n",
              "       dtype=object),\n",
              " array([ 6, 12, 12, 10,  6, 14, 13, 12,  3, 10,  6]))"
            ]
          },
          "execution_count": 40,
          "metadata": {},
          "output_type": "execute_result"
        }
      ],
      "source": [
        "import numpy as np\n",
        "temp, temp1=np.unique(productos['tienda'], return_counts=True)\n",
        "temp, temp1"
      ]
    },
    {
      "cell_type": "code",
      "execution_count": 41,
      "metadata": {
        "colab": {
          "base_uri": "https://localhost:8080/",
          "height": 637
        },
        "id": "EyYF1OPebrE7",
        "outputId": "65f342bb-9b42-4a7b-b996-48b480bbf999"
      },
      "outputs": [
        {
          "data": {
            "application/vnd.plotly.v1+json": {
              "config": {
                "plotlyServerURL": "https://plot.ly"
              },
              "data": [
                {
                  "fill": "toself",
                  "marker": {
                    "color": "#dcb6a8"
                  },
                  "name": "Cantidad",
                  "r": [
                    6,
                    12,
                    12,
                    10,
                    6,
                    14,
                    13,
                    12,
                    3,
                    10,
                    6,
                    6
                  ],
                  "theta": [
                    "claro",
                    "falabella",
                    "hites",
                    "la polar",
                    "lider",
                    "mercado libre",
                    "movistar",
                    "paris",
                    "pcfactory",
                    "ripley",
                    "wom",
                    "claro"
                  ],
                  "type": "scatterpolar"
                }
              ],
              "layout": {
                "height": 600,
                "polar": {
                  "radialaxis": {
                    "range": [
                      0,
                      14
                    ],
                    "visible": true
                  }
                },
                "showlegend": true,
                "template": {
                  "data": {
                    "bar": [
                      {
                        "error_x": {
                          "color": "#2a3f5f"
                        },
                        "error_y": {
                          "color": "#2a3f5f"
                        },
                        "marker": {
                          "line": {
                            "color": "#E5ECF6",
                            "width": 0.5
                          },
                          "pattern": {
                            "fillmode": "overlay",
                            "size": 10,
                            "solidity": 0.2
                          }
                        },
                        "type": "bar"
                      }
                    ],
                    "barpolar": [
                      {
                        "marker": {
                          "line": {
                            "color": "#E5ECF6",
                            "width": 0.5
                          },
                          "pattern": {
                            "fillmode": "overlay",
                            "size": 10,
                            "solidity": 0.2
                          }
                        },
                        "type": "barpolar"
                      }
                    ],
                    "carpet": [
                      {
                        "aaxis": {
                          "endlinecolor": "#2a3f5f",
                          "gridcolor": "white",
                          "linecolor": "white",
                          "minorgridcolor": "white",
                          "startlinecolor": "#2a3f5f"
                        },
                        "baxis": {
                          "endlinecolor": "#2a3f5f",
                          "gridcolor": "white",
                          "linecolor": "white",
                          "minorgridcolor": "white",
                          "startlinecolor": "#2a3f5f"
                        },
                        "type": "carpet"
                      }
                    ],
                    "choropleth": [
                      {
                        "colorbar": {
                          "outlinewidth": 0,
                          "ticks": ""
                        },
                        "type": "choropleth"
                      }
                    ],
                    "contour": [
                      {
                        "colorbar": {
                          "outlinewidth": 0,
                          "ticks": ""
                        },
                        "colorscale": [
                          [
                            0,
                            "#0d0887"
                          ],
                          [
                            0.1111111111111111,
                            "#46039f"
                          ],
                          [
                            0.2222222222222222,
                            "#7201a8"
                          ],
                          [
                            0.3333333333333333,
                            "#9c179e"
                          ],
                          [
                            0.4444444444444444,
                            "#bd3786"
                          ],
                          [
                            0.5555555555555556,
                            "#d8576b"
                          ],
                          [
                            0.6666666666666666,
                            "#ed7953"
                          ],
                          [
                            0.7777777777777778,
                            "#fb9f3a"
                          ],
                          [
                            0.8888888888888888,
                            "#fdca26"
                          ],
                          [
                            1,
                            "#f0f921"
                          ]
                        ],
                        "type": "contour"
                      }
                    ],
                    "contourcarpet": [
                      {
                        "colorbar": {
                          "outlinewidth": 0,
                          "ticks": ""
                        },
                        "type": "contourcarpet"
                      }
                    ],
                    "heatmap": [
                      {
                        "colorbar": {
                          "outlinewidth": 0,
                          "ticks": ""
                        },
                        "colorscale": [
                          [
                            0,
                            "#0d0887"
                          ],
                          [
                            0.1111111111111111,
                            "#46039f"
                          ],
                          [
                            0.2222222222222222,
                            "#7201a8"
                          ],
                          [
                            0.3333333333333333,
                            "#9c179e"
                          ],
                          [
                            0.4444444444444444,
                            "#bd3786"
                          ],
                          [
                            0.5555555555555556,
                            "#d8576b"
                          ],
                          [
                            0.6666666666666666,
                            "#ed7953"
                          ],
                          [
                            0.7777777777777778,
                            "#fb9f3a"
                          ],
                          [
                            0.8888888888888888,
                            "#fdca26"
                          ],
                          [
                            1,
                            "#f0f921"
                          ]
                        ],
                        "type": "heatmap"
                      }
                    ],
                    "heatmapgl": [
                      {
                        "colorbar": {
                          "outlinewidth": 0,
                          "ticks": ""
                        },
                        "colorscale": [
                          [
                            0,
                            "#0d0887"
                          ],
                          [
                            0.1111111111111111,
                            "#46039f"
                          ],
                          [
                            0.2222222222222222,
                            "#7201a8"
                          ],
                          [
                            0.3333333333333333,
                            "#9c179e"
                          ],
                          [
                            0.4444444444444444,
                            "#bd3786"
                          ],
                          [
                            0.5555555555555556,
                            "#d8576b"
                          ],
                          [
                            0.6666666666666666,
                            "#ed7953"
                          ],
                          [
                            0.7777777777777778,
                            "#fb9f3a"
                          ],
                          [
                            0.8888888888888888,
                            "#fdca26"
                          ],
                          [
                            1,
                            "#f0f921"
                          ]
                        ],
                        "type": "heatmapgl"
                      }
                    ],
                    "histogram": [
                      {
                        "marker": {
                          "pattern": {
                            "fillmode": "overlay",
                            "size": 10,
                            "solidity": 0.2
                          }
                        },
                        "type": "histogram"
                      }
                    ],
                    "histogram2d": [
                      {
                        "colorbar": {
                          "outlinewidth": 0,
                          "ticks": ""
                        },
                        "colorscale": [
                          [
                            0,
                            "#0d0887"
                          ],
                          [
                            0.1111111111111111,
                            "#46039f"
                          ],
                          [
                            0.2222222222222222,
                            "#7201a8"
                          ],
                          [
                            0.3333333333333333,
                            "#9c179e"
                          ],
                          [
                            0.4444444444444444,
                            "#bd3786"
                          ],
                          [
                            0.5555555555555556,
                            "#d8576b"
                          ],
                          [
                            0.6666666666666666,
                            "#ed7953"
                          ],
                          [
                            0.7777777777777778,
                            "#fb9f3a"
                          ],
                          [
                            0.8888888888888888,
                            "#fdca26"
                          ],
                          [
                            1,
                            "#f0f921"
                          ]
                        ],
                        "type": "histogram2d"
                      }
                    ],
                    "histogram2dcontour": [
                      {
                        "colorbar": {
                          "outlinewidth": 0,
                          "ticks": ""
                        },
                        "colorscale": [
                          [
                            0,
                            "#0d0887"
                          ],
                          [
                            0.1111111111111111,
                            "#46039f"
                          ],
                          [
                            0.2222222222222222,
                            "#7201a8"
                          ],
                          [
                            0.3333333333333333,
                            "#9c179e"
                          ],
                          [
                            0.4444444444444444,
                            "#bd3786"
                          ],
                          [
                            0.5555555555555556,
                            "#d8576b"
                          ],
                          [
                            0.6666666666666666,
                            "#ed7953"
                          ],
                          [
                            0.7777777777777778,
                            "#fb9f3a"
                          ],
                          [
                            0.8888888888888888,
                            "#fdca26"
                          ],
                          [
                            1,
                            "#f0f921"
                          ]
                        ],
                        "type": "histogram2dcontour"
                      }
                    ],
                    "mesh3d": [
                      {
                        "colorbar": {
                          "outlinewidth": 0,
                          "ticks": ""
                        },
                        "type": "mesh3d"
                      }
                    ],
                    "parcoords": [
                      {
                        "line": {
                          "colorbar": {
                            "outlinewidth": 0,
                            "ticks": ""
                          }
                        },
                        "type": "parcoords"
                      }
                    ],
                    "pie": [
                      {
                        "automargin": true,
                        "type": "pie"
                      }
                    ],
                    "scatter": [
                      {
                        "fillpattern": {
                          "fillmode": "overlay",
                          "size": 10,
                          "solidity": 0.2
                        },
                        "type": "scatter"
                      }
                    ],
                    "scatter3d": [
                      {
                        "line": {
                          "colorbar": {
                            "outlinewidth": 0,
                            "ticks": ""
                          }
                        },
                        "marker": {
                          "colorbar": {
                            "outlinewidth": 0,
                            "ticks": ""
                          }
                        },
                        "type": "scatter3d"
                      }
                    ],
                    "scattercarpet": [
                      {
                        "marker": {
                          "colorbar": {
                            "outlinewidth": 0,
                            "ticks": ""
                          }
                        },
                        "type": "scattercarpet"
                      }
                    ],
                    "scattergeo": [
                      {
                        "marker": {
                          "colorbar": {
                            "outlinewidth": 0,
                            "ticks": ""
                          }
                        },
                        "type": "scattergeo"
                      }
                    ],
                    "scattergl": [
                      {
                        "marker": {
                          "colorbar": {
                            "outlinewidth": 0,
                            "ticks": ""
                          }
                        },
                        "type": "scattergl"
                      }
                    ],
                    "scattermapbox": [
                      {
                        "marker": {
                          "colorbar": {
                            "outlinewidth": 0,
                            "ticks": ""
                          }
                        },
                        "type": "scattermapbox"
                      }
                    ],
                    "scatterpolar": [
                      {
                        "marker": {
                          "colorbar": {
                            "outlinewidth": 0,
                            "ticks": ""
                          }
                        },
                        "type": "scatterpolar"
                      }
                    ],
                    "scatterpolargl": [
                      {
                        "marker": {
                          "colorbar": {
                            "outlinewidth": 0,
                            "ticks": ""
                          }
                        },
                        "type": "scatterpolargl"
                      }
                    ],
                    "scatterternary": [
                      {
                        "marker": {
                          "colorbar": {
                            "outlinewidth": 0,
                            "ticks": ""
                          }
                        },
                        "type": "scatterternary"
                      }
                    ],
                    "surface": [
                      {
                        "colorbar": {
                          "outlinewidth": 0,
                          "ticks": ""
                        },
                        "colorscale": [
                          [
                            0,
                            "#0d0887"
                          ],
                          [
                            0.1111111111111111,
                            "#46039f"
                          ],
                          [
                            0.2222222222222222,
                            "#7201a8"
                          ],
                          [
                            0.3333333333333333,
                            "#9c179e"
                          ],
                          [
                            0.4444444444444444,
                            "#bd3786"
                          ],
                          [
                            0.5555555555555556,
                            "#d8576b"
                          ],
                          [
                            0.6666666666666666,
                            "#ed7953"
                          ],
                          [
                            0.7777777777777778,
                            "#fb9f3a"
                          ],
                          [
                            0.8888888888888888,
                            "#fdca26"
                          ],
                          [
                            1,
                            "#f0f921"
                          ]
                        ],
                        "type": "surface"
                      }
                    ],
                    "table": [
                      {
                        "cells": {
                          "fill": {
                            "color": "#EBF0F8"
                          },
                          "line": {
                            "color": "white"
                          }
                        },
                        "header": {
                          "fill": {
                            "color": "#C8D4E3"
                          },
                          "line": {
                            "color": "white"
                          }
                        },
                        "type": "table"
                      }
                    ]
                  },
                  "layout": {
                    "annotationdefaults": {
                      "arrowcolor": "#2a3f5f",
                      "arrowhead": 0,
                      "arrowwidth": 1
                    },
                    "autotypenumbers": "strict",
                    "coloraxis": {
                      "colorbar": {
                        "outlinewidth": 0,
                        "ticks": ""
                      }
                    },
                    "colorscale": {
                      "diverging": [
                        [
                          0,
                          "#8e0152"
                        ],
                        [
                          0.1,
                          "#c51b7d"
                        ],
                        [
                          0.2,
                          "#de77ae"
                        ],
                        [
                          0.3,
                          "#f1b6da"
                        ],
                        [
                          0.4,
                          "#fde0ef"
                        ],
                        [
                          0.5,
                          "#f7f7f7"
                        ],
                        [
                          0.6,
                          "#e6f5d0"
                        ],
                        [
                          0.7,
                          "#b8e186"
                        ],
                        [
                          0.8,
                          "#7fbc41"
                        ],
                        [
                          0.9,
                          "#4d9221"
                        ],
                        [
                          1,
                          "#276419"
                        ]
                      ],
                      "sequential": [
                        [
                          0,
                          "#0d0887"
                        ],
                        [
                          0.1111111111111111,
                          "#46039f"
                        ],
                        [
                          0.2222222222222222,
                          "#7201a8"
                        ],
                        [
                          0.3333333333333333,
                          "#9c179e"
                        ],
                        [
                          0.4444444444444444,
                          "#bd3786"
                        ],
                        [
                          0.5555555555555556,
                          "#d8576b"
                        ],
                        [
                          0.6666666666666666,
                          "#ed7953"
                        ],
                        [
                          0.7777777777777778,
                          "#fb9f3a"
                        ],
                        [
                          0.8888888888888888,
                          "#fdca26"
                        ],
                        [
                          1,
                          "#f0f921"
                        ]
                      ],
                      "sequentialminus": [
                        [
                          0,
                          "#0d0887"
                        ],
                        [
                          0.1111111111111111,
                          "#46039f"
                        ],
                        [
                          0.2222222222222222,
                          "#7201a8"
                        ],
                        [
                          0.3333333333333333,
                          "#9c179e"
                        ],
                        [
                          0.4444444444444444,
                          "#bd3786"
                        ],
                        [
                          0.5555555555555556,
                          "#d8576b"
                        ],
                        [
                          0.6666666666666666,
                          "#ed7953"
                        ],
                        [
                          0.7777777777777778,
                          "#fb9f3a"
                        ],
                        [
                          0.8888888888888888,
                          "#fdca26"
                        ],
                        [
                          1,
                          "#f0f921"
                        ]
                      ]
                    },
                    "colorway": [
                      "#636efa",
                      "#EF553B",
                      "#00cc96",
                      "#ab63fa",
                      "#FFA15A",
                      "#19d3f3",
                      "#FF6692",
                      "#B6E880",
                      "#FF97FF",
                      "#FECB52"
                    ],
                    "font": {
                      "color": "#2a3f5f"
                    },
                    "geo": {
                      "bgcolor": "white",
                      "lakecolor": "white",
                      "landcolor": "#E5ECF6",
                      "showlakes": true,
                      "showland": true,
                      "subunitcolor": "white"
                    },
                    "hoverlabel": {
                      "align": "left"
                    },
                    "hovermode": "closest",
                    "mapbox": {
                      "style": "light"
                    },
                    "paper_bgcolor": "white",
                    "plot_bgcolor": "#E5ECF6",
                    "polar": {
                      "angularaxis": {
                        "gridcolor": "white",
                        "linecolor": "white",
                        "ticks": ""
                      },
                      "bgcolor": "#E5ECF6",
                      "radialaxis": {
                        "gridcolor": "white",
                        "linecolor": "white",
                        "ticks": ""
                      }
                    },
                    "scene": {
                      "xaxis": {
                        "backgroundcolor": "#E5ECF6",
                        "gridcolor": "white",
                        "gridwidth": 2,
                        "linecolor": "white",
                        "showbackground": true,
                        "ticks": "",
                        "zerolinecolor": "white"
                      },
                      "yaxis": {
                        "backgroundcolor": "#E5ECF6",
                        "gridcolor": "white",
                        "gridwidth": 2,
                        "linecolor": "white",
                        "showbackground": true,
                        "ticks": "",
                        "zerolinecolor": "white"
                      },
                      "zaxis": {
                        "backgroundcolor": "#E5ECF6",
                        "gridcolor": "white",
                        "gridwidth": 2,
                        "linecolor": "white",
                        "showbackground": true,
                        "ticks": "",
                        "zerolinecolor": "white"
                      }
                    },
                    "shapedefaults": {
                      "line": {
                        "color": "#2a3f5f"
                      }
                    },
                    "ternary": {
                      "aaxis": {
                        "gridcolor": "white",
                        "linecolor": "white",
                        "ticks": ""
                      },
                      "baxis": {
                        "gridcolor": "white",
                        "linecolor": "white",
                        "ticks": ""
                      },
                      "bgcolor": "#E5ECF6",
                      "caxis": {
                        "gridcolor": "white",
                        "linecolor": "white",
                        "ticks": ""
                      }
                    },
                    "title": {
                      "x": 0.05
                    },
                    "xaxis": {
                      "automargin": true,
                      "gridcolor": "white",
                      "linecolor": "white",
                      "ticks": "",
                      "title": {
                        "standoff": 15
                      },
                      "zerolinecolor": "white",
                      "zerolinewidth": 2
                    },
                    "yaxis": {
                      "automargin": true,
                      "gridcolor": "white",
                      "linecolor": "white",
                      "ticks": "",
                      "title": {
                        "standoff": 15
                      },
                      "zerolinecolor": "white",
                      "zerolinewidth": 2
                    }
                  }
                },
                "title": {
                  "text": "Distribución de tiendas"
                },
                "width": 800
              }
            }
          },
          "metadata": {},
          "output_type": "display_data"
        }
      ],
      "source": [
        "import pandas as pd\n",
        "import plotly.graph_objects as go\n",
        "\n",
        "df_temp = pd.DataFrame({'Col A': temp,\n",
        "                        'Col B': temp1})\n",
        "\n",
        "fig = go.Figure()\n",
        "\n",
        "r_values = df_temp['Col B'].tolist() + [df_temp['Col B'][0]]\n",
        "theta_values = df_temp['Col A'].tolist() + [df_temp['Col A'][0]]\n",
        "\n",
        "fig.add_trace(go.Scatterpolar(\n",
        "    r=r_values,\n",
        "    theta=theta_values,\n",
        "    fill='toself',\n",
        "    marker=dict(color='#dcb6a8'),\n",
        "    name='Cantidad'\n",
        "))\n",
        "\n",
        "fig.update_layout(\n",
        "    polar=dict(\n",
        "        radialaxis=dict(\n",
        "            visible=True,\n",
        "            range=[0, max(df_temp['Col B'])]\n",
        "        ),\n",
        "    ),\n",
        "    showlegend=True,\n",
        "    title=\"Distribución de tiendas\",\n",
        "    width=800,  # Ancho de la imagen\n",
        "    height=600\n",
        ")\n",
        "\n",
        "fig.show()\n"
      ]
    },
    {
      "cell_type": "code",
      "execution_count": 42,
      "metadata": {
        "colab": {
          "base_uri": "https://localhost:8080/",
          "height": 565
        },
        "id": "LFApl0gtbrE7",
        "outputId": "44b9cf01-e3e8-4f30-a5f6-96808e665979"
      },
      "outputs": [
        {
          "data": {
            "image/png": "[encoded data removed]",
            "text/plain": [
              "<Figure size 1400x600 with 1 Axes>"
            ]
          },
          "metadata": {},
          "output_type": "display_data"
        }
      ],
      "source": [
        "import matplotlib.pyplot as plt\n",
        "import seaborn as sns\n",
        "\n",
        "plt.figure(figsize=(14, 6))\n",
        "\n",
        "plt.subplot(1, 2, 1)\n",
        "sns.histplot(productos['category'], color='#f2e5dd', bins=20)\n",
        "plt.title('Distribución de categorias')\n",
        "plt.xlabel('categorias')\n",
        "\n",
        "plt.show()"
      ]
    },
    {
      "cell_type": "markdown",
      "metadata": {
        "id": "uw6eWNBpbrE7"
      },
      "source": [
        "Se realiza un análisis de la distribución de los precios para identificar las tendencias predominantes."
      ]
    },
    {
      "cell_type": "code",
      "execution_count": 43,
      "metadata": {
        "colab": {
          "base_uri": "https://localhost:8080/",
          "height": 296
        },
        "id": "yU4Cf-bzbrE7",
        "outputId": "8a463efb-b5e5-4d08-f01c-57cb1ca76f0b"
      },
      "outputs": [
        {
          "data": {
            "image/png": "[encoded data removed]",
            "text/plain": [
              "<Figure size 1400x600 with 2 Axes>"
            ]
          },
          "metadata": {},
          "output_type": "display_data"
        }
      ],
      "source": [
        "import matplotlib.pyplot as plt\n",
        "import seaborn as sns\n",
        "\n",
        "mediana_precio_normal = productos['precio_normal'].median()\n",
        "mediana_precio_oferta = productos['precio_oferta'].median()\n",
        "\n",
        "# Moda\n",
        "moda_precio_normal = productos['precio_normal'].mode()[0]\n",
        "moda_precio_oferta = productos['precio_oferta'].mode()[0]\n",
        "\n",
        "# Visualización de distribuciones de precios\n",
        "plt.figure(figsize=(14, 6))\n",
        "\n",
        "plt.subplot(1, 2, 1)\n",
        "sns.histplot(productos['precio_normal'], kde=True, color='#dcb6a8', bins=20)\n",
        "plt.title('Distribución de Precio Normal')\n",
        "plt.xlabel('Precio Normal')\n",
        "\n",
        "plt.subplot(1, 2, 2)\n",
        "sns.histplot(productos['precio_oferta'], kde=True, color='#dcb6a8', bins=20)\n",
        "plt.title('Distribución de Precio de Oferta')\n",
        "plt.xlabel('Precio de Oferta')\n",
        "\n",
        "plt.tight_layout()\n",
        "plt.show()"
      ]
    },
    {
      "cell_type": "markdown",
      "metadata": {},
      "source": [
        "Se realiza un gráfico de caja que muestra la distribución de los precios de oferta de iPhones según su categoría. Se observa que las categorías \"Pro Max\" y \"Pro\" tienen los precios más altos, con una menor dispersión, mientras que la categoría \"Standard\" presenta una mayor variabilidad en los precios, pero con valores significativamente más bajos. La categoría \"Plus\" muestra precios de oferta comparativamente bajos y menos dispersos. Esta visualización se realizó para resaltar las diferencias en el rango de precios según la gama del producto"
      ]
    },
    {
      "cell_type": "code",
      "execution_count": 44,
      "metadata": {
        "colab": {
          "base_uri": "https://localhost:8080/",
          "height": 532
        },
        "id": "jWqxU4_abrE8",
        "outputId": "5b9bc5f5-ff4d-4c48-fd85-ef3be89ecc3e"
      },
      "outputs": [
        {
          "data": {
            "image/png": "[encoded data removed]",
            "text/plain": [
              "<Figure size 1000x600 with 1 Axes>"
            ]
          },
          "metadata": {},
          "output_type": "display_data"
        }
      ],
      "source": [
        "# Boxplot por categoría\n",
        "plt.figure(figsize=(10, 6))\n",
        "sns.boxplot(x='category', y='precio_oferta', data=productos,color='#c49191')\n",
        "plt.title('Distribución de Precio de Oferta por Categoría')\n",
        "plt.xlabel('Categoría')\n",
        "plt.ylabel('Precio de Oferta')\n",
        "plt.show()\n"
      ]
    },
    {
      "cell_type": "code",
      "execution_count": 45,
      "metadata": {
        "colab": {
          "base_uri": "https://localhost:8080/",
          "height": 1000
        },
        "id": "gK1tgcr-brE8",
        "outputId": "6e68a1e0-f84e-4b7b-fddc-f573fb01e1a6"
      },
      "outputs": [
        {
          "data": {
            "text/html": [
              "<div>\n",
              "<style scoped>\n",
              "    .dataframe tbody tr th:only-of-type {\n",
              "        vertical-align: middle;\n",
              "    }\n",
              "\n",
              "    .dataframe tbody tr th {\n",
              "        vertical-align: top;\n",
              "    }\n",
              "\n",
              "    .dataframe thead th {\n",
              "        text-align: right;\n",
              "    }\n",
              "</style>\n",
              "<table border=\"1\" class=\"dataframe\">\n",
              "  <thead>\n",
              "    <tr style=\"text-align: right;\">\n",
              "      <th></th>\n",
              "      <th>modelo</th>\n",
              "      <th>precio_normal</th>\n",
              "      <th>precio_oferta</th>\n",
              "    </tr>\n",
              "  </thead>\n",
              "  <tbody>\n",
              "    <tr>\n",
              "      <th>0</th>\n",
              "      <td>iphone 11 128gb</td>\n",
              "      <td>579,990</td>\n",
              "      <td>427,490</td>\n",
              "    </tr>\n",
              "    <tr>\n",
              "      <th>1</th>\n",
              "      <td>iphone 11 64gb</td>\n",
              "      <td>557,490</td>\n",
              "      <td>371,854</td>\n",
              "    </tr>\n",
              "    <tr>\n",
              "      <th>2</th>\n",
              "      <td>iphone 12 128gb</td>\n",
              "      <td>716,657</td>\n",
              "      <td>515,992</td>\n",
              "    </tr>\n",
              "    <tr>\n",
              "      <th>3</th>\n",
              "      <td>iphone 12 64gb</td>\n",
              "      <td>749,990</td>\n",
              "      <td>564,990</td>\n",
              "    </tr>\n",
              "    <tr>\n",
              "      <th>4</th>\n",
              "      <td>iphone 13 128gb</td>\n",
              "      <td>774,990</td>\n",
              "      <td>615,462</td>\n",
              "    </tr>\n",
              "    <tr>\n",
              "      <th>5</th>\n",
              "      <td>iphone 13 256gb</td>\n",
              "      <td>942,490</td>\n",
              "      <td>717,490</td>\n",
              "    </tr>\n",
              "    <tr>\n",
              "      <th>6</th>\n",
              "      <td>iphone 13 512gb</td>\n",
              "      <td>1,199,990</td>\n",
              "      <td>934,990</td>\n",
              "    </tr>\n",
              "    <tr>\n",
              "      <th>7</th>\n",
              "      <td>iphone 13 pro 1tb</td>\n",
              "      <td>1,649,990</td>\n",
              "      <td>1,649,990</td>\n",
              "    </tr>\n",
              "    <tr>\n",
              "      <th>8</th>\n",
              "      <td>iphone 14 128gb</td>\n",
              "      <td>882,212</td>\n",
              "      <td>726,648</td>\n",
              "    </tr>\n",
              "    <tr>\n",
              "      <th>9</th>\n",
              "      <td>iphone 14 256gb</td>\n",
              "      <td>1,043,323</td>\n",
              "      <td>786,323</td>\n",
              "    </tr>\n",
              "    <tr>\n",
              "      <th>10</th>\n",
              "      <td>iphone 14 512gb</td>\n",
              "      <td>1,369,990</td>\n",
              "      <td>1,039,990</td>\n",
              "    </tr>\n",
              "    <tr>\n",
              "      <th>11</th>\n",
              "      <td>iphone 14 plus 128gb</td>\n",
              "      <td>1,159,990</td>\n",
              "      <td>949,900</td>\n",
              "    </tr>\n",
              "    <tr>\n",
              "      <th>12</th>\n",
              "      <td>iphone 14 plus 256gb</td>\n",
              "      <td>1,239,990</td>\n",
              "      <td>894,990</td>\n",
              "    </tr>\n",
              "    <tr>\n",
              "      <th>13</th>\n",
              "      <td>iphone 14 plus 512gb</td>\n",
              "      <td>1,499,990</td>\n",
              "      <td>1,399,990</td>\n",
              "    </tr>\n",
              "    <tr>\n",
              "      <th>14</th>\n",
              "      <td>iphone 14 pro 128gb</td>\n",
              "      <td>1,299,990</td>\n",
              "      <td>1,179,900</td>\n",
              "    </tr>\n",
              "    <tr>\n",
              "      <th>15</th>\n",
              "      <td>iphone 14 pro max 128gb</td>\n",
              "      <td>1,439,990</td>\n",
              "      <td>1,299,900</td>\n",
              "    </tr>\n",
              "    <tr>\n",
              "      <th>16</th>\n",
              "      <td>iphone 15 128gb</td>\n",
              "      <td>967,768</td>\n",
              "      <td>859,036</td>\n",
              "    </tr>\n",
              "    <tr>\n",
              "      <th>17</th>\n",
              "      <td>iphone 15 256gb</td>\n",
              "      <td>1,024,990</td>\n",
              "      <td>834,990</td>\n",
              "    </tr>\n",
              "    <tr>\n",
              "      <th>18</th>\n",
              "      <td>iphone 15 512gb</td>\n",
              "      <td>1,383,323</td>\n",
              "      <td>893,323</td>\n",
              "    </tr>\n",
              "    <tr>\n",
              "      <th>19</th>\n",
              "      <td>iphone 15 negro 256gb</td>\n",
              "      <td>1,199,990</td>\n",
              "      <td>979,990</td>\n",
              "    </tr>\n",
              "    <tr>\n",
              "      <th>20</th>\n",
              "      <td>iphone 15 plus 128gb</td>\n",
              "      <td>1,399,960</td>\n",
              "      <td>983,323</td>\n",
              "    </tr>\n",
              "    <tr>\n",
              "      <th>21</th>\n",
              "      <td>iphone 15 plus 256gb</td>\n",
              "      <td>1,309,990</td>\n",
              "      <td>600,828</td>\n",
              "    </tr>\n",
              "    <tr>\n",
              "      <th>22</th>\n",
              "      <td>iphone 15 plus 512gb</td>\n",
              "      <td>1,523,090</td>\n",
              "      <td>1,269,108</td>\n",
              "    </tr>\n",
              "    <tr>\n",
              "      <th>23</th>\n",
              "      <td>iphone 15 pro 128gb</td>\n",
              "      <td>1,352,468</td>\n",
              "      <td>1,092,692</td>\n",
              "    </tr>\n",
              "    <tr>\n",
              "      <th>24</th>\n",
              "      <td>iphone 15 pro 256gb</td>\n",
              "      <td>1,433,323</td>\n",
              "      <td>1,089,990</td>\n",
              "    </tr>\n",
              "    <tr>\n",
              "      <th>25</th>\n",
              "      <td>iphone 15 pro 512gb</td>\n",
              "      <td>1,702,490</td>\n",
              "      <td>1,407,240</td>\n",
              "    </tr>\n",
              "    <tr>\n",
              "      <th>26</th>\n",
              "      <td>iphone 15 pro max  256gb</td>\n",
              "      <td>1,499,990</td>\n",
              "      <td>1,348,800</td>\n",
              "    </tr>\n",
              "    <tr>\n",
              "      <th>27</th>\n",
              "      <td>iphone 15 pro max 256gb</td>\n",
              "      <td>1,491,347</td>\n",
              "      <td>1,295,761</td>\n",
              "    </tr>\n",
              "    <tr>\n",
              "      <th>28</th>\n",
              "      <td>iphone 15 pro max 512gb</td>\n",
              "      <td>1,649,990</td>\n",
              "      <td>1,408,788</td>\n",
              "    </tr>\n",
              "    <tr>\n",
              "      <th>29</th>\n",
              "      <td>iphone 13 128gb</td>\n",
              "      <td>619,990</td>\n",
              "      <td>599,990</td>\n",
              "    </tr>\n",
              "    <tr>\n",
              "      <th>30</th>\n",
              "      <td>iphone 15 pro 128gb</td>\n",
              "      <td>1,149,990</td>\n",
              "      <td>1,049,990</td>\n",
              "    </tr>\n",
              "    <tr>\n",
              "      <th>31</th>\n",
              "      <td>iphone 15 pro 256gb</td>\n",
              "      <td>1,199,990</td>\n",
              "      <td>1,199,990</td>\n",
              "    </tr>\n",
              "    <tr>\n",
              "      <th>32</th>\n",
              "      <td>iphone 15 pro max 256gb</td>\n",
              "      <td>1,379,990</td>\n",
              "      <td>1,289,990</td>\n",
              "    </tr>\n",
              "    <tr>\n",
              "      <th>33</th>\n",
              "      <td>iphone 15 pro max 512gb</td>\n",
              "      <td>1,499,990</td>\n",
              "      <td>1,499,990</td>\n",
              "    </tr>\n",
              "  </tbody>\n",
              "</table>\n",
              "</div>"
            ],
            "text/plain": [
              "                      modelo  precio_normal  precio_oferta\n",
              "0            iphone 11 128gb        579,990        427,490\n",
              "1             iphone 11 64gb        557,490        371,854\n",
              "2            iphone 12 128gb        716,657        515,992\n",
              "3             iphone 12 64gb        749,990        564,990\n",
              "4            iphone 13 128gb        774,990        615,462\n",
              "5            iphone 13 256gb        942,490        717,490\n",
              "6            iphone 13 512gb      1,199,990        934,990\n",
              "7          iphone 13 pro 1tb      1,649,990      1,649,990\n",
              "8            iphone 14 128gb        882,212        726,648\n",
              "9            iphone 14 256gb      1,043,323        786,323\n",
              "10           iphone 14 512gb      1,369,990      1,039,990\n",
              "11      iphone 14 plus 128gb      1,159,990        949,900\n",
              "12      iphone 14 plus 256gb      1,239,990        894,990\n",
              "13      iphone 14 plus 512gb      1,499,990      1,399,990\n",
              "14       iphone 14 pro 128gb      1,299,990      1,179,900\n",
              "15   iphone 14 pro max 128gb      1,439,990      1,299,900\n",
              "16           iphone 15 128gb        967,768        859,036\n",
              "17           iphone 15 256gb      1,024,990        834,990\n",
              "18           iphone 15 512gb      1,383,323        893,323\n",
              "19     iphone 15 negro 256gb      1,199,990        979,990\n",
              "20      iphone 15 plus 128gb      1,399,960        983,323\n",
              "21      iphone 15 plus 256gb      1,309,990        600,828\n",
              "22      iphone 15 plus 512gb      1,523,090      1,269,108\n",
              "23       iphone 15 pro 128gb      1,352,468      1,092,692\n",
              "24       iphone 15 pro 256gb      1,433,323      1,089,990\n",
              "25       iphone 15 pro 512gb      1,702,490      1,407,240\n",
              "26  iphone 15 pro max  256gb      1,499,990      1,348,800\n",
              "27   iphone 15 pro max 256gb      1,491,347      1,295,761\n",
              "28   iphone 15 pro max 512gb      1,649,990      1,408,788\n",
              "29           iphone 13 128gb        619,990        599,990\n",
              "30       iphone 15 pro 128gb      1,149,990      1,049,990\n",
              "31       iphone 15 pro 256gb      1,199,990      1,199,990\n",
              "32   iphone 15 pro max 256gb      1,379,990      1,289,990\n",
              "33   iphone 15 pro max 512gb      1,499,990      1,499,990"
            ]
          },
          "execution_count": 45,
          "metadata": {},
          "output_type": "execute_result"
        }
      ],
      "source": [
        "tabla_promedios = productos.groupby('modelo')[['precio_normal', 'precio_oferta']].mean().reset_index()\n",
        "\n",
        "tabla_promedios"
      ]
    },
    {
      "cell_type": "markdown",
      "metadata": {},
      "source": [
        "Análisis de Ofertas por Tienda: precio promedio de oferta por tienda"
      ]
    },
    {
      "cell_type": "code",
      "execution_count": 46,
      "metadata": {
        "colab": {
          "base_uri": "https://localhost:8080/",
          "height": 460
        },
        "id": "hJDVgKJKbrE8",
        "outputId": "5e28d967-89b4-4405-e27c-fa7f25b6fe9a"
      },
      "outputs": [
        {
          "data": {
            "text/plain": [
              "tienda\n",
              "falabella         727,490\n",
              "lider             763,323\n",
              "hites             862,490\n",
              "wom               868,400\n",
              "claro             868,877\n",
              "paris             869,157\n",
              "movistar          923,452\n",
              "la polar          954,990\n",
              "mercado libre     961,354\n",
              "ripley            966,990\n",
              "pcfactory       1,276,990\n",
              "Name: precio_oferta, dtype: float64"
            ]
          },
          "execution_count": 46,
          "metadata": {},
          "output_type": "execute_result"
        }
      ],
      "source": [
        "promedio_ofertas_tienda = productos.groupby('tienda')['precio_oferta'].mean().sort_values(ascending=True)\n",
        "promedio_ofertas_tienda"
      ]
    },
    {
      "cell_type": "markdown",
      "metadata": {},
      "source": [
        "Comparación de Precios de Oferta por Modelo en Diferentes Tiendas"
      ]
    },
    {
      "cell_type": "code",
      "execution_count": 47,
      "metadata": {
        "colab": {
          "base_uri": "https://localhost:8080/",
          "height": 1000
        },
        "id": "9MuNXWjRbrE8",
        "outputId": "d5cb74d2-1d9f-4a36-fb27-3f4419da8ab8"
      },
      "outputs": [
        {
          "data": {
            "text/html": [
              "<div>\n",
              "<style scoped>\n",
              "    .dataframe tbody tr th:only-of-type {\n",
              "        vertical-align: middle;\n",
              "    }\n",
              "\n",
              "    .dataframe tbody tr th {\n",
              "        vertical-align: top;\n",
              "    }\n",
              "\n",
              "    .dataframe thead th {\n",
              "        text-align: right;\n",
              "    }\n",
              "</style>\n",
              "<table border=\"1\" class=\"dataframe\">\n",
              "  <thead>\n",
              "    <tr style=\"text-align: right;\">\n",
              "      <th>tienda</th>\n",
              "      <th>claro</th>\n",
              "      <th>falabella</th>\n",
              "      <th>hites</th>\n",
              "      <th>la polar</th>\n",
              "      <th>lider</th>\n",
              "      <th>mercado libre</th>\n",
              "      <th>movistar</th>\n",
              "      <th>paris</th>\n",
              "      <th>pcfactory</th>\n",
              "      <th>ripley</th>\n",
              "      <th>wom</th>\n",
              "      <th>Tienda_Mejor_Precio</th>\n",
              "    </tr>\n",
              "    <tr>\n",
              "      <th>modelo</th>\n",
              "      <th></th>\n",
              "      <th></th>\n",
              "      <th></th>\n",
              "      <th></th>\n",
              "      <th></th>\n",
              "      <th></th>\n",
              "      <th></th>\n",
              "      <th></th>\n",
              "      <th></th>\n",
              "      <th></th>\n",
              "      <th></th>\n",
              "      <th></th>\n",
              "    </tr>\n",
              "  </thead>\n",
              "  <tbody>\n",
              "    <tr>\n",
              "      <th>iphone 11 128gb</th>\n",
              "      <td>NaN</td>\n",
              "      <td>399,990</td>\n",
              "      <td>NaN</td>\n",
              "      <td>NaN</td>\n",
              "      <td>NaN</td>\n",
              "      <td>NaN</td>\n",
              "      <td>454,990</td>\n",
              "      <td>NaN</td>\n",
              "      <td>NaN</td>\n",
              "      <td>NaN</td>\n",
              "      <td>NaN</td>\n",
              "      <td>falabella</td>\n",
              "    </tr>\n",
              "    <tr>\n",
              "      <th>iphone 11 64gb</th>\n",
              "      <td>329,900</td>\n",
              "      <td>NaN</td>\n",
              "      <td>399,990</td>\n",
              "      <td>379,990</td>\n",
              "      <td>349,990</td>\n",
              "      <td>359,990</td>\n",
              "      <td>394,990</td>\n",
              "      <td>379,990</td>\n",
              "      <td>NaN</td>\n",
              "      <td>379,990</td>\n",
              "      <td>NaN</td>\n",
              "      <td>claro</td>\n",
              "    </tr>\n",
              "    <tr>\n",
              "      <th>iphone 12 128gb</th>\n",
              "      <td>NaN</td>\n",
              "      <td>479,990</td>\n",
              "      <td>529,990</td>\n",
              "      <td>NaN</td>\n",
              "      <td>NaN</td>\n",
              "      <td>625,990</td>\n",
              "      <td>499,990</td>\n",
              "      <td>479,990</td>\n",
              "      <td>NaN</td>\n",
              "      <td>NaN</td>\n",
              "      <td>480,000</td>\n",
              "      <td>falabella</td>\n",
              "    </tr>\n",
              "    <tr>\n",
              "      <th>iphone 12 64gb</th>\n",
              "      <td>NaN</td>\n",
              "      <td>NaN</td>\n",
              "      <td>NaN</td>\n",
              "      <td>NaN</td>\n",
              "      <td>NaN</td>\n",
              "      <td>NaN</td>\n",
              "      <td>564,990</td>\n",
              "      <td>NaN</td>\n",
              "      <td>NaN</td>\n",
              "      <td>NaN</td>\n",
              "      <td>NaN</td>\n",
              "      <td>movistar</td>\n",
              "    </tr>\n",
              "    <tr>\n",
              "      <th>iphone 13 128gb</th>\n",
              "      <td>623,760</td>\n",
              "      <td>589,990</td>\n",
              "      <td>679,990</td>\n",
              "      <td>NaN</td>\n",
              "      <td>589,990</td>\n",
              "      <td>NaN</td>\n",
              "      <td>629,990</td>\n",
              "      <td>529,990</td>\n",
              "      <td>NaN</td>\n",
              "      <td>619,990</td>\n",
              "      <td>660,000</td>\n",
              "      <td>paris</td>\n",
              "    </tr>\n",
              "    <tr>\n",
              "      <th>iphone 13 256gb</th>\n",
              "      <td>NaN</td>\n",
              "      <td>NaN</td>\n",
              "      <td>729,990</td>\n",
              "      <td>699,990</td>\n",
              "      <td>689,990</td>\n",
              "      <td>NaN</td>\n",
              "      <td>NaN</td>\n",
              "      <td>NaN</td>\n",
              "      <td>NaN</td>\n",
              "      <td>749,990</td>\n",
              "      <td>NaN</td>\n",
              "      <td>lider</td>\n",
              "    </tr>\n",
              "    <tr>\n",
              "      <th>iphone 13 512gb</th>\n",
              "      <td>NaN</td>\n",
              "      <td>NaN</td>\n",
              "      <td>NaN</td>\n",
              "      <td>NaN</td>\n",
              "      <td>NaN</td>\n",
              "      <td>869,990</td>\n",
              "      <td>999,990</td>\n",
              "      <td>NaN</td>\n",
              "      <td>NaN</td>\n",
              "      <td>NaN</td>\n",
              "      <td>NaN</td>\n",
              "      <td>mercado libre</td>\n",
              "    </tr>\n",
              "    <tr>\n",
              "      <th>iphone 13 pro 1tb</th>\n",
              "      <td>NaN</td>\n",
              "      <td>NaN</td>\n",
              "      <td>NaN</td>\n",
              "      <td>NaN</td>\n",
              "      <td>NaN</td>\n",
              "      <td>NaN</td>\n",
              "      <td>1,649,990</td>\n",
              "      <td>NaN</td>\n",
              "      <td>NaN</td>\n",
              "      <td>NaN</td>\n",
              "      <td>NaN</td>\n",
              "      <td>movistar</td>\n",
              "    </tr>\n",
              "    <tr>\n",
              "      <th>iphone 14 128gb</th>\n",
              "      <td>829,900</td>\n",
              "      <td>719,990</td>\n",
              "      <td>724,990</td>\n",
              "      <td>719,990</td>\n",
              "      <td>699,990</td>\n",
              "      <td>NaN</td>\n",
              "      <td>NaN</td>\n",
              "      <td>699,990</td>\n",
              "      <td>NaN</td>\n",
              "      <td>699,990</td>\n",
              "      <td>720,000</td>\n",
              "      <td>lider</td>\n",
              "    </tr>\n",
              "    <tr>\n",
              "      <th>iphone 14 256gb</th>\n",
              "      <td>NaN</td>\n",
              "      <td>719,990</td>\n",
              "      <td>NaN</td>\n",
              "      <td>NaN</td>\n",
              "      <td>NaN</td>\n",
              "      <td>819,490</td>\n",
              "      <td>NaN</td>\n",
              "      <td>NaN</td>\n",
              "      <td>NaN</td>\n",
              "      <td>NaN</td>\n",
              "      <td>NaN</td>\n",
              "      <td>falabella</td>\n",
              "    </tr>\n",
              "    <tr>\n",
              "      <th>iphone 14 512gb</th>\n",
              "      <td>NaN</td>\n",
              "      <td>NaN</td>\n",
              "      <td>NaN</td>\n",
              "      <td>NaN</td>\n",
              "      <td>NaN</td>\n",
              "      <td>NaN</td>\n",
              "      <td>1,039,990</td>\n",
              "      <td>NaN</td>\n",
              "      <td>NaN</td>\n",
              "      <td>NaN</td>\n",
              "      <td>NaN</td>\n",
              "      <td>movistar</td>\n",
              "    </tr>\n",
              "    <tr>\n",
              "      <th>iphone 14 plus 128gb</th>\n",
              "      <td>949,900</td>\n",
              "      <td>NaN</td>\n",
              "      <td>NaN</td>\n",
              "      <td>NaN</td>\n",
              "      <td>NaN</td>\n",
              "      <td>NaN</td>\n",
              "      <td>NaN</td>\n",
              "      <td>NaN</td>\n",
              "      <td>NaN</td>\n",
              "      <td>NaN</td>\n",
              "      <td>NaN</td>\n",
              "      <td>claro</td>\n",
              "    </tr>\n",
              "    <tr>\n",
              "      <th>iphone 14 plus 256gb</th>\n",
              "      <td>NaN</td>\n",
              "      <td>NaN</td>\n",
              "      <td>899,990</td>\n",
              "      <td>NaN</td>\n",
              "      <td>889,990</td>\n",
              "      <td>NaN</td>\n",
              "      <td>NaN</td>\n",
              "      <td>NaN</td>\n",
              "      <td>NaN</td>\n",
              "      <td>NaN</td>\n",
              "      <td>NaN</td>\n",
              "      <td>lider</td>\n",
              "    </tr>\n",
              "    <tr>\n",
              "      <th>iphone 14 plus 512gb</th>\n",
              "      <td>NaN</td>\n",
              "      <td>NaN</td>\n",
              "      <td>NaN</td>\n",
              "      <td>NaN</td>\n",
              "      <td>NaN</td>\n",
              "      <td>NaN</td>\n",
              "      <td>1,399,990</td>\n",
              "      <td>NaN</td>\n",
              "      <td>NaN</td>\n",
              "      <td>NaN</td>\n",
              "      <td>NaN</td>\n",
              "      <td>movistar</td>\n",
              "    </tr>\n",
              "    <tr>\n",
              "      <th>iphone 14 pro 128gb</th>\n",
              "      <td>1,179,900</td>\n",
              "      <td>NaN</td>\n",
              "      <td>NaN</td>\n",
              "      <td>NaN</td>\n",
              "      <td>NaN</td>\n",
              "      <td>NaN</td>\n",
              "      <td>NaN</td>\n",
              "      <td>NaN</td>\n",
              "      <td>NaN</td>\n",
              "      <td>NaN</td>\n",
              "      <td>NaN</td>\n",
              "      <td>claro</td>\n",
              "    </tr>\n",
              "    <tr>\n",
              "      <th>iphone 14 pro max 128gb</th>\n",
              "      <td>1,299,900</td>\n",
              "      <td>NaN</td>\n",
              "      <td>NaN</td>\n",
              "      <td>NaN</td>\n",
              "      <td>NaN</td>\n",
              "      <td>NaN</td>\n",
              "      <td>NaN</td>\n",
              "      <td>NaN</td>\n",
              "      <td>NaN</td>\n",
              "      <td>NaN</td>\n",
              "      <td>NaN</td>\n",
              "      <td>claro</td>\n",
              "    </tr>\n",
              "    <tr>\n",
              "      <th>iphone 15 128gb</th>\n",
              "      <td>NaN</td>\n",
              "      <td>819,990</td>\n",
              "      <td>829,990</td>\n",
              "      <td>849,990</td>\n",
              "      <td>NaN</td>\n",
              "      <td>879,990</td>\n",
              "      <td>879,990</td>\n",
              "      <td>819,990</td>\n",
              "      <td>950,590</td>\n",
              "      <td>819,990</td>\n",
              "      <td>880,800</td>\n",
              "      <td>falabella</td>\n",
              "    </tr>\n",
              "    <tr>\n",
              "      <th>iphone 15 256gb</th>\n",
              "      <td>NaN</td>\n",
              "      <td>719,990</td>\n",
              "      <td>NaN</td>\n",
              "      <td>949,990</td>\n",
              "      <td>NaN</td>\n",
              "      <td>NaN</td>\n",
              "      <td>NaN</td>\n",
              "      <td>NaN</td>\n",
              "      <td>NaN</td>\n",
              "      <td>NaN</td>\n",
              "      <td>NaN</td>\n",
              "      <td>falabella</td>\n",
              "    </tr>\n",
              "    <tr>\n",
              "      <th>iphone 15 512gb</th>\n",
              "      <td>NaN</td>\n",
              "      <td>479,990</td>\n",
              "      <td>1,199,990</td>\n",
              "      <td>999,990</td>\n",
              "      <td>NaN</td>\n",
              "      <td>NaN</td>\n",
              "      <td>NaN</td>\n",
              "      <td>NaN</td>\n",
              "      <td>NaN</td>\n",
              "      <td>NaN</td>\n",
              "      <td>NaN</td>\n",
              "      <td>falabella</td>\n",
              "    </tr>\n",
              "    <tr>\n",
              "      <th>iphone 15 negro 256gb</th>\n",
              "      <td>NaN</td>\n",
              "      <td>NaN</td>\n",
              "      <td>979,990</td>\n",
              "      <td>NaN</td>\n",
              "      <td>NaN</td>\n",
              "      <td>NaN</td>\n",
              "      <td>NaN</td>\n",
              "      <td>NaN</td>\n",
              "      <td>NaN</td>\n",
              "      <td>NaN</td>\n",
              "      <td>NaN</td>\n",
              "      <td>hites</td>\n",
              "    </tr>\n",
              "    <tr>\n",
              "      <th>iphone 15 plus 128gb</th>\n",
              "      <td>NaN</td>\n",
              "      <td>NaN</td>\n",
              "      <td>NaN</td>\n",
              "      <td>NaN</td>\n",
              "      <td>NaN</td>\n",
              "      <td>1,009,990</td>\n",
              "      <td>999,990</td>\n",
              "      <td>939,990</td>\n",
              "      <td>NaN</td>\n",
              "      <td>999,990</td>\n",
              "      <td>NaN</td>\n",
              "      <td>paris</td>\n",
              "    </tr>\n",
              "    <tr>\n",
              "      <th>iphone 15 plus 256gb</th>\n",
              "      <td>NaN</td>\n",
              "      <td>NaN</td>\n",
              "      <td>NaN</td>\n",
              "      <td>1,099,990</td>\n",
              "      <td>NaN</td>\n",
              "      <td>101,666</td>\n",
              "      <td>NaN</td>\n",
              "      <td>NaN</td>\n",
              "      <td>NaN</td>\n",
              "      <td>NaN</td>\n",
              "      <td>NaN</td>\n",
              "      <td>mercado libre</td>\n",
              "    </tr>\n",
              "    <tr>\n",
              "      <th>iphone 15 plus 512gb</th>\n",
              "      <td>NaN</td>\n",
              "      <td>NaN</td>\n",
              "      <td>NaN</td>\n",
              "      <td>NaN</td>\n",
              "      <td>NaN</td>\n",
              "      <td>1,269,108</td>\n",
              "      <td>NaN</td>\n",
              "      <td>NaN</td>\n",
              "      <td>NaN</td>\n",
              "      <td>NaN</td>\n",
              "      <td>NaN</td>\n",
              "      <td>mercado libre</td>\n",
              "    </tr>\n",
              "    <tr>\n",
              "      <th>iphone 15 pro 128gb</th>\n",
              "      <td>NaN</td>\n",
              "      <td>1,079,990</td>\n",
              "      <td>NaN</td>\n",
              "      <td>NaN</td>\n",
              "      <td>NaN</td>\n",
              "      <td>NaN</td>\n",
              "      <td>1,119,990</td>\n",
              "      <td>NaN</td>\n",
              "      <td>NaN</td>\n",
              "      <td>1,049,990</td>\n",
              "      <td>1,120,800</td>\n",
              "      <td>ripley</td>\n",
              "    </tr>\n",
              "    <tr>\n",
              "      <th>iphone 15 pro 256gb</th>\n",
              "      <td>NaN</td>\n",
              "      <td>819,990</td>\n",
              "      <td>1,249,990</td>\n",
              "      <td>1,199,990</td>\n",
              "      <td>NaN</td>\n",
              "      <td>NaN</td>\n",
              "      <td>NaN</td>\n",
              "      <td>NaN</td>\n",
              "      <td>NaN</td>\n",
              "      <td>NaN</td>\n",
              "      <td>NaN</td>\n",
              "      <td>falabella</td>\n",
              "    </tr>\n",
              "    <tr>\n",
              "      <th>iphone 15 pro 512gb</th>\n",
              "      <td>NaN</td>\n",
              "      <td>NaN</td>\n",
              "      <td>NaN</td>\n",
              "      <td>1,349,990</td>\n",
              "      <td>1,359,990</td>\n",
              "      <td>1,418,990</td>\n",
              "      <td>NaN</td>\n",
              "      <td>NaN</td>\n",
              "      <td>NaN</td>\n",
              "      <td>1,499,990</td>\n",
              "      <td>NaN</td>\n",
              "      <td>la polar</td>\n",
              "    </tr>\n",
              "    <tr>\n",
              "      <th>iphone 15 pro max  256gb</th>\n",
              "      <td>NaN</td>\n",
              "      <td>NaN</td>\n",
              "      <td>NaN</td>\n",
              "      <td>NaN</td>\n",
              "      <td>NaN</td>\n",
              "      <td>NaN</td>\n",
              "      <td>NaN</td>\n",
              "      <td>NaN</td>\n",
              "      <td>NaN</td>\n",
              "      <td>NaN</td>\n",
              "      <td>1,348,800</td>\n",
              "      <td>wom</td>\n",
              "    </tr>\n",
              "    <tr>\n",
              "      <th>iphone 15 pro max 256gb</th>\n",
              "      <td>NaN</td>\n",
              "      <td>819,990</td>\n",
              "      <td>1,399,990</td>\n",
              "      <td>1,299,990</td>\n",
              "      <td>NaN</td>\n",
              "      <td>NaN</td>\n",
              "      <td>1,369,990</td>\n",
              "      <td>NaN</td>\n",
              "      <td>1,440,190</td>\n",
              "      <td>1,299,990</td>\n",
              "      <td>NaN</td>\n",
              "      <td>falabella</td>\n",
              "    </tr>\n",
              "    <tr>\n",
              "      <th>iphone 15 pro max 512gb</th>\n",
              "      <td>NaN</td>\n",
              "      <td>1,079,990</td>\n",
              "      <td>NaN</td>\n",
              "      <td>NaN</td>\n",
              "      <td>NaN</td>\n",
              "      <td>1,502,585</td>\n",
              "      <td>NaN</td>\n",
              "      <td>NaN</td>\n",
              "      <td>NaN</td>\n",
              "      <td>1,549,990</td>\n",
              "      <td>NaN</td>\n",
              "      <td>falabella</td>\n",
              "    </tr>\n",
              "    <tr>\n",
              "      <th>iphone 13 128gb</th>\n",
              "      <td>NaN</td>\n",
              "      <td>NaN</td>\n",
              "      <td>NaN</td>\n",
              "      <td>NaN</td>\n",
              "      <td>NaN</td>\n",
              "      <td>NaN</td>\n",
              "      <td>NaN</td>\n",
              "      <td>599,990</td>\n",
              "      <td>NaN</td>\n",
              "      <td>NaN</td>\n",
              "      <td>NaN</td>\n",
              "      <td>paris</td>\n",
              "    </tr>\n",
              "    <tr>\n",
              "      <th>iphone 15 pro 128gb</th>\n",
              "      <td>NaN</td>\n",
              "      <td>NaN</td>\n",
              "      <td>NaN</td>\n",
              "      <td>NaN</td>\n",
              "      <td>NaN</td>\n",
              "      <td>NaN</td>\n",
              "      <td>NaN</td>\n",
              "      <td>1,049,990</td>\n",
              "      <td>NaN</td>\n",
              "      <td>NaN</td>\n",
              "      <td>NaN</td>\n",
              "      <td>paris</td>\n",
              "    </tr>\n",
              "    <tr>\n",
              "      <th>iphone 15 pro 256gb</th>\n",
              "      <td>NaN</td>\n",
              "      <td>NaN</td>\n",
              "      <td>NaN</td>\n",
              "      <td>NaN</td>\n",
              "      <td>NaN</td>\n",
              "      <td>NaN</td>\n",
              "      <td>NaN</td>\n",
              "      <td>1,199,990</td>\n",
              "      <td>NaN</td>\n",
              "      <td>NaN</td>\n",
              "      <td>NaN</td>\n",
              "      <td>paris</td>\n",
              "    </tr>\n",
              "    <tr>\n",
              "      <th>iphone 15 pro max 256gb</th>\n",
              "      <td>NaN</td>\n",
              "      <td>NaN</td>\n",
              "      <td>NaN</td>\n",
              "      <td>NaN</td>\n",
              "      <td>NaN</td>\n",
              "      <td>NaN</td>\n",
              "      <td>NaN</td>\n",
              "      <td>1,289,990</td>\n",
              "      <td>NaN</td>\n",
              "      <td>NaN</td>\n",
              "      <td>NaN</td>\n",
              "      <td>paris</td>\n",
              "    </tr>\n",
              "    <tr>\n",
              "      <th>iphone 15 pro max 512gb</th>\n",
              "      <td>NaN</td>\n",
              "      <td>NaN</td>\n",
              "      <td>NaN</td>\n",
              "      <td>NaN</td>\n",
              "      <td>NaN</td>\n",
              "      <td>NaN</td>\n",
              "      <td>NaN</td>\n",
              "      <td>1,499,990</td>\n",
              "      <td>NaN</td>\n",
              "      <td>NaN</td>\n",
              "      <td>NaN</td>\n",
              "      <td>paris</td>\n",
              "    </tr>\n",
              "  </tbody>\n",
              "</table>\n",
              "</div>"
            ],
            "text/plain": [
              "tienda                       claro  falabella     hites  la polar     lider  \\\n",
              "modelo                                                                        \n",
              "iphone 11 128gb                NaN    399,990       NaN       NaN       NaN   \n",
              "iphone 11 64gb             329,900        NaN   399,990   379,990   349,990   \n",
              "iphone 12 128gb                NaN    479,990   529,990       NaN       NaN   \n",
              "iphone 12 64gb                 NaN        NaN       NaN       NaN       NaN   \n",
              "iphone 13 128gb            623,760    589,990   679,990       NaN   589,990   \n",
              "iphone 13 256gb                NaN        NaN   729,990   699,990   689,990   \n",
              "iphone 13 512gb                NaN        NaN       NaN       NaN       NaN   \n",
              "iphone 13 pro 1tb              NaN        NaN       NaN       NaN       NaN   \n",
              "iphone 14 128gb            829,900    719,990   724,990   719,990   699,990   \n",
              "iphone 14 256gb                NaN    719,990       NaN       NaN       NaN   \n",
              "iphone 14 512gb                NaN        NaN       NaN       NaN       NaN   \n",
              "iphone 14 plus 128gb       949,900        NaN       NaN       NaN       NaN   \n",
              "iphone 14 plus 256gb           NaN        NaN   899,990       NaN   889,990   \n",
              "iphone 14 plus 512gb           NaN        NaN       NaN       NaN       NaN   \n",
              "iphone 14 pro 128gb      1,179,900        NaN       NaN       NaN       NaN   \n",
              "iphone 14 pro max 128gb  1,299,900        NaN       NaN       NaN       NaN   \n",
              "iphone 15 128gb                NaN    819,990   829,990   849,990       NaN   \n",
              "iphone 15 256gb                NaN    719,990       NaN   949,990       NaN   \n",
              "iphone 15 512gb                NaN    479,990 1,199,990   999,990       NaN   \n",
              "iphone 15 negro 256gb          NaN        NaN   979,990       NaN       NaN   \n",
              "iphone 15 plus 128gb           NaN        NaN       NaN       NaN       NaN   \n",
              "iphone 15 plus 256gb           NaN        NaN       NaN 1,099,990       NaN   \n",
              "iphone 15 plus 512gb           NaN        NaN       NaN       NaN       NaN   \n",
              "iphone 15 pro 128gb            NaN  1,079,990       NaN       NaN       NaN   \n",
              "iphone 15 pro 256gb            NaN    819,990 1,249,990 1,199,990       NaN   \n",
              "iphone 15 pro 512gb            NaN        NaN       NaN 1,349,990 1,359,990   \n",
              "iphone 15 pro max  256gb       NaN        NaN       NaN       NaN       NaN   \n",
              "iphone 15 pro max 256gb        NaN    819,990 1,399,990 1,299,990       NaN   \n",
              "iphone 15 pro max 512gb        NaN  1,079,990       NaN       NaN       NaN   \n",
              "iphone 13 128gb                NaN        NaN       NaN       NaN       NaN   \n",
              "iphone 15 pro 128gb            NaN        NaN       NaN       NaN       NaN   \n",
              "iphone 15 pro 256gb            NaN        NaN       NaN       NaN       NaN   \n",
              "iphone 15 pro max 256gb        NaN        NaN       NaN       NaN       NaN   \n",
              "iphone 15 pro max 512gb        NaN        NaN       NaN       NaN       NaN   \n",
              "\n",
              "tienda                    mercado libre  movistar     paris  pcfactory  \\\n",
              "modelo                                                                   \n",
              "iphone 11 128gb                     NaN   454,990       NaN        NaN   \n",
              "iphone 11 64gb                  359,990   394,990   379,990        NaN   \n",
              "iphone 12 128gb                 625,990   499,990   479,990        NaN   \n",
              "iphone 12 64gb                      NaN   564,990       NaN        NaN   \n",
              "iphone 13 128gb                     NaN   629,990   529,990        NaN   \n",
              "iphone 13 256gb                     NaN       NaN       NaN        NaN   \n",
              "iphone 13 512gb                 869,990   999,990       NaN        NaN   \n",
              "iphone 13 pro 1tb                   NaN 1,649,990       NaN        NaN   \n",
              "iphone 14 128gb                     NaN       NaN   699,990        NaN   \n",
              "iphone 14 256gb                 819,490       NaN       NaN        NaN   \n",
              "iphone 14 512gb                     NaN 1,039,990       NaN        NaN   \n",
              "iphone 14 plus 128gb                NaN       NaN       NaN        NaN   \n",
              "iphone 14 plus 256gb                NaN       NaN       NaN        NaN   \n",
              "iphone 14 plus 512gb                NaN 1,399,990       NaN        NaN   \n",
              "iphone 14 pro 128gb                 NaN       NaN       NaN        NaN   \n",
              "iphone 14 pro max 128gb             NaN       NaN       NaN        NaN   \n",
              "iphone 15 128gb                 879,990   879,990   819,990    950,590   \n",
              "iphone 15 256gb                     NaN       NaN       NaN        NaN   \n",
              "iphone 15 512gb                     NaN       NaN       NaN        NaN   \n",
              "iphone 15 negro 256gb               NaN       NaN       NaN        NaN   \n",
              "iphone 15 plus 128gb          1,009,990   999,990   939,990        NaN   \n",
              "iphone 15 plus 256gb            101,666       NaN       NaN        NaN   \n",
              "iphone 15 plus 512gb          1,269,108       NaN       NaN        NaN   \n",
              "iphone 15 pro 128gb                 NaN 1,119,990       NaN        NaN   \n",
              "iphone 15 pro 256gb                 NaN       NaN       NaN        NaN   \n",
              "iphone 15 pro 512gb           1,418,990       NaN       NaN        NaN   \n",
              "iphone 15 pro max  256gb            NaN       NaN       NaN        NaN   \n",
              "iphone 15 pro max 256gb             NaN 1,369,990       NaN  1,440,190   \n",
              "iphone 15 pro max 512gb       1,502,585       NaN       NaN        NaN   \n",
              "iphone 13 128gb                     NaN       NaN   599,990        NaN   \n",
              "iphone 15 pro 128gb                 NaN       NaN 1,049,990        NaN   \n",
              "iphone 15 pro 256gb                 NaN       NaN 1,199,990        NaN   \n",
              "iphone 15 pro max 256gb             NaN       NaN 1,289,990        NaN   \n",
              "iphone 15 pro max 512gb             NaN       NaN 1,499,990        NaN   \n",
              "\n",
              "tienda                      ripley       wom Tienda_Mejor_Precio  \n",
              "modelo                                                            \n",
              "iphone 11 128gb                NaN       NaN           falabella  \n",
              "iphone 11 64gb             379,990       NaN               claro  \n",
              "iphone 12 128gb                NaN   480,000           falabella  \n",
              "iphone 12 64gb                 NaN       NaN            movistar  \n",
              "iphone 13 128gb            619,990   660,000               paris  \n",
              "iphone 13 256gb            749,990       NaN               lider  \n",
              "iphone 13 512gb                NaN       NaN       mercado libre  \n",
              "iphone 13 pro 1tb              NaN       NaN            movistar  \n",
              "iphone 14 128gb            699,990   720,000               lider  \n",
              "iphone 14 256gb                NaN       NaN           falabella  \n",
              "iphone 14 512gb                NaN       NaN            movistar  \n",
              "iphone 14 plus 128gb           NaN       NaN               claro  \n",
              "iphone 14 plus 256gb           NaN       NaN               lider  \n",
              "iphone 14 plus 512gb           NaN       NaN            movistar  \n",
              "iphone 14 pro 128gb            NaN       NaN               claro  \n",
              "iphone 14 pro max 128gb        NaN       NaN               claro  \n",
              "iphone 15 128gb            819,990   880,800           falabella  \n",
              "iphone 15 256gb                NaN       NaN           falabella  \n",
              "iphone 15 512gb                NaN       NaN           falabella  \n",
              "iphone 15 negro 256gb          NaN       NaN               hites  \n",
              "iphone 15 plus 128gb       999,990       NaN               paris  \n",
              "iphone 15 plus 256gb           NaN       NaN       mercado libre  \n",
              "iphone 15 plus 512gb           NaN       NaN       mercado libre  \n",
              "iphone 15 pro 128gb      1,049,990 1,120,800              ripley  \n",
              "iphone 15 pro 256gb            NaN       NaN           falabella  \n",
              "iphone 15 pro 512gb      1,499,990       NaN            la polar  \n",
              "iphone 15 pro max  256gb       NaN 1,348,800                 wom  \n",
              "iphone 15 pro max 256gb  1,299,990       NaN           falabella  \n",
              "iphone 15 pro max 512gb  1,549,990       NaN           falabella  \n",
              "iphone 13 128gb                NaN       NaN               paris  \n",
              "iphone 15 pro 128gb            NaN       NaN               paris  \n",
              "iphone 15 pro 256gb            NaN       NaN               paris  \n",
              "iphone 15 pro max 256gb        NaN       NaN               paris  \n",
              "iphone 15 pro max 512gb        NaN       NaN               paris  "
            ]
          },
          "execution_count": 47,
          "metadata": {},
          "output_type": "execute_result"
        }
      ],
      "source": [
        "precios_modelo_tienda = productos.pivot_table(index='modelo', columns='tienda', values='precio_oferta')\n",
        "\n",
        "precios_modelo_tienda['Tienda_Mejor_Precio'] = precios_modelo_tienda.idxmin(axis=1)\n",
        "\n",
        "precios_modelo_tienda"
      ]
    },
    {
      "cell_type": "markdown",
      "metadata": {
        "id": "HNmwcZdRbrE8"
      },
      "source": [
        "Falabella tiende a tener las mejores ofertas pero esto igual varia en los modelos, ejemplo en el iphone 14 128gb, esta mas barato en el lider que en falabella"
      ]
    },
    {
      "cell_type": "code",
      "execution_count": 48,
      "metadata": {
        "colab": {
          "base_uri": "https://localhost:8080/",
          "height": 429
        },
        "id": "s6Q1JUFpbrE8",
        "outputId": "c0b2744b-19e8-47fd-f1e5-d067844c865a"
      },
      "outputs": [
        {
          "data": {
            "text/plain": [
              "Tienda_Mejor_Precio\n",
              "falabella        9\n",
              "paris            7\n",
              "claro            4\n",
              "movistar         4\n",
              "lider            3\n",
              "mercado libre    3\n",
              "hites            1\n",
              "ripley           1\n",
              "la polar         1\n",
              "wom              1\n",
              "Name: count, dtype: int64"
            ]
          },
          "execution_count": 48,
          "metadata": {},
          "output_type": "execute_result"
        }
      ],
      "source": [
        "precios_modelo_tienda['Tienda_Mejor_Precio'].value_counts()"
      ]
    },
    {
      "cell_type": "markdown",
      "metadata": {
        "id": "p3nJelWgbrE9"
      },
      "source": [
        "Comapración de precios normales "
      ]
    },
    {
      "cell_type": "code",
      "execution_count": 49,
      "metadata": {
        "colab": {
          "base_uri": "https://localhost:8080/",
          "height": 1000
        },
        "id": "q-rLSvi_brE9",
        "outputId": "f6c6a507-2c0d-4210-8fbe-edd81c40fa21"
      },
      "outputs": [
        {
          "data": {
            "text/html": [
              "<div>\n",
              "<style scoped>\n",
              "    .dataframe tbody tr th:only-of-type {\n",
              "        vertical-align: middle;\n",
              "    }\n",
              "\n",
              "    .dataframe tbody tr th {\n",
              "        vertical-align: top;\n",
              "    }\n",
              "\n",
              "    .dataframe thead th {\n",
              "        text-align: right;\n",
              "    }\n",
              "</style>\n",
              "<table border=\"1\" class=\"dataframe\">\n",
              "  <thead>\n",
              "    <tr style=\"text-align: right;\">\n",
              "      <th>tienda</th>\n",
              "      <th>claro</th>\n",
              "      <th>falabella</th>\n",
              "      <th>hites</th>\n",
              "      <th>la polar</th>\n",
              "      <th>lider</th>\n",
              "      <th>mercado libre</th>\n",
              "      <th>movistar</th>\n",
              "      <th>paris</th>\n",
              "      <th>pcfactory</th>\n",
              "      <th>ripley</th>\n",
              "      <th>wom</th>\n",
              "      <th>Tienda_Mejor_Precio</th>\n",
              "    </tr>\n",
              "    <tr>\n",
              "      <th>modelo</th>\n",
              "      <th></th>\n",
              "      <th></th>\n",
              "      <th></th>\n",
              "      <th></th>\n",
              "      <th></th>\n",
              "      <th></th>\n",
              "      <th></th>\n",
              "      <th></th>\n",
              "      <th></th>\n",
              "      <th></th>\n",
              "      <th></th>\n",
              "      <th></th>\n",
              "    </tr>\n",
              "  </thead>\n",
              "  <tbody>\n",
              "    <tr>\n",
              "      <th>iphone 11 128gb</th>\n",
              "      <td>NaN</td>\n",
              "      <td>429,990</td>\n",
              "      <td>NaN</td>\n",
              "      <td>NaN</td>\n",
              "      <td>NaN</td>\n",
              "      <td>NaN</td>\n",
              "      <td>729,990</td>\n",
              "      <td>NaN</td>\n",
              "      <td>NaN</td>\n",
              "      <td>NaN</td>\n",
              "      <td>NaN</td>\n",
              "      <td>falabella</td>\n",
              "    </tr>\n",
              "    <tr>\n",
              "      <th>iphone 11 64gb</th>\n",
              "      <td>769,990</td>\n",
              "      <td>NaN</td>\n",
              "      <td>699,990</td>\n",
              "      <td>499,990</td>\n",
              "      <td>469,990</td>\n",
              "      <td>669,990</td>\n",
              "      <td>549,990</td>\n",
              "      <td>399,990</td>\n",
              "      <td>NaN</td>\n",
              "      <td>399,990</td>\n",
              "      <td>NaN</td>\n",
              "      <td>paris</td>\n",
              "    </tr>\n",
              "    <tr>\n",
              "      <th>iphone 12 128gb</th>\n",
              "      <td>NaN</td>\n",
              "      <td>499,990</td>\n",
              "      <td>799,990</td>\n",
              "      <td>NaN</td>\n",
              "      <td>NaN</td>\n",
              "      <td>949,990</td>\n",
              "      <td>749,990</td>\n",
              "      <td>499,990</td>\n",
              "      <td>NaN</td>\n",
              "      <td>NaN</td>\n",
              "      <td>799,990</td>\n",
              "      <td>falabella</td>\n",
              "    </tr>\n",
              "    <tr>\n",
              "      <th>iphone 12 64gb</th>\n",
              "      <td>NaN</td>\n",
              "      <td>NaN</td>\n",
              "      <td>NaN</td>\n",
              "      <td>NaN</td>\n",
              "      <td>NaN</td>\n",
              "      <td>NaN</td>\n",
              "      <td>749,990</td>\n",
              "      <td>NaN</td>\n",
              "      <td>NaN</td>\n",
              "      <td>NaN</td>\n",
              "      <td>NaN</td>\n",
              "      <td>movistar</td>\n",
              "    </tr>\n",
              "    <tr>\n",
              "      <th>iphone 13 128gb</th>\n",
              "      <td>889,990</td>\n",
              "      <td>619,990</td>\n",
              "      <td>869,990</td>\n",
              "      <td>NaN</td>\n",
              "      <td>869,990</td>\n",
              "      <td>NaN</td>\n",
              "      <td>879,990</td>\n",
              "      <td>529,990</td>\n",
              "      <td>NaN</td>\n",
              "      <td>649,990</td>\n",
              "      <td>889,990</td>\n",
              "      <td>paris</td>\n",
              "    </tr>\n",
              "    <tr>\n",
              "      <th>iphone 13 256gb</th>\n",
              "      <td>NaN</td>\n",
              "      <td>NaN</td>\n",
              "      <td>929,990</td>\n",
              "      <td>939,990</td>\n",
              "      <td>899,990</td>\n",
              "      <td>NaN</td>\n",
              "      <td>NaN</td>\n",
              "      <td>NaN</td>\n",
              "      <td>NaN</td>\n",
              "      <td>999,990</td>\n",
              "      <td>NaN</td>\n",
              "      <td>lider</td>\n",
              "    </tr>\n",
              "    <tr>\n",
              "      <th>iphone 13 512gb</th>\n",
              "      <td>NaN</td>\n",
              "      <td>NaN</td>\n",
              "      <td>NaN</td>\n",
              "      <td>NaN</td>\n",
              "      <td>NaN</td>\n",
              "      <td>1,199,990</td>\n",
              "      <td>1,199,990</td>\n",
              "      <td>NaN</td>\n",
              "      <td>NaN</td>\n",
              "      <td>NaN</td>\n",
              "      <td>NaN</td>\n",
              "      <td>mercado libre</td>\n",
              "    </tr>\n",
              "    <tr>\n",
              "      <th>iphone 13 pro 1tb</th>\n",
              "      <td>NaN</td>\n",
              "      <td>NaN</td>\n",
              "      <td>NaN</td>\n",
              "      <td>NaN</td>\n",
              "      <td>NaN</td>\n",
              "      <td>NaN</td>\n",
              "      <td>1,649,990</td>\n",
              "      <td>NaN</td>\n",
              "      <td>NaN</td>\n",
              "      <td>NaN</td>\n",
              "      <td>NaN</td>\n",
              "      <td>movistar</td>\n",
              "    </tr>\n",
              "    <tr>\n",
              "      <th>iphone 14 128gb</th>\n",
              "      <td>1,029,990</td>\n",
              "      <td>739,990</td>\n",
              "      <td>949,990</td>\n",
              "      <td>949,990</td>\n",
              "      <td>899,990</td>\n",
              "      <td>NaN</td>\n",
              "      <td>NaN</td>\n",
              "      <td>729,990</td>\n",
              "      <td>NaN</td>\n",
              "      <td>739,990</td>\n",
              "      <td>949,990</td>\n",
              "      <td>paris</td>\n",
              "    </tr>\n",
              "    <tr>\n",
              "      <th>iphone 14 256gb</th>\n",
              "      <td>NaN</td>\n",
              "      <td>929,990</td>\n",
              "      <td>NaN</td>\n",
              "      <td>NaN</td>\n",
              "      <td>NaN</td>\n",
              "      <td>1,099,990</td>\n",
              "      <td>NaN</td>\n",
              "      <td>NaN</td>\n",
              "      <td>NaN</td>\n",
              "      <td>NaN</td>\n",
              "      <td>NaN</td>\n",
              "      <td>falabella</td>\n",
              "    </tr>\n",
              "    <tr>\n",
              "      <th>iphone 14 512gb</th>\n",
              "      <td>NaN</td>\n",
              "      <td>NaN</td>\n",
              "      <td>NaN</td>\n",
              "      <td>NaN</td>\n",
              "      <td>NaN</td>\n",
              "      <td>NaN</td>\n",
              "      <td>1,369,990</td>\n",
              "      <td>NaN</td>\n",
              "      <td>NaN</td>\n",
              "      <td>NaN</td>\n",
              "      <td>NaN</td>\n",
              "      <td>movistar</td>\n",
              "    </tr>\n",
              "    <tr>\n",
              "      <th>iphone 14 plus 128gb</th>\n",
              "      <td>1,159,990</td>\n",
              "      <td>NaN</td>\n",
              "      <td>NaN</td>\n",
              "      <td>NaN</td>\n",
              "      <td>NaN</td>\n",
              "      <td>NaN</td>\n",
              "      <td>NaN</td>\n",
              "      <td>NaN</td>\n",
              "      <td>NaN</td>\n",
              "      <td>NaN</td>\n",
              "      <td>NaN</td>\n",
              "      <td>claro</td>\n",
              "    </tr>\n",
              "    <tr>\n",
              "      <th>iphone 14 plus 256gb</th>\n",
              "      <td>NaN</td>\n",
              "      <td>NaN</td>\n",
              "      <td>1,249,990</td>\n",
              "      <td>NaN</td>\n",
              "      <td>1,229,990</td>\n",
              "      <td>NaN</td>\n",
              "      <td>NaN</td>\n",
              "      <td>NaN</td>\n",
              "      <td>NaN</td>\n",
              "      <td>NaN</td>\n",
              "      <td>NaN</td>\n",
              "      <td>lider</td>\n",
              "    </tr>\n",
              "    <tr>\n",
              "      <th>iphone 14 plus 512gb</th>\n",
              "      <td>NaN</td>\n",
              "      <td>NaN</td>\n",
              "      <td>NaN</td>\n",
              "      <td>NaN</td>\n",
              "      <td>NaN</td>\n",
              "      <td>NaN</td>\n",
              "      <td>1,499,990</td>\n",
              "      <td>NaN</td>\n",
              "      <td>NaN</td>\n",
              "      <td>NaN</td>\n",
              "      <td>NaN</td>\n",
              "      <td>movistar</td>\n",
              "    </tr>\n",
              "    <tr>\n",
              "      <th>iphone 14 pro 128gb</th>\n",
              "      <td>1,299,990</td>\n",
              "      <td>NaN</td>\n",
              "      <td>NaN</td>\n",
              "      <td>NaN</td>\n",
              "      <td>NaN</td>\n",
              "      <td>NaN</td>\n",
              "      <td>NaN</td>\n",
              "      <td>NaN</td>\n",
              "      <td>NaN</td>\n",
              "      <td>NaN</td>\n",
              "      <td>NaN</td>\n",
              "      <td>claro</td>\n",
              "    </tr>\n",
              "    <tr>\n",
              "      <th>iphone 14 pro max 128gb</th>\n",
              "      <td>1,439,990</td>\n",
              "      <td>NaN</td>\n",
              "      <td>NaN</td>\n",
              "      <td>NaN</td>\n",
              "      <td>NaN</td>\n",
              "      <td>NaN</td>\n",
              "      <td>NaN</td>\n",
              "      <td>NaN</td>\n",
              "      <td>NaN</td>\n",
              "      <td>NaN</td>\n",
              "      <td>NaN</td>\n",
              "      <td>claro</td>\n",
              "    </tr>\n",
              "    <tr>\n",
              "      <th>iphone 15 128gb</th>\n",
              "      <td>NaN</td>\n",
              "      <td>849,990</td>\n",
              "      <td>1,099,990</td>\n",
              "      <td>1,099,990</td>\n",
              "      <td>NaN</td>\n",
              "      <td>999,990</td>\n",
              "      <td>979,990</td>\n",
              "      <td>849,990</td>\n",
              "      <td>979,990</td>\n",
              "      <td>849,990</td>\n",
              "      <td>999,990</td>\n",
              "      <td>falabella</td>\n",
              "    </tr>\n",
              "    <tr>\n",
              "      <th>iphone 15 256gb</th>\n",
              "      <td>NaN</td>\n",
              "      <td>799,990</td>\n",
              "      <td>NaN</td>\n",
              "      <td>1,249,990</td>\n",
              "      <td>NaN</td>\n",
              "      <td>NaN</td>\n",
              "      <td>NaN</td>\n",
              "      <td>NaN</td>\n",
              "      <td>NaN</td>\n",
              "      <td>NaN</td>\n",
              "      <td>NaN</td>\n",
              "      <td>falabella</td>\n",
              "    </tr>\n",
              "    <tr>\n",
              "      <th>iphone 15 512gb</th>\n",
              "      <td>NaN</td>\n",
              "      <td>999,990</td>\n",
              "      <td>1,349,990</td>\n",
              "      <td>1,799,990</td>\n",
              "      <td>NaN</td>\n",
              "      <td>NaN</td>\n",
              "      <td>NaN</td>\n",
              "      <td>NaN</td>\n",
              "      <td>NaN</td>\n",
              "      <td>NaN</td>\n",
              "      <td>NaN</td>\n",
              "      <td>falabella</td>\n",
              "    </tr>\n",
              "    <tr>\n",
              "      <th>iphone 15 negro 256gb</th>\n",
              "      <td>NaN</td>\n",
              "      <td>NaN</td>\n",
              "      <td>1,199,990</td>\n",
              "      <td>NaN</td>\n",
              "      <td>NaN</td>\n",
              "      <td>NaN</td>\n",
              "      <td>NaN</td>\n",
              "      <td>NaN</td>\n",
              "      <td>NaN</td>\n",
              "      <td>NaN</td>\n",
              "      <td>NaN</td>\n",
              "      <td>hites</td>\n",
              "    </tr>\n",
              "    <tr>\n",
              "      <th>iphone 15 plus 128gb</th>\n",
              "      <td>NaN</td>\n",
              "      <td>NaN</td>\n",
              "      <td>NaN</td>\n",
              "      <td>NaN</td>\n",
              "      <td>NaN</td>\n",
              "      <td>1,199,990</td>\n",
              "      <td>1,999,900</td>\n",
              "      <td>999,990</td>\n",
              "      <td>NaN</td>\n",
              "      <td>1,999,900</td>\n",
              "      <td>NaN</td>\n",
              "      <td>paris</td>\n",
              "    </tr>\n",
              "    <tr>\n",
              "      <th>iphone 15 plus 256gb</th>\n",
              "      <td>NaN</td>\n",
              "      <td>NaN</td>\n",
              "      <td>NaN</td>\n",
              "      <td>1,399,990</td>\n",
              "      <td>NaN</td>\n",
              "      <td>1,219,990</td>\n",
              "      <td>NaN</td>\n",
              "      <td>NaN</td>\n",
              "      <td>NaN</td>\n",
              "      <td>NaN</td>\n",
              "      <td>NaN</td>\n",
              "      <td>mercado libre</td>\n",
              "    </tr>\n",
              "    <tr>\n",
              "      <th>iphone 15 plus 512gb</th>\n",
              "      <td>NaN</td>\n",
              "      <td>NaN</td>\n",
              "      <td>NaN</td>\n",
              "      <td>NaN</td>\n",
              "      <td>NaN</td>\n",
              "      <td>1,523,090</td>\n",
              "      <td>NaN</td>\n",
              "      <td>NaN</td>\n",
              "      <td>NaN</td>\n",
              "      <td>NaN</td>\n",
              "      <td>NaN</td>\n",
              "      <td>mercado libre</td>\n",
              "    </tr>\n",
              "    <tr>\n",
              "      <th>iphone 15 pro 128gb</th>\n",
              "      <td>NaN</td>\n",
              "      <td>1,129,990</td>\n",
              "      <td>NaN</td>\n",
              "      <td>NaN</td>\n",
              "      <td>NaN</td>\n",
              "      <td>NaN</td>\n",
              "      <td>1,229,990</td>\n",
              "      <td>NaN</td>\n",
              "      <td>NaN</td>\n",
              "      <td>1,799,900</td>\n",
              "      <td>1,249,990</td>\n",
              "      <td>falabella</td>\n",
              "    </tr>\n",
              "    <tr>\n",
              "      <th>iphone 15 pro 256gb</th>\n",
              "      <td>NaN</td>\n",
              "      <td>1,199,990</td>\n",
              "      <td>1,499,990</td>\n",
              "      <td>1,599,990</td>\n",
              "      <td>NaN</td>\n",
              "      <td>NaN</td>\n",
              "      <td>NaN</td>\n",
              "      <td>NaN</td>\n",
              "      <td>NaN</td>\n",
              "      <td>NaN</td>\n",
              "      <td>NaN</td>\n",
              "      <td>falabella</td>\n",
              "    </tr>\n",
              "    <tr>\n",
              "      <th>iphone 15 pro 512gb</th>\n",
              "      <td>NaN</td>\n",
              "      <td>NaN</td>\n",
              "      <td>NaN</td>\n",
              "      <td>1,899,990</td>\n",
              "      <td>1,729,990</td>\n",
              "      <td>1,579,990</td>\n",
              "      <td>NaN</td>\n",
              "      <td>NaN</td>\n",
              "      <td>NaN</td>\n",
              "      <td>1,599,990</td>\n",
              "      <td>NaN</td>\n",
              "      <td>mercado libre</td>\n",
              "    </tr>\n",
              "    <tr>\n",
              "      <th>iphone 15 pro max  256gb</th>\n",
              "      <td>NaN</td>\n",
              "      <td>NaN</td>\n",
              "      <td>NaN</td>\n",
              "      <td>NaN</td>\n",
              "      <td>NaN</td>\n",
              "      <td>NaN</td>\n",
              "      <td>NaN</td>\n",
              "      <td>NaN</td>\n",
              "      <td>NaN</td>\n",
              "      <td>NaN</td>\n",
              "      <td>1,499,990</td>\n",
              "      <td>wom</td>\n",
              "    </tr>\n",
              "    <tr>\n",
              "      <th>iphone 15 pro max 256gb</th>\n",
              "      <td>NaN</td>\n",
              "      <td>1,349,990</td>\n",
              "      <td>1,599,990</td>\n",
              "      <td>1,699,990</td>\n",
              "      <td>NaN</td>\n",
              "      <td>NaN</td>\n",
              "      <td>1,469,990</td>\n",
              "      <td>NaN</td>\n",
              "      <td>1,484,740</td>\n",
              "      <td>1,349,990</td>\n",
              "      <td>NaN</td>\n",
              "      <td>falabella</td>\n",
              "    </tr>\n",
              "    <tr>\n",
              "      <th>iphone 15 pro max 512gb</th>\n",
              "      <td>NaN</td>\n",
              "      <td>1,499,990</td>\n",
              "      <td>NaN</td>\n",
              "      <td>NaN</td>\n",
              "      <td>NaN</td>\n",
              "      <td>1,699,990</td>\n",
              "      <td>NaN</td>\n",
              "      <td>NaN</td>\n",
              "      <td>NaN</td>\n",
              "      <td>1,699,990</td>\n",
              "      <td>NaN</td>\n",
              "      <td>falabella</td>\n",
              "    </tr>\n",
              "    <tr>\n",
              "      <th>iphone 13 128gb</th>\n",
              "      <td>NaN</td>\n",
              "      <td>NaN</td>\n",
              "      <td>NaN</td>\n",
              "      <td>NaN</td>\n",
              "      <td>NaN</td>\n",
              "      <td>NaN</td>\n",
              "      <td>NaN</td>\n",
              "      <td>619,990</td>\n",
              "      <td>NaN</td>\n",
              "      <td>NaN</td>\n",
              "      <td>NaN</td>\n",
              "      <td>paris</td>\n",
              "    </tr>\n",
              "    <tr>\n",
              "      <th>iphone 15 pro 128gb</th>\n",
              "      <td>NaN</td>\n",
              "      <td>NaN</td>\n",
              "      <td>NaN</td>\n",
              "      <td>NaN</td>\n",
              "      <td>NaN</td>\n",
              "      <td>NaN</td>\n",
              "      <td>NaN</td>\n",
              "      <td>1,149,990</td>\n",
              "      <td>NaN</td>\n",
              "      <td>NaN</td>\n",
              "      <td>NaN</td>\n",
              "      <td>paris</td>\n",
              "    </tr>\n",
              "    <tr>\n",
              "      <th>iphone 15 pro 256gb</th>\n",
              "      <td>NaN</td>\n",
              "      <td>NaN</td>\n",
              "      <td>NaN</td>\n",
              "      <td>NaN</td>\n",
              "      <td>NaN</td>\n",
              "      <td>NaN</td>\n",
              "      <td>NaN</td>\n",
              "      <td>1,199,990</td>\n",
              "      <td>NaN</td>\n",
              "      <td>NaN</td>\n",
              "      <td>NaN</td>\n",
              "      <td>paris</td>\n",
              "    </tr>\n",
              "    <tr>\n",
              "      <th>iphone 15 pro max 256gb</th>\n",
              "      <td>NaN</td>\n",
              "      <td>NaN</td>\n",
              "      <td>NaN</td>\n",
              "      <td>NaN</td>\n",
              "      <td>NaN</td>\n",
              "      <td>NaN</td>\n",
              "      <td>NaN</td>\n",
              "      <td>1,379,990</td>\n",
              "      <td>NaN</td>\n",
              "      <td>NaN</td>\n",
              "      <td>NaN</td>\n",
              "      <td>paris</td>\n",
              "    </tr>\n",
              "    <tr>\n",
              "      <th>iphone 15 pro max 512gb</th>\n",
              "      <td>NaN</td>\n",
              "      <td>NaN</td>\n",
              "      <td>NaN</td>\n",
              "      <td>NaN</td>\n",
              "      <td>NaN</td>\n",
              "      <td>NaN</td>\n",
              "      <td>NaN</td>\n",
              "      <td>1,499,990</td>\n",
              "      <td>NaN</td>\n",
              "      <td>NaN</td>\n",
              "      <td>NaN</td>\n",
              "      <td>paris</td>\n",
              "    </tr>\n",
              "  </tbody>\n",
              "</table>\n",
              "</div>"
            ],
            "text/plain": [
              "tienda                       claro  falabella     hites  la polar     lider  \\\n",
              "modelo                                                                        \n",
              "iphone 11 128gb                NaN    429,990       NaN       NaN       NaN   \n",
              "iphone 11 64gb             769,990        NaN   699,990   499,990   469,990   \n",
              "iphone 12 128gb                NaN    499,990   799,990       NaN       NaN   \n",
              "iphone 12 64gb                 NaN        NaN       NaN       NaN       NaN   \n",
              "iphone 13 128gb            889,990    619,990   869,990       NaN   869,990   \n",
              "iphone 13 256gb                NaN        NaN   929,990   939,990   899,990   \n",
              "iphone 13 512gb                NaN        NaN       NaN       NaN       NaN   \n",
              "iphone 13 pro 1tb              NaN        NaN       NaN       NaN       NaN   \n",
              "iphone 14 128gb          1,029,990    739,990   949,990   949,990   899,990   \n",
              "iphone 14 256gb                NaN    929,990       NaN       NaN       NaN   \n",
              "iphone 14 512gb                NaN        NaN       NaN       NaN       NaN   \n",
              "iphone 14 plus 128gb     1,159,990        NaN       NaN       NaN       NaN   \n",
              "iphone 14 plus 256gb           NaN        NaN 1,249,990       NaN 1,229,990   \n",
              "iphone 14 plus 512gb           NaN        NaN       NaN       NaN       NaN   \n",
              "iphone 14 pro 128gb      1,299,990        NaN       NaN       NaN       NaN   \n",
              "iphone 14 pro max 128gb  1,439,990        NaN       NaN       NaN       NaN   \n",
              "iphone 15 128gb                NaN    849,990 1,099,990 1,099,990       NaN   \n",
              "iphone 15 256gb                NaN    799,990       NaN 1,249,990       NaN   \n",
              "iphone 15 512gb                NaN    999,990 1,349,990 1,799,990       NaN   \n",
              "iphone 15 negro 256gb          NaN        NaN 1,199,990       NaN       NaN   \n",
              "iphone 15 plus 128gb           NaN        NaN       NaN       NaN       NaN   \n",
              "iphone 15 plus 256gb           NaN        NaN       NaN 1,399,990       NaN   \n",
              "iphone 15 plus 512gb           NaN        NaN       NaN       NaN       NaN   \n",
              "iphone 15 pro 128gb            NaN  1,129,990       NaN       NaN       NaN   \n",
              "iphone 15 pro 256gb            NaN  1,199,990 1,499,990 1,599,990       NaN   \n",
              "iphone 15 pro 512gb            NaN        NaN       NaN 1,899,990 1,729,990   \n",
              "iphone 15 pro max  256gb       NaN        NaN       NaN       NaN       NaN   \n",
              "iphone 15 pro max 256gb        NaN  1,349,990 1,599,990 1,699,990       NaN   \n",
              "iphone 15 pro max 512gb        NaN  1,499,990       NaN       NaN       NaN   \n",
              "iphone 13 128gb                NaN        NaN       NaN       NaN       NaN   \n",
              "iphone 15 pro 128gb            NaN        NaN       NaN       NaN       NaN   \n",
              "iphone 15 pro 256gb            NaN        NaN       NaN       NaN       NaN   \n",
              "iphone 15 pro max 256gb        NaN        NaN       NaN       NaN       NaN   \n",
              "iphone 15 pro max 512gb        NaN        NaN       NaN       NaN       NaN   \n",
              "\n",
              "tienda                    mercado libre  movistar     paris  pcfactory  \\\n",
              "modelo                                                                   \n",
              "iphone 11 128gb                     NaN   729,990       NaN        NaN   \n",
              "iphone 11 64gb                  669,990   549,990   399,990        NaN   \n",
              "iphone 12 128gb                 949,990   749,990   499,990        NaN   \n",
              "iphone 12 64gb                      NaN   749,990       NaN        NaN   \n",
              "iphone 13 128gb                     NaN   879,990   529,990        NaN   \n",
              "iphone 13 256gb                     NaN       NaN       NaN        NaN   \n",
              "iphone 13 512gb               1,199,990 1,199,990       NaN        NaN   \n",
              "iphone 13 pro 1tb                   NaN 1,649,990       NaN        NaN   \n",
              "iphone 14 128gb                     NaN       NaN   729,990        NaN   \n",
              "iphone 14 256gb               1,099,990       NaN       NaN        NaN   \n",
              "iphone 14 512gb                     NaN 1,369,990       NaN        NaN   \n",
              "iphone 14 plus 128gb                NaN       NaN       NaN        NaN   \n",
              "iphone 14 plus 256gb                NaN       NaN       NaN        NaN   \n",
              "iphone 14 plus 512gb                NaN 1,499,990       NaN        NaN   \n",
              "iphone 14 pro 128gb                 NaN       NaN       NaN        NaN   \n",
              "iphone 14 pro max 128gb             NaN       NaN       NaN        NaN   \n",
              "iphone 15 128gb                 999,990   979,990   849,990    979,990   \n",
              "iphone 15 256gb                     NaN       NaN       NaN        NaN   \n",
              "iphone 15 512gb                     NaN       NaN       NaN        NaN   \n",
              "iphone 15 negro 256gb               NaN       NaN       NaN        NaN   \n",
              "iphone 15 plus 128gb          1,199,990 1,999,900   999,990        NaN   \n",
              "iphone 15 plus 256gb          1,219,990       NaN       NaN        NaN   \n",
              "iphone 15 plus 512gb          1,523,090       NaN       NaN        NaN   \n",
              "iphone 15 pro 128gb                 NaN 1,229,990       NaN        NaN   \n",
              "iphone 15 pro 256gb                 NaN       NaN       NaN        NaN   \n",
              "iphone 15 pro 512gb           1,579,990       NaN       NaN        NaN   \n",
              "iphone 15 pro max  256gb            NaN       NaN       NaN        NaN   \n",
              "iphone 15 pro max 256gb             NaN 1,469,990       NaN  1,484,740   \n",
              "iphone 15 pro max 512gb       1,699,990       NaN       NaN        NaN   \n",
              "iphone 13 128gb                     NaN       NaN   619,990        NaN   \n",
              "iphone 15 pro 128gb                 NaN       NaN 1,149,990        NaN   \n",
              "iphone 15 pro 256gb                 NaN       NaN 1,199,990        NaN   \n",
              "iphone 15 pro max 256gb             NaN       NaN 1,379,990        NaN   \n",
              "iphone 15 pro max 512gb             NaN       NaN 1,499,990        NaN   \n",
              "\n",
              "tienda                      ripley       wom Tienda_Mejor_Precio  \n",
              "modelo                                                            \n",
              "iphone 11 128gb                NaN       NaN           falabella  \n",
              "iphone 11 64gb             399,990       NaN               paris  \n",
              "iphone 12 128gb                NaN   799,990           falabella  \n",
              "iphone 12 64gb                 NaN       NaN            movistar  \n",
              "iphone 13 128gb            649,990   889,990               paris  \n",
              "iphone 13 256gb            999,990       NaN               lider  \n",
              "iphone 13 512gb                NaN       NaN       mercado libre  \n",
              "iphone 13 pro 1tb              NaN       NaN            movistar  \n",
              "iphone 14 128gb            739,990   949,990               paris  \n",
              "iphone 14 256gb                NaN       NaN           falabella  \n",
              "iphone 14 512gb                NaN       NaN            movistar  \n",
              "iphone 14 plus 128gb           NaN       NaN               claro  \n",
              "iphone 14 plus 256gb           NaN       NaN               lider  \n",
              "iphone 14 plus 512gb           NaN       NaN            movistar  \n",
              "iphone 14 pro 128gb            NaN       NaN               claro  \n",
              "iphone 14 pro max 128gb        NaN       NaN               claro  \n",
              "iphone 15 128gb            849,990   999,990           falabella  \n",
              "iphone 15 256gb                NaN       NaN           falabella  \n",
              "iphone 15 512gb                NaN       NaN           falabella  \n",
              "iphone 15 negro 256gb          NaN       NaN               hites  \n",
              "iphone 15 plus 128gb     1,999,900       NaN               paris  \n",
              "iphone 15 plus 256gb           NaN       NaN       mercado libre  \n",
              "iphone 15 plus 512gb           NaN       NaN       mercado libre  \n",
              "iphone 15 pro 128gb      1,799,900 1,249,990           falabella  \n",
              "iphone 15 pro 256gb            NaN       NaN           falabella  \n",
              "iphone 15 pro 512gb      1,599,990       NaN       mercado libre  \n",
              "iphone 15 pro max  256gb       NaN 1,499,990                 wom  \n",
              "iphone 15 pro max 256gb  1,349,990       NaN           falabella  \n",
              "iphone 15 pro max 512gb  1,699,990       NaN           falabella  \n",
              "iphone 13 128gb                NaN       NaN               paris  \n",
              "iphone 15 pro 128gb            NaN       NaN               paris  \n",
              "iphone 15 pro 256gb            NaN       NaN               paris  \n",
              "iphone 15 pro max 256gb        NaN       NaN               paris  \n",
              "iphone 15 pro max 512gb        NaN       NaN               paris  "
            ]
          },
          "execution_count": 49,
          "metadata": {},
          "output_type": "execute_result"
        }
      ],
      "source": [
        "precios_real_modelo_tienda = productos.pivot_table(index='modelo', columns='tienda', values='precio_normal')\n",
        "\n",
        "precios_real_modelo_tienda['Tienda_Mejor_Precio'] = precios_real_modelo_tienda.idxmin(axis=1)\n",
        "\n",
        "precios_real_modelo_tienda"
      ]
    },
    {
      "cell_type": "markdown",
      "metadata": {
        "id": "w4CY7CYGbrE9"
      },
      "source": [
        "Aun en precio real falabella sigue siendo el mas barato esto igual depende de los modelos"
      ]
    },
    {
      "cell_type": "code",
      "execution_count": 50,
      "metadata": {
        "colab": {
          "base_uri": "https://localhost:8080/",
          "height": 366
        },
        "id": "AIzrs70QbrE9",
        "outputId": "9b417f4c-7cef-43bd-f80a-e24ad6365eaa"
      },
      "outputs": [
        {
          "data": {
            "text/plain": [
              "Tienda_Mejor_Precio\n",
              "falabella        10\n",
              "paris             9\n",
              "movistar          4\n",
              "mercado libre     4\n",
              "claro             3\n",
              "lider             2\n",
              "hites             1\n",
              "wom               1\n",
              "Name: count, dtype: int64"
            ]
          },
          "execution_count": 50,
          "metadata": {},
          "output_type": "execute_result"
        }
      ],
      "source": [
        "precios_real_modelo_tienda['Tienda_Mejor_Precio'].value_counts()"
      ]
    },
    {
      "cell_type": "markdown",
      "metadata": {
        "id": "bKZ-VBzebrE9"
      },
      "source": [
        "Tienda con Mayor Variedad de Modelos: movistar tiene disponible mas modelos que las otras tiendas"
      ]
    },
    {
      "cell_type": "code",
      "execution_count": 51,
      "metadata": {
        "colab": {
          "base_uri": "https://localhost:8080/",
          "height": 460
        },
        "id": "DPcjWeT3brE9",
        "outputId": "9e836b95-0dde-428e-e3b7-8fbdc97a02ed"
      },
      "outputs": [
        {
          "data": {
            "text/plain": [
              "tienda\n",
              "movistar         13\n",
              "falabella        12\n",
              "hites            11\n",
              "paris            11\n",
              "ripley           10\n",
              "mercado libre    10\n",
              "la polar         10\n",
              "claro             6\n",
              "lider             6\n",
              "wom               6\n",
              "pcfactory         2\n",
              "Name: modelo, dtype: int64"
            ]
          },
          "execution_count": 51,
          "metadata": {},
          "output_type": "execute_result"
        }
      ],
      "source": [
        "variedad_modelos_tienda = productos.groupby('tienda')['modelo'].nunique().sort_values(ascending=False)\n",
        "variedad_modelos_tienda"
      ]
    },
    {
      "cell_type": "markdown",
      "metadata": {
        "id": "XiOss77ZbrE9"
      },
      "source": [
        "Análisis de tendencias de precio\n",
        "\n",
        "Acá se comparan las ofertas con los precios reales, en pcfactory tiene un precio promedio en ofertas mas elevados que en comparacion de otras tienedas, es decir su valor de oferta con el precio real  no baja tanto en comparacion a los otros, por otro lado falabellaa tiene ofertas mas bajas a comparacion con sus precios reales, es decir que sus precios en oferta son mas economicos."
      ]
    },
    {
      "cell_type": "code",
      "execution_count": 52,
      "metadata": {
        "colab": {
          "base_uri": "https://localhost:8080/",
          "height": 408
        },
        "id": "g8CTr6trbrE-",
        "outputId": "db59030e-d5dd-495b-ca3f-6c2a80140b39"
      },
      "outputs": [
        {
          "data": {
            "image/png": "[encoded data removed]",
            "text/plain": [
              "<Figure size 1000x600 with 1 Axes>"
            ]
          },
          "metadata": {},
          "output_type": "display_data"
        }
      ],
      "source": [
        "tendencias_precios = productos.groupby(['modelo', 'tienda']).agg({\n",
        "    'precio_normal': ['mean', 'std'],\n",
        "    'precio_oferta': ['mean', 'std']\n",
        "}).reset_index()\n",
        "\n",
        "plt.figure(figsize=(10, 6))\n",
        "promedio_ofertas_tienda.plot(kind='barh', color='#ab8a8a')\n",
        "plt.title('Precio Promedio de Oferta por Tienda')\n",
        "plt.xlabel('Precio Promedio de Oferta')\n",
        "plt.ylabel('Tienda')\n",
        "plt.show()"
      ]
    },
    {
      "cell_type": "code",
      "execution_count": 53,
      "metadata": {
        "colab": {
          "base_uri": "https://localhost:8080/",
          "height": 542
        },
        "id": "x7w4MIvUbrE-",
        "outputId": "56cf8cbc-27ee-4cd0-dd32-86aa7449693d"
      },
      "outputs": [
        {
          "data": {
            "application/vnd.plotly.v1+json": {
              "config": {
                "plotlyServerURL": "https://plot.ly"
              },
              "data": [
                {
                  "customdata": [
                    [
                      "iphone 11 128gb",
                      "falabella",
                      "falabella"
                    ],
                    [
                      "iphone 11 64gb",
                      "claro",
                      "paris"
                    ],
                    [
                      "iphone 12 128gb",
                      "falabella",
                      "falabella"
                    ],
                    [
                      "iphone 12 64gb",
                      "movistar",
                      "movistar"
                    ],
                    [
                      "iphone 13 128gb",
                      "paris",
                      "paris"
                    ],
                    [
                      "iphone 13 256gb",
                      "lider",
                      "lider"
                    ],
                    [
                      "iphone 13 512gb",
                      "mercado libre",
                      "mercado libre"
                    ],
                    [
                      "iphone 13 pro 1tb",
                      "movistar",
                      "movistar"
                    ],
                    [
                      "iphone 14 128gb",
                      "lider",
                      "paris"
                    ],
                    [
                      "iphone 14 256gb",
                      "falabella",
                      "falabella"
                    ],
                    [
                      "iphone 14 512gb",
                      "movistar",
                      "movistar"
                    ],
                    [
                      "iphone 14 plus 128gb",
                      "claro",
                      "claro"
                    ],
                    [
                      "iphone 14 plus 256gb",
                      "lider",
                      "lider"
                    ],
                    [
                      "iphone 14 plus 512gb",
                      "movistar",
                      "movistar"
                    ],
                    [
                      "iphone 14 pro 128gb",
                      "claro",
                      "claro"
                    ],
                    [
                      "iphone 14 pro max 128gb",
                      "claro",
                      "claro"
                    ],
                    [
                      "iphone 15 128gb",
                      "falabella",
                      "falabella"
                    ],
                    [
                      "iphone 15 256gb",
                      "falabella",
                      "falabella"
                    ],
                    [
                      "iphone 15 512gb",
                      "falabella",
                      "falabella"
                    ],
                    [
                      "iphone 15 negro 256gb",
                      "hites",
                      "hites"
                    ],
                    [
                      "iphone 15 plus 128gb",
                      "paris",
                      "paris"
                    ],
                    [
                      "iphone 15 plus 256gb",
                      "mercado libre",
                      "mercado libre"
                    ],
                    [
                      "iphone 15 plus 512gb",
                      "mercado libre",
                      "mercado libre"
                    ],
                    [
                      "iphone 15 pro 128gb",
                      "ripley",
                      "falabella"
                    ],
                    [
                      "iphone 15 pro 256gb",
                      "falabella",
                      "falabella"
                    ],
                    [
                      "iphone 15 pro 512gb",
                      "la polar",
                      "mercado libre"
                    ],
                    [
                      "iphone 15 pro max  256gb",
                      "wom",
                      "wom"
                    ],
                    [
                      "iphone 15 pro max 256gb",
                      "falabella",
                      "falabella"
                    ],
                    [
                      "iphone 15 pro max 512gb",
                      "falabella",
                      "falabella"
                    ],
                    [
                      "iphone 13 128gb",
                      "paris",
                      "paris"
                    ],
                    [
                      "iphone 15 pro 128gb",
                      "paris",
                      "paris"
                    ],
                    [
                      "iphone 15 pro 256gb",
                      "paris",
                      "paris"
                    ],
                    [
                      "iphone 15 pro max 256gb",
                      "paris",
                      "paris"
                    ],
                    [
                      "iphone 15 pro max 512gb",
                      "paris",
                      "paris"
                    ]
                  ],
                  "hovertemplate": "Precio de Oferta Más Bajo=%{x}<br>Precio Normal Más Bajo=%{y}<br>modelo=%{customdata[0]}<br>Tienda_Mejor_Oferta=%{customdata[1]}<br>Tienda_Mejor_Precio_Normal=%{customdata[2]}<extra></extra>",
                  "legendgroup": "",
                  "marker": {
                    "color": "#636efa",
                    "symbol": "circle"
                  },
                  "mode": "markers",
                  "name": "",
                  "orientation": "v",
                  "showlegend": false,
                  "type": "scatter",
                  "x": [
                    399990,
                    329900,
                    479990,
                    564990,
                    529990,
                    689990,
                    869990,
                    1649990,
                    699990,
                    719990,
                    1039990,
                    949900,
                    889990,
                    1399990,
                    1179900,
                    1299900,
                    819990,
                    719990,
                    479990,
                    979990,
                    939990,
                    101666,
                    1269108,
                    1049990,
                    819990,
                    1349990,
                    1348800,
                    819990,
                    1079990,
                    599990,
                    1049990,
                    1199990,
                    1289990,
                    1499990
                  ],
                  "xaxis": "x",
                  "y": [
                    429990,
                    399990,
                    499990,
                    749990,
                    529990,
                    899990,
                    1199990,
                    1649990,
                    729990,
                    929990,
                    1369990,
                    1159990,
                    1229990,
                    1499990,
                    1299990,
                    1439990,
                    849990,
                    799990,
                    999990,
                    1199990,
                    999990,
                    1219990,
                    1523090,
                    1129990,
                    1199990,
                    1579990,
                    1499990,
                    1349990,
                    1499990,
                    619990,
                    1149990,
                    1199990,
                    1379990,
                    1499990
                  ],
                  "yaxis": "y"
                }
              ],
              "layout": {
                "legend": {
                  "tracegroupgap": 0
                },
                "template": {
                  "data": {
                    "bar": [
                      {
                        "error_x": {
                          "color": "#2a3f5f"
                        },
                        "error_y": {
                          "color": "#2a3f5f"
                        },
                        "marker": {
                          "line": {
                            "color": "#E5ECF6",
                            "width": 0.5
                          },
                          "pattern": {
                            "fillmode": "overlay",
                            "size": 10,
                            "solidity": 0.2
                          }
                        },
                        "type": "bar"
                      }
                    ],
                    "barpolar": [
                      {
                        "marker": {
                          "line": {
                            "color": "#E5ECF6",
                            "width": 0.5
                          },
                          "pattern": {
                            "fillmode": "overlay",
                            "size": 10,
                            "solidity": 0.2
                          }
                        },
                        "type": "barpolar"
                      }
                    ],
                    "carpet": [
                      {
                        "aaxis": {
                          "endlinecolor": "#2a3f5f",
                          "gridcolor": "white",
                          "linecolor": "white",
                          "minorgridcolor": "white",
                          "startlinecolor": "#2a3f5f"
                        },
                        "baxis": {
                          "endlinecolor": "#2a3f5f",
                          "gridcolor": "white",
                          "linecolor": "white",
                          "minorgridcolor": "white",
                          "startlinecolor": "#2a3f5f"
                        },
                        "type": "carpet"
                      }
                    ],
                    "choropleth": [
                      {
                        "colorbar": {
                          "outlinewidth": 0,
                          "ticks": ""
                        },
                        "type": "choropleth"
                      }
                    ],
                    "contour": [
                      {
                        "colorbar": {
                          "outlinewidth": 0,
                          "ticks": ""
                        },
                        "colorscale": [
                          [
                            0,
                            "#0d0887"
                          ],
                          [
                            0.1111111111111111,
                            "#46039f"
                          ],
                          [
                            0.2222222222222222,
                            "#7201a8"
                          ],
                          [
                            0.3333333333333333,
                            "#9c179e"
                          ],
                          [
                            0.4444444444444444,
                            "#bd3786"
                          ],
                          [
                            0.5555555555555556,
                            "#d8576b"
                          ],
                          [
                            0.6666666666666666,
                            "#ed7953"
                          ],
                          [
                            0.7777777777777778,
                            "#fb9f3a"
                          ],
                          [
                            0.8888888888888888,
                            "#fdca26"
                          ],
                          [
                            1,
                            "#f0f921"
                          ]
                        ],
                        "type": "contour"
                      }
                    ],
                    "contourcarpet": [
                      {
                        "colorbar": {
                          "outlinewidth": 0,
                          "ticks": ""
                        },
                        "type": "contourcarpet"
                      }
                    ],
                    "heatmap": [
                      {
                        "colorbar": {
                          "outlinewidth": 0,
                          "ticks": ""
                        },
                        "colorscale": [
                          [
                            0,
                            "#0d0887"
                          ],
                          [
                            0.1111111111111111,
                            "#46039f"
                          ],
                          [
                            0.2222222222222222,
                            "#7201a8"
                          ],
                          [
                            0.3333333333333333,
                            "#9c179e"
                          ],
                          [
                            0.4444444444444444,
                            "#bd3786"
                          ],
                          [
                            0.5555555555555556,
                            "#d8576b"
                          ],
                          [
                            0.6666666666666666,
                            "#ed7953"
                          ],
                          [
                            0.7777777777777778,
                            "#fb9f3a"
                          ],
                          [
                            0.8888888888888888,
                            "#fdca26"
                          ],
                          [
                            1,
                            "#f0f921"
                          ]
                        ],
                        "type": "heatmap"
                      }
                    ],
                    "heatmapgl": [
                      {
                        "colorbar": {
                          "outlinewidth": 0,
                          "ticks": ""
                        },
                        "colorscale": [
                          [
                            0,
                            "#0d0887"
                          ],
                          [
                            0.1111111111111111,
                            "#46039f"
                          ],
                          [
                            0.2222222222222222,
                            "#7201a8"
                          ],
                          [
                            0.3333333333333333,
                            "#9c179e"
                          ],
                          [
                            0.4444444444444444,
                            "#bd3786"
                          ],
                          [
                            0.5555555555555556,
                            "#d8576b"
                          ],
                          [
                            0.6666666666666666,
                            "#ed7953"
                          ],
                          [
                            0.7777777777777778,
                            "#fb9f3a"
                          ],
                          [
                            0.8888888888888888,
                            "#fdca26"
                          ],
                          [
                            1,
                            "#f0f921"
                          ]
                        ],
                        "type": "heatmapgl"
                      }
                    ],
                    "histogram": [
                      {
                        "marker": {
                          "pattern": {
                            "fillmode": "overlay",
                            "size": 10,
                            "solidity": 0.2
                          }
                        },
                        "type": "histogram"
                      }
                    ],
                    "histogram2d": [
                      {
                        "colorbar": {
                          "outlinewidth": 0,
                          "ticks": ""
                        },
                        "colorscale": [
                          [
                            0,
                            "#0d0887"
                          ],
                          [
                            0.1111111111111111,
                            "#46039f"
                          ],
                          [
                            0.2222222222222222,
                            "#7201a8"
                          ],
                          [
                            0.3333333333333333,
                            "#9c179e"
                          ],
                          [
                            0.4444444444444444,
                            "#bd3786"
                          ],
                          [
                            0.5555555555555556,
                            "#d8576b"
                          ],
                          [
                            0.6666666666666666,
                            "#ed7953"
                          ],
                          [
                            0.7777777777777778,
                            "#fb9f3a"
                          ],
                          [
                            0.8888888888888888,
                            "#fdca26"
                          ],
                          [
                            1,
                            "#f0f921"
                          ]
                        ],
                        "type": "histogram2d"
                      }
                    ],
                    "histogram2dcontour": [
                      {
                        "colorbar": {
                          "outlinewidth": 0,
                          "ticks": ""
                        },
                        "colorscale": [
                          [
                            0,
                            "#0d0887"
                          ],
                          [
                            0.1111111111111111,
                            "#46039f"
                          ],
                          [
                            0.2222222222222222,
                            "#7201a8"
                          ],
                          [
                            0.3333333333333333,
                            "#9c179e"
                          ],
                          [
                            0.4444444444444444,
                            "#bd3786"
                          ],
                          [
                            0.5555555555555556,
                            "#d8576b"
                          ],
                          [
                            0.6666666666666666,
                            "#ed7953"
                          ],
                          [
                            0.7777777777777778,
                            "#fb9f3a"
                          ],
                          [
                            0.8888888888888888,
                            "#fdca26"
                          ],
                          [
                            1,
                            "#f0f921"
                          ]
                        ],
                        "type": "histogram2dcontour"
                      }
                    ],
                    "mesh3d": [
                      {
                        "colorbar": {
                          "outlinewidth": 0,
                          "ticks": ""
                        },
                        "type": "mesh3d"
                      }
                    ],
                    "parcoords": [
                      {
                        "line": {
                          "colorbar": {
                            "outlinewidth": 0,
                            "ticks": ""
                          }
                        },
                        "type": "parcoords"
                      }
                    ],
                    "pie": [
                      {
                        "automargin": true,
                        "type": "pie"
                      }
                    ],
                    "scatter": [
                      {
                        "fillpattern": {
                          "fillmode": "overlay",
                          "size": 10,
                          "solidity": 0.2
                        },
                        "type": "scatter"
                      }
                    ],
                    "scatter3d": [
                      {
                        "line": {
                          "colorbar": {
                            "outlinewidth": 0,
                            "ticks": ""
                          }
                        },
                        "marker": {
                          "colorbar": {
                            "outlinewidth": 0,
                            "ticks": ""
                          }
                        },
                        "type": "scatter3d"
                      }
                    ],
                    "scattercarpet": [
                      {
                        "marker": {
                          "colorbar": {
                            "outlinewidth": 0,
                            "ticks": ""
                          }
                        },
                        "type": "scattercarpet"
                      }
                    ],
                    "scattergeo": [
                      {
                        "marker": {
                          "colorbar": {
                            "outlinewidth": 0,
                            "ticks": ""
                          }
                        },
                        "type": "scattergeo"
                      }
                    ],
                    "scattergl": [
                      {
                        "marker": {
                          "colorbar": {
                            "outlinewidth": 0,
                            "ticks": ""
                          }
                        },
                        "type": "scattergl"
                      }
                    ],
                    "scattermapbox": [
                      {
                        "marker": {
                          "colorbar": {
                            "outlinewidth": 0,
                            "ticks": ""
                          }
                        },
                        "type": "scattermapbox"
                      }
                    ],
                    "scatterpolar": [
                      {
                        "marker": {
                          "colorbar": {
                            "outlinewidth": 0,
                            "ticks": ""
                          }
                        },
                        "type": "scatterpolar"
                      }
                    ],
                    "scatterpolargl": [
                      {
                        "marker": {
                          "colorbar": {
                            "outlinewidth": 0,
                            "ticks": ""
                          }
                        },
                        "type": "scatterpolargl"
                      }
                    ],
                    "scatterternary": [
                      {
                        "marker": {
                          "colorbar": {
                            "outlinewidth": 0,
                            "ticks": ""
                          }
                        },
                        "type": "scatterternary"
                      }
                    ],
                    "surface": [
                      {
                        "colorbar": {
                          "outlinewidth": 0,
                          "ticks": ""
                        },
                        "colorscale": [
                          [
                            0,
                            "#0d0887"
                          ],
                          [
                            0.1111111111111111,
                            "#46039f"
                          ],
                          [
                            0.2222222222222222,
                            "#7201a8"
                          ],
                          [
                            0.3333333333333333,
                            "#9c179e"
                          ],
                          [
                            0.4444444444444444,
                            "#bd3786"
                          ],
                          [
                            0.5555555555555556,
                            "#d8576b"
                          ],
                          [
                            0.6666666666666666,
                            "#ed7953"
                          ],
                          [
                            0.7777777777777778,
                            "#fb9f3a"
                          ],
                          [
                            0.8888888888888888,
                            "#fdca26"
                          ],
                          [
                            1,
                            "#f0f921"
                          ]
                        ],
                        "type": "surface"
                      }
                    ],
                    "table": [
                      {
                        "cells": {
                          "fill": {
                            "color": "#EBF0F8"
                          },
                          "line": {
                            "color": "white"
                          }
                        },
                        "header": {
                          "fill": {
                            "color": "#C8D4E3"
                          },
                          "line": {
                            "color": "white"
                          }
                        },
                        "type": "table"
                      }
                    ]
                  },
                  "layout": {
                    "annotationdefaults": {
                      "arrowcolor": "#2a3f5f",
                      "arrowhead": 0,
                      "arrowwidth": 1
                    },
                    "autotypenumbers": "strict",
                    "coloraxis": {
                      "colorbar": {
                        "outlinewidth": 0,
                        "ticks": ""
                      }
                    },
                    "colorscale": {
                      "diverging": [
                        [
                          0,
                          "#8e0152"
                        ],
                        [
                          0.1,
                          "#c51b7d"
                        ],
                        [
                          0.2,
                          "#de77ae"
                        ],
                        [
                          0.3,
                          "#f1b6da"
                        ],
                        [
                          0.4,
                          "#fde0ef"
                        ],
                        [
                          0.5,
                          "#f7f7f7"
                        ],
                        [
                          0.6,
                          "#e6f5d0"
                        ],
                        [
                          0.7,
                          "#b8e186"
                        ],
                        [
                          0.8,
                          "#7fbc41"
                        ],
                        [
                          0.9,
                          "#4d9221"
                        ],
                        [
                          1,
                          "#276419"
                        ]
                      ],
                      "sequential": [
                        [
                          0,
                          "#0d0887"
                        ],
                        [
                          0.1111111111111111,
                          "#46039f"
                        ],
                        [
                          0.2222222222222222,
                          "#7201a8"
                        ],
                        [
                          0.3333333333333333,
                          "#9c179e"
                        ],
                        [
                          0.4444444444444444,
                          "#bd3786"
                        ],
                        [
                          0.5555555555555556,
                          "#d8576b"
                        ],
                        [
                          0.6666666666666666,
                          "#ed7953"
                        ],
                        [
                          0.7777777777777778,
                          "#fb9f3a"
                        ],
                        [
                          0.8888888888888888,
                          "#fdca26"
                        ],
                        [
                          1,
                          "#f0f921"
                        ]
                      ],
                      "sequentialminus": [
                        [
                          0,
                          "#0d0887"
                        ],
                        [
                          0.1111111111111111,
                          "#46039f"
                        ],
                        [
                          0.2222222222222222,
                          "#7201a8"
                        ],
                        [
                          0.3333333333333333,
                          "#9c179e"
                        ],
                        [
                          0.4444444444444444,
                          "#bd3786"
                        ],
                        [
                          0.5555555555555556,
                          "#d8576b"
                        ],
                        [
                          0.6666666666666666,
                          "#ed7953"
                        ],
                        [
                          0.7777777777777778,
                          "#fb9f3a"
                        ],
                        [
                          0.8888888888888888,
                          "#fdca26"
                        ],
                        [
                          1,
                          "#f0f921"
                        ]
                      ]
                    },
                    "colorway": [
                      "#636efa",
                      "#EF553B",
                      "#00cc96",
                      "#ab63fa",
                      "#FFA15A",
                      "#19d3f3",
                      "#FF6692",
                      "#B6E880",
                      "#FF97FF",
                      "#FECB52"
                    ],
                    "font": {
                      "color": "#2a3f5f"
                    },
                    "geo": {
                      "bgcolor": "white",
                      "lakecolor": "white",
                      "landcolor": "#E5ECF6",
                      "showlakes": true,
                      "showland": true,
                      "subunitcolor": "white"
                    },
                    "hoverlabel": {
                      "align": "left"
                    },
                    "hovermode": "closest",
                    "mapbox": {
                      "style": "light"
                    },
                    "paper_bgcolor": "white",
                    "plot_bgcolor": "#E5ECF6",
                    "polar": {
                      "angularaxis": {
                        "gridcolor": "white",
                        "linecolor": "white",
                        "ticks": ""
                      },
                      "bgcolor": "#E5ECF6",
                      "radialaxis": {
                        "gridcolor": "white",
                        "linecolor": "white",
                        "ticks": ""
                      }
                    },
                    "scene": {
                      "xaxis": {
                        "backgroundcolor": "#E5ECF6",
                        "gridcolor": "white",
                        "gridwidth": 2,
                        "linecolor": "white",
                        "showbackground": true,
                        "ticks": "",
                        "zerolinecolor": "white"
                      },
                      "yaxis": {
                        "backgroundcolor": "#E5ECF6",
                        "gridcolor": "white",
                        "gridwidth": 2,
                        "linecolor": "white",
                        "showbackground": true,
                        "ticks": "",
                        "zerolinecolor": "white"
                      },
                      "zaxis": {
                        "backgroundcolor": "#E5ECF6",
                        "gridcolor": "white",
                        "gridwidth": 2,
                        "linecolor": "white",
                        "showbackground": true,
                        "ticks": "",
                        "zerolinecolor": "white"
                      }
                    },
                    "shapedefaults": {
                      "line": {
                        "color": "#2a3f5f"
                      }
                    },
                    "ternary": {
                      "aaxis": {
                        "gridcolor": "white",
                        "linecolor": "white",
                        "ticks": ""
                      },
                      "baxis": {
                        "gridcolor": "white",
                        "linecolor": "white",
                        "ticks": ""
                      },
                      "bgcolor": "#E5ECF6",
                      "caxis": {
                        "gridcolor": "white",
                        "linecolor": "white",
                        "ticks": ""
                      }
                    },
                    "title": {
                      "x": 0.05
                    },
                    "xaxis": {
                      "automargin": true,
                      "gridcolor": "white",
                      "linecolor": "white",
                      "ticks": "",
                      "title": {
                        "standoff": 15
                      },
                      "zerolinecolor": "white",
                      "zerolinewidth": 2
                    },
                    "yaxis": {
                      "automargin": true,
                      "gridcolor": "white",
                      "linecolor": "white",
                      "ticks": "",
                      "title": {
                        "standoff": 15
                      },
                      "zerolinecolor": "white",
                      "zerolinewidth": 2
                    }
                  }
                },
                "title": {
                  "text": "Comparación de Precios de Oferta y Normal por Modelo"
                },
                "xaxis": {
                  "anchor": "y",
                  "domain": [
                    0,
                    1
                  ],
                  "title": {
                    "text": "Precio de Oferta Más Bajo"
                  }
                },
                "yaxis": {
                  "anchor": "x",
                  "domain": [
                    0,
                    1
                  ],
                  "title": {
                    "text": "Precio Normal Más Bajo"
                  }
                }
              }
            }
          },
          "metadata": {},
          "output_type": "display_data"
        }
      ],
      "source": [
        "import pandas as pd\n",
        "import plotly.express as px\n",
        "\n",
        "precios_normales = productos.pivot_table(index='modelo', columns='tienda', values='precio_normal')\n",
        "precios_normales['Tienda_Mejor_Precio_Normal'] = precios_normales.idxmin(axis=1)\n",
        "precios_normales['Precio_Normal_Más_Bajo'] = precios_normales.select_dtypes(include=['float64', 'int64']).min(axis=1)\n",
        "\n",
        "precios_oferta = productos.pivot_table(index='modelo', columns='tienda', values='precio_oferta')\n",
        "precios_oferta['Tienda_Mejor_Oferta'] = precios_oferta.idxmin(axis=1)\n",
        "precios_oferta['Precio_Oferta_Más_Bajo'] = precios_oferta.select_dtypes(include=['float64', 'int64']).min(axis=1)\n",
        "\n",
        "resultados = pd.concat([precios_oferta[['Tienda_Mejor_Oferta', 'Precio_Oferta_Más_Bajo']], precios_normales[['Tienda_Mejor_Precio_Normal', 'Precio_Normal_Más_Bajo']]], axis=1)\n",
        "\n",
        "fig = px.scatter(resultados.reset_index(), x='Precio_Oferta_Más_Bajo', y='Precio_Normal_Más_Bajo',\n",
        "                 hover_data=['modelo', 'Tienda_Mejor_Oferta', 'Tienda_Mejor_Precio_Normal'],\n",
        "                 labels={\n",
        "                     \"Precio_Oferta_Más_Bajo\": \"Precio de Oferta Más Bajo\",\n",
        "                     \"Precio_Normal_Más_Bajo\": \"Precio Normal Más Bajo\"\n",
        "                 },\n",
        "                 title=\"Comparación de Precios de Oferta y Normal por Modelo\")\n",
        "\n",
        "fig.show()\n"
      ]
    },
    {
      "cell_type": "code",
      "execution_count": 55,
      "metadata": {
        "colab": {
          "base_uri": "https://localhost:8080/",
          "height": 661,
          "referenced_widgets": [
            "65d6051dac924e97bb2149948d135370",
            "c1b00b495388433393e82c9b21d925ec",
            "5cb623bfec1c41f09338de6f25fde2e0",
            "a81fb8c890ab46fbb5507366bb634eb9",
            "1d72218f8ff54093a24f327f23a7cc0f",
            "431725f970224bbdb77646c8c6ee0bf2",
            "a3d022bd91d246cda8f636879c7f19fb"
          ]
        },
        "id": "sbfSdh8YbrFA",
        "outputId": "8ebf6a56-2ae6-4dbc-918b-91db8780bdbc"
      },
      "outputs": [
        {
          "data": {
            "application/vnd.plotly.v1+json": {
              "config": {
                "plotlyServerURL": "https://plot.ly"
              },
              "data": [
                {
                  "marker": {
                    "color": "#ab8a8a"
                  },
                  "name": "Precio de Oferta",
                  "type": "bar",
                  "x": [
                    "falabella"
                  ],
                  "y": [
                    399990
                  ]
                },
                {
                  "marker": {
                    "color": "#dcb6a8"
                  },
                  "name": "Precio Normal",
                  "type": "bar",
                  "x": [
                    "falabella"
                  ],
                  "y": [
                    429990
                  ]
                }
              ],
              "layout": {
                "barmode": "group",
                "template": {
                  "data": {
                    "bar": [
                      {
                        "error_x": {
                          "color": "#2a3f5f"
                        },
                        "error_y": {
                          "color": "#2a3f5f"
                        },
                        "marker": {
                          "line": {
                            "color": "#E5ECF6",
                            "width": 0.5
                          },
                          "pattern": {
                            "fillmode": "overlay",
                            "size": 10,
                            "solidity": 0.2
                          }
                        },
                        "type": "bar"
                      }
                    ],
                    "barpolar": [
                      {
                        "marker": {
                          "line": {
                            "color": "#E5ECF6",
                            "width": 0.5
                          },
                          "pattern": {
                            "fillmode": "overlay",
                            "size": 10,
                            "solidity": 0.2
                          }
                        },
                        "type": "barpolar"
                      }
                    ],
                    "carpet": [
                      {
                        "aaxis": {
                          "endlinecolor": "#2a3f5f",
                          "gridcolor": "white",
                          "linecolor": "white",
                          "minorgridcolor": "white",
                          "startlinecolor": "#2a3f5f"
                        },
                        "baxis": {
                          "endlinecolor": "#2a3f5f",
                          "gridcolor": "white",
                          "linecolor": "white",
                          "minorgridcolor": "white",
                          "startlinecolor": "#2a3f5f"
                        },
                        "type": "carpet"
                      }
                    ],
                    "choropleth": [
                      {
                        "colorbar": {
                          "outlinewidth": 0,
                          "ticks": ""
                        },
                        "type": "choropleth"
                      }
                    ],
                    "contour": [
                      {
                        "colorbar": {
                          "outlinewidth": 0,
                          "ticks": ""
                        },
                        "colorscale": [
                          [
                            0,
                            "#0d0887"
                          ],
                          [
                            0.1111111111111111,
                            "#46039f"
                          ],
                          [
                            0.2222222222222222,
                            "#7201a8"
                          ],
                          [
                            0.3333333333333333,
                            "#9c179e"
                          ],
                          [
                            0.4444444444444444,
                            "#bd3786"
                          ],
                          [
                            0.5555555555555556,
                            "#d8576b"
                          ],
                          [
                            0.6666666666666666,
                            "#ed7953"
                          ],
                          [
                            0.7777777777777778,
                            "#fb9f3a"
                          ],
                          [
                            0.8888888888888888,
                            "#fdca26"
                          ],
                          [
                            1,
                            "#f0f921"
                          ]
                        ],
                        "type": "contour"
                      }
                    ],
                    "contourcarpet": [
                      {
                        "colorbar": {
                          "outlinewidth": 0,
                          "ticks": ""
                        },
                        "type": "contourcarpet"
                      }
                    ],
                    "heatmap": [
                      {
                        "colorbar": {
                          "outlinewidth": 0,
                          "ticks": ""
                        },
                        "colorscale": [
                          [
                            0,
                            "#0d0887"
                          ],
                          [
                            0.1111111111111111,
                            "#46039f"
                          ],
                          [
                            0.2222222222222222,
                            "#7201a8"
                          ],
                          [
                            0.3333333333333333,
                            "#9c179e"
                          ],
                          [
                            0.4444444444444444,
                            "#bd3786"
                          ],
                          [
                            0.5555555555555556,
                            "#d8576b"
                          ],
                          [
                            0.6666666666666666,
                            "#ed7953"
                          ],
                          [
                            0.7777777777777778,
                            "#fb9f3a"
                          ],
                          [
                            0.8888888888888888,
                            "#fdca26"
                          ],
                          [
                            1,
                            "#f0f921"
                          ]
                        ],
                        "type": "heatmap"
                      }
                    ],
                    "heatmapgl": [
                      {
                        "colorbar": {
                          "outlinewidth": 0,
                          "ticks": ""
                        },
                        "colorscale": [
                          [
                            0,
                            "#0d0887"
                          ],
                          [
                            0.1111111111111111,
                            "#46039f"
                          ],
                          [
                            0.2222222222222222,
                            "#7201a8"
                          ],
                          [
                            0.3333333333333333,
                            "#9c179e"
                          ],
                          [
                            0.4444444444444444,
                            "#bd3786"
                          ],
                          [
                            0.5555555555555556,
                            "#d8576b"
                          ],
                          [
                            0.6666666666666666,
                            "#ed7953"
                          ],
                          [
                            0.7777777777777778,
                            "#fb9f3a"
                          ],
                          [
                            0.8888888888888888,
                            "#fdca26"
                          ],
                          [
                            1,
                            "#f0f921"
                          ]
                        ],
                        "type": "heatmapgl"
                      }
                    ],
                    "histogram": [
                      {
                        "marker": {
                          "pattern": {
                            "fillmode": "overlay",
                            "size": 10,
                            "solidity": 0.2
                          }
                        },
                        "type": "histogram"
                      }
                    ],
                    "histogram2d": [
                      {
                        "colorbar": {
                          "outlinewidth": 0,
                          "ticks": ""
                        },
                        "colorscale": [
                          [
                            0,
                            "#0d0887"
                          ],
                          [
                            0.1111111111111111,
                            "#46039f"
                          ],
                          [
                            0.2222222222222222,
                            "#7201a8"
                          ],
                          [
                            0.3333333333333333,
                            "#9c179e"
                          ],
                          [
                            0.4444444444444444,
                            "#bd3786"
                          ],
                          [
                            0.5555555555555556,
                            "#d8576b"
                          ],
                          [
                            0.6666666666666666,
                            "#ed7953"
                          ],
                          [
                            0.7777777777777778,
                            "#fb9f3a"
                          ],
                          [
                            0.8888888888888888,
                            "#fdca26"
                          ],
                          [
                            1,
                            "#f0f921"
                          ]
                        ],
                        "type": "histogram2d"
                      }
                    ],
                    "histogram2dcontour": [
                      {
                        "colorbar": {
                          "outlinewidth": 0,
                          "ticks": ""
                        },
                        "colorscale": [
                          [
                            0,
                            "#0d0887"
                          ],
                          [
                            0.1111111111111111,
                            "#46039f"
                          ],
                          [
                            0.2222222222222222,
                            "#7201a8"
                          ],
                          [
                            0.3333333333333333,
                            "#9c179e"
                          ],
                          [
                            0.4444444444444444,
                            "#bd3786"
                          ],
                          [
                            0.5555555555555556,
                            "#d8576b"
                          ],
                          [
                            0.6666666666666666,
                            "#ed7953"
                          ],
                          [
                            0.7777777777777778,
                            "#fb9f3a"
                          ],
                          [
                            0.8888888888888888,
                            "#fdca26"
                          ],
                          [
                            1,
                            "#f0f921"
                          ]
                        ],
                        "type": "histogram2dcontour"
                      }
                    ],
                    "mesh3d": [
                      {
                        "colorbar": {
                          "outlinewidth": 0,
                          "ticks": ""
                        },
                        "type": "mesh3d"
                      }
                    ],
                    "parcoords": [
                      {
                        "line": {
                          "colorbar": {
                            "outlinewidth": 0,
                            "ticks": ""
                          }
                        },
                        "type": "parcoords"
                      }
                    ],
                    "pie": [
                      {
                        "automargin": true,
                        "type": "pie"
                      }
                    ],
                    "scatter": [
                      {
                        "fillpattern": {
                          "fillmode": "overlay",
                          "size": 10,
                          "solidity": 0.2
                        },
                        "type": "scatter"
                      }
                    ],
                    "scatter3d": [
                      {
                        "line": {
                          "colorbar": {
                            "outlinewidth": 0,
                            "ticks": ""
                          }
                        },
                        "marker": {
                          "colorbar": {
                            "outlinewidth": 0,
                            "ticks": ""
                          }
                        },
                        "type": "scatter3d"
                      }
                    ],
                    "scattercarpet": [
                      {
                        "marker": {
                          "colorbar": {
                            "outlinewidth": 0,
                            "ticks": ""
                          }
                        },
                        "type": "scattercarpet"
                      }
                    ],
                    "scattergeo": [
                      {
                        "marker": {
                          "colorbar": {
                            "outlinewidth": 0,
                            "ticks": ""
                          }
                        },
                        "type": "scattergeo"
                      }
                    ],
                    "scattergl": [
                      {
                        "marker": {
                          "colorbar": {
                            "outlinewidth": 0,
                            "ticks": ""
                          }
                        },
                        "type": "scattergl"
                      }
                    ],
                    "scattermapbox": [
                      {
                        "marker": {
                          "colorbar": {
                            "outlinewidth": 0,
                            "ticks": ""
                          }
                        },
                        "type": "scattermapbox"
                      }
                    ],
                    "scatterpolar": [
                      {
                        "marker": {
                          "colorbar": {
                            "outlinewidth": 0,
                            "ticks": ""
                          }
                        },
                        "type": "scatterpolar"
                      }
                    ],
                    "scatterpolargl": [
                      {
                        "marker": {
                          "colorbar": {
                            "outlinewidth": 0,
                            "ticks": ""
                          }
                        },
                        "type": "scatterpolargl"
                      }
                    ],
                    "scatterternary": [
                      {
                        "marker": {
                          "colorbar": {
                            "outlinewidth": 0,
                            "ticks": ""
                          }
                        },
                        "type": "scatterternary"
                      }
                    ],
                    "surface": [
                      {
                        "colorbar": {
                          "outlinewidth": 0,
                          "ticks": ""
                        },
                        "colorscale": [
                          [
                            0,
                            "#0d0887"
                          ],
                          [
                            0.1111111111111111,
                            "#46039f"
                          ],
                          [
                            0.2222222222222222,
                            "#7201a8"
                          ],
                          [
                            0.3333333333333333,
                            "#9c179e"
                          ],
                          [
                            0.4444444444444444,
                            "#bd3786"
                          ],
                          [
                            0.5555555555555556,
                            "#d8576b"
                          ],
                          [
                            0.6666666666666666,
                            "#ed7953"
                          ],
                          [
                            0.7777777777777778,
                            "#fb9f3a"
                          ],
                          [
                            0.8888888888888888,
                            "#fdca26"
                          ],
                          [
                            1,
                            "#f0f921"
                          ]
                        ],
                        "type": "surface"
                      }
                    ],
                    "table": [
                      {
                        "cells": {
                          "fill": {
                            "color": "#EBF0F8"
                          },
                          "line": {
                            "color": "white"
                          }
                        },
                        "header": {
                          "fill": {
                            "color": "#C8D4E3"
                          },
                          "line": {
                            "color": "white"
                          }
                        },
                        "type": "table"
                      }
                    ]
                  },
                  "layout": {
                    "annotationdefaults": {
                      "arrowcolor": "#2a3f5f",
                      "arrowhead": 0,
                      "arrowwidth": 1
                    },
                    "autotypenumbers": "strict",
                    "coloraxis": {
                      "colorbar": {
                        "outlinewidth": 0,
                        "ticks": ""
                      }
                    },
                    "colorscale": {
                      "diverging": [
                        [
                          0,
                          "#8e0152"
                        ],
                        [
                          0.1,
                          "#c51b7d"
                        ],
                        [
                          0.2,
                          "#de77ae"
                        ],
                        [
                          0.3,
                          "#f1b6da"
                        ],
                        [
                          0.4,
                          "#fde0ef"
                        ],
                        [
                          0.5,
                          "#f7f7f7"
                        ],
                        [
                          0.6,
                          "#e6f5d0"
                        ],
                        [
                          0.7,
                          "#b8e186"
                        ],
                        [
                          0.8,
                          "#7fbc41"
                        ],
                        [
                          0.9,
                          "#4d9221"
                        ],
                        [
                          1,
                          "#276419"
                        ]
                      ],
                      "sequential": [
                        [
                          0,
                          "#0d0887"
                        ],
                        [
                          0.1111111111111111,
                          "#46039f"
                        ],
                        [
                          0.2222222222222222,
                          "#7201a8"
                        ],
                        [
                          0.3333333333333333,
                          "#9c179e"
                        ],
                        [
                          0.4444444444444444,
                          "#bd3786"
                        ],
                        [
                          0.5555555555555556,
                          "#d8576b"
                        ],
                        [
                          0.6666666666666666,
                          "#ed7953"
                        ],
                        [
                          0.7777777777777778,
                          "#fb9f3a"
                        ],
                        [
                          0.8888888888888888,
                          "#fdca26"
                        ],
                        [
                          1,
                          "#f0f921"
                        ]
                      ],
                      "sequentialminus": [
                        [
                          0,
                          "#0d0887"
                        ],
                        [
                          0.1111111111111111,
                          "#46039f"
                        ],
                        [
                          0.2222222222222222,
                          "#7201a8"
                        ],
                        [
                          0.3333333333333333,
                          "#9c179e"
                        ],
                        [
                          0.4444444444444444,
                          "#bd3786"
                        ],
                        [
                          0.5555555555555556,
                          "#d8576b"
                        ],
                        [
                          0.6666666666666666,
                          "#ed7953"
                        ],
                        [
                          0.7777777777777778,
                          "#fb9f3a"
                        ],
                        [
                          0.8888888888888888,
                          "#fdca26"
                        ],
                        [
                          1,
                          "#f0f921"
                        ]
                      ]
                    },
                    "colorway": [
                      "#636efa",
                      "#EF553B",
                      "#00cc96",
                      "#ab63fa",
                      "#FFA15A",
                      "#19d3f3",
                      "#FF6692",
                      "#B6E880",
                      "#FF97FF",
                      "#FECB52"
                    ],
                    "font": {
                      "color": "#2a3f5f"
                    },
                    "geo": {
                      "bgcolor": "white",
                      "lakecolor": "white",
                      "landcolor": "#E5ECF6",
                      "showlakes": true,
                      "showland": true,
                      "subunitcolor": "white"
                    },
                    "hoverlabel": {
                      "align": "left"
                    },
                    "hovermode": "closest",
                    "mapbox": {
                      "style": "light"
                    },
                    "paper_bgcolor": "white",
                    "plot_bgcolor": "#E5ECF6",
                    "polar": {
                      "angularaxis": {
                        "gridcolor": "white",
                        "linecolor": "white",
                        "ticks": ""
                      },
                      "bgcolor": "#E5ECF6",
                      "radialaxis": {
                        "gridcolor": "white",
                        "linecolor": "white",
                        "ticks": ""
                      }
                    },
                    "scene": {
                      "xaxis": {
                        "backgroundcolor": "#E5ECF6",
                        "gridcolor": "white",
                        "gridwidth": 2,
                        "linecolor": "white",
                        "showbackground": true,
                        "ticks": "",
                        "zerolinecolor": "white"
                      },
                      "yaxis": {
                        "backgroundcolor": "#E5ECF6",
                        "gridcolor": "white",
                        "gridwidth": 2,
                        "linecolor": "white",
                        "showbackground": true,
                        "ticks": "",
                        "zerolinecolor": "white"
                      },
                      "zaxis": {
                        "backgroundcolor": "#E5ECF6",
                        "gridcolor": "white",
                        "gridwidth": 2,
                        "linecolor": "white",
                        "showbackground": true,
                        "ticks": "",
                        "zerolinecolor": "white"
                      }
                    },
                    "shapedefaults": {
                      "line": {
                        "color": "#2a3f5f"
                      }
                    },
                    "ternary": {
                      "aaxis": {
                        "gridcolor": "white",
                        "linecolor": "white",
                        "ticks": ""
                      },
                      "baxis": {
                        "gridcolor": "white",
                        "linecolor": "white",
                        "ticks": ""
                      },
                      "bgcolor": "#E5ECF6",
                      "caxis": {
                        "gridcolor": "white",
                        "linecolor": "white",
                        "ticks": ""
                      }
                    },
                    "title": {
                      "x": 0.05
                    },
                    "xaxis": {
                      "automargin": true,
                      "gridcolor": "white",
                      "linecolor": "white",
                      "ticks": "",
                      "title": {
                        "standoff": 15
                      },
                      "zerolinecolor": "white",
                      "zerolinewidth": 2
                    },
                    "yaxis": {
                      "automargin": true,
                      "gridcolor": "white",
                      "linecolor": "white",
                      "ticks": "",
                      "title": {
                        "standoff": 15
                      },
                      "zerolinecolor": "white",
                      "zerolinewidth": 2
                    }
                  }
                },
                "title": {
                  "text": "Precios para Iphone 11 128Gb"
                },
                "xaxis": {
                  "title": {
                    "text": "Tienda"
                  }
                },
                "yaxis": {
                  "title": {
                    "text": "Precio"
                  }
                }
              }
            }
          },
          "metadata": {},
          "output_type": "display_data"
        },
        {
          "data": {
            "application/vnd.jupyter.widget-view+json": {
              "model_id": "37774f26dfe746ce8a7840717dc6b121",
              "version_major": 2,
              "version_minor": 0
            },
            "text/plain": [
              "interactive(children=(Dropdown(description='modelo', options=('iphone 11 128gb', 'iphone 11 64gb', 'iphone 12 …"
            ]
          },
          "metadata": {},
          "output_type": "display_data"
        },
        {
          "data": {
            "text/plain": [
              "<function __main__.update_graph(modelo)>"
            ]
          },
          "execution_count": 55,
          "metadata": {},
          "output_type": "execute_result"
        }
      ],
      "source": [
        "import pandas as pd\n",
        "import plotly.graph_objects as go\n",
        "from ipywidgets import interact\n",
        "\n",
        "precios_normales = productos.pivot_table(index='modelo', columns='tienda', values='precio_normal')\n",
        "precios_normales['Tienda_Mejor_Precio_Normal'] = precios_normales.idxmin(axis=1)\n",
        "precios_normales['Precio_Normal_Más_Bajo'] = precios_normales.select_dtypes(include=['float64', 'int64']).min(axis=1)\n",
        "\n",
        "precios_oferta = productos.pivot_table(index='modelo', columns='tienda', values='precio_oferta')\n",
        "precios_oferta['Tienda_Mejor_Oferta'] = precios_oferta.idxmin(axis=1)\n",
        "precios_oferta['Precio_Oferta_Más_Bajo'] = precios_oferta.select_dtypes(include=['float64', 'int64']).min(axis=1)\n",
        "\n",
        "resultados = pd.concat([precios_oferta[['Tienda_Mejor_Oferta', 'Precio_Oferta_Más_Bajo']], precios_normales[['Tienda_Mejor_Precio_Normal', 'Precio_Normal_Más_Bajo']]], axis=1)\n",
        "\n",
        "def update_graph(modelo):\n",
        "    fig = go.Figure()\n",
        "\n",
        "    fig.add_trace(go.Bar(\n",
        "        x=[resultados.loc[modelo]['Tienda_Mejor_Oferta']],\n",
        "        y=[resultados.loc[modelo]['Precio_Oferta_Más_Bajo']],\n",
        "        name='Precio de Oferta',\n",
        "        marker_color='#ab8a8a'\n",
        "    ))\n",
        "\n",
        "    fig.add_trace(go.Bar(\n",
        "        x=[resultados.loc[modelo]['Tienda_Mejor_Precio_Normal']],\n",
        "        y=[resultados.loc[modelo]['Precio_Normal_Más_Bajo']],\n",
        "        name='Precio Normal',\n",
        "        marker_color='#dcb6a8'\n",
        "    ))\n",
        "\n",
        "    fig.update_layout(\n",
        "        title=f'Precios para {modelo.title()}',\n",
        "        xaxis_title='Tienda',\n",
        "        yaxis_title='Precio',\n",
        "        barmode='group'\n",
        "    )\n",
        "\n",
        "    fig.show()\n",
        "\n",
        "interact(update_graph, modelo=list(resultados.index))\n"
      ]
    },
    {
      "cell_type": "code",
      "execution_count": 56,
      "metadata": {
        "colab": {
          "base_uri": "https://localhost:8080/",
          "height": 609
        },
        "id": "vazW36Vghkfq",
        "outputId": "999be187-2955-4362-ec5c-67bd50dc06bf"
      },
      "outputs": [
        {
          "data": {
            "image/png": "[encoded data removed]",
            "text/plain": [
              "<Figure size 1200x800 with 1 Axes>"
            ]
          },
          "metadata": {},
          "output_type": "display_data"
        }
      ],
      "source": [
        "plt.figure(figsize=(12, 8))\n",
        "sns.boxplot(x='tienda', y='precio_normal', data=productos)\n",
        "plt.xticks(rotation=45)\n",
        "plt.title('Variabilidad de Precios Normales por Tienda')\n",
        "plt.xlabel('Tienda')\n",
        "plt.ylabel('Precio Normal (CLP)')\n",
        "plt.show()\n"
      ]
    },
    {
      "cell_type": "markdown",
      "metadata": {
        "id": "vbS1e7as9gWu"
      },
      "source": [
        "## Parte 2"
      ]
    },
    {
      "cell_type": "code",
      "execution_count": 63,
      "metadata": {
        "colab": {
          "base_uri": "https://localhost:8080/",
          "height": 424
        },
        "id": "mhtqOvFv9i--",
        "outputId": "2acbd0aa-2189-4d9a-d8cc-6a4eb1f60253"
      },
      "outputs": [
        {
          "data": {
            "text/html": [
              "<div>\n",
              "<style scoped>\n",
              "    .dataframe tbody tr th:only-of-type {\n",
              "        vertical-align: middle;\n",
              "    }\n",
              "\n",
              "    .dataframe tbody tr th {\n",
              "        vertical-align: top;\n",
              "    }\n",
              "\n",
              "    .dataframe thead th {\n",
              "        text-align: right;\n",
              "    }\n",
              "</style>\n",
              "<table border=\"1\" class=\"dataframe\">\n",
              "  <thead>\n",
              "    <tr style=\"text-align: right;\">\n",
              "      <th></th>\n",
              "      <th>modelo</th>\n",
              "      <th>precio_normal</th>\n",
              "      <th>precio_oferta</th>\n",
              "      <th>tienda</th>\n",
              "      <th>category</th>\n",
              "    </tr>\n",
              "  </thead>\n",
              "  <tbody>\n",
              "    <tr>\n",
              "      <th>0</th>\n",
              "      <td>iphone 15 pro 256gb</td>\n",
              "      <td>1,199,990</td>\n",
              "      <td>819,990</td>\n",
              "      <td>falabella</td>\n",
              "      <td>pro</td>\n",
              "    </tr>\n",
              "    <tr>\n",
              "      <th>1</th>\n",
              "      <td>iphone 15 pro max 256gb</td>\n",
              "      <td>1,349,990</td>\n",
              "      <td>819,990</td>\n",
              "      <td>falabella</td>\n",
              "      <td>pro max</td>\n",
              "    </tr>\n",
              "    <tr>\n",
              "      <th>2</th>\n",
              "      <td>iphone 15 128gb</td>\n",
              "      <td>849,990</td>\n",
              "      <td>819,990</td>\n",
              "      <td>falabella</td>\n",
              "      <td>standard</td>\n",
              "    </tr>\n",
              "    <tr>\n",
              "      <th>3</th>\n",
              "      <td>iphone 15 pro max 512gb</td>\n",
              "      <td>1,499,990</td>\n",
              "      <td>1,079,990</td>\n",
              "      <td>falabella</td>\n",
              "      <td>pro max</td>\n",
              "    </tr>\n",
              "    <tr>\n",
              "      <th>4</th>\n",
              "      <td>iphone 11 128gb</td>\n",
              "      <td>429,990</td>\n",
              "      <td>399,990</td>\n",
              "      <td>falabella</td>\n",
              "      <td>standard</td>\n",
              "    </tr>\n",
              "    <tr>\n",
              "      <th>...</th>\n",
              "      <td>...</td>\n",
              "      <td>...</td>\n",
              "      <td>...</td>\n",
              "      <td>...</td>\n",
              "      <td>...</td>\n",
              "    </tr>\n",
              "    <tr>\n",
              "      <th>133</th>\n",
              "      <td>iphone 15 plus 128gb</td>\n",
              "      <td>1,999,900</td>\n",
              "      <td>999,990</td>\n",
              "      <td>movistar</td>\n",
              "      <td>plus</td>\n",
              "    </tr>\n",
              "    <tr>\n",
              "      <th>134</th>\n",
              "      <td>iphone 14 plus 512gb</td>\n",
              "      <td>1,499,990</td>\n",
              "      <td>1,399,990</td>\n",
              "      <td>movistar</td>\n",
              "      <td>plus</td>\n",
              "    </tr>\n",
              "    <tr>\n",
              "      <th>135</th>\n",
              "      <td>iphone 13 pro 1tb</td>\n",
              "      <td>1,649,990</td>\n",
              "      <td>1,649,990</td>\n",
              "      <td>movistar</td>\n",
              "      <td>pro</td>\n",
              "    </tr>\n",
              "    <tr>\n",
              "      <th>136</th>\n",
              "      <td>iphone 13 512gb</td>\n",
              "      <td>1,199,990</td>\n",
              "      <td>999,990</td>\n",
              "      <td>movistar</td>\n",
              "      <td>standard</td>\n",
              "    </tr>\n",
              "    <tr>\n",
              "      <th>137</th>\n",
              "      <td>iphone 14 512gb</td>\n",
              "      <td>1,369,990</td>\n",
              "      <td>1,039,990</td>\n",
              "      <td>movistar</td>\n",
              "      <td>standard</td>\n",
              "    </tr>\n",
              "  </tbody>\n",
              "</table>\n",
              "<p>104 rows × 5 columns</p>\n",
              "</div>"
            ],
            "text/plain": [
              "                      modelo  precio_normal  precio_oferta     tienda  \\\n",
              "0        iphone 15 pro 256gb      1,199,990        819,990  falabella   \n",
              "1    iphone 15 pro max 256gb      1,349,990        819,990  falabella   \n",
              "2            iphone 15 128gb        849,990        819,990  falabella   \n",
              "3    iphone 15 pro max 512gb      1,499,990      1,079,990  falabella   \n",
              "4            iphone 11 128gb        429,990        399,990  falabella   \n",
              "..                       ...            ...            ...        ...   \n",
              "133     iphone 15 plus 128gb      1,999,900        999,990   movistar   \n",
              "134     iphone 14 plus 512gb      1,499,990      1,399,990   movistar   \n",
              "135        iphone 13 pro 1tb      1,649,990      1,649,990   movistar   \n",
              "136          iphone 13 512gb      1,199,990        999,990   movistar   \n",
              "137          iphone 14 512gb      1,369,990      1,039,990   movistar   \n",
              "\n",
              "     category  \n",
              "0         pro  \n",
              "1     pro max  \n",
              "2    standard  \n",
              "3     pro max  \n",
              "4    standard  \n",
              "..        ...  \n",
              "133      plus  \n",
              "134      plus  \n",
              "135       pro  \n",
              "136  standard  \n",
              "137  standard  \n",
              "\n",
              "[104 rows x 5 columns]"
            ]
          },
          "execution_count": 63,
          "metadata": {},
          "output_type": "execute_result"
        }
      ],
      "source": [
        "productos"
      ]
    },
    {
      "cell_type": "markdown",
      "metadata": {},
      "source": [
        "Para facilitar la comparación, se calcula el promedio del porcentaje de oferta por tienda, agrupado por categoría."
      ]
    },
    {
      "cell_type": "code",
      "execution_count": 65,
      "metadata": {
        "colab": {
          "base_uri": "https://localhost:8080/",
          "height": 1000
        },
        "id": "Aem_BDxj_Gur",
        "outputId": "e16878ff-8e2f-4741-a6fe-937037d166b7"
      },
      "outputs": [
        {
          "name": "stderr",
          "output_type": "stream",
          "text": [
            "C:\\Users\\ferna\\AppData\\Local\\Temp\\ipykernel_5888\\269650237.py:1: SettingWithCopyWarning:\n",
            "\n",
            "\n",
            "A value is trying to be set on a copy of a slice from a DataFrame.\n",
            "Try using .loc[row_indexer,col_indexer] = value instead\n",
            "\n",
            "See the caveats in the documentation: https://pandas.pydata.org/pandas-docs/stable/user_guide/indexing.html#returning-a-view-versus-a-copy\n",
            "\n"
          ]
        },
        {
          "data": {
            "text/html": [
              "<div>\n",
              "<style scoped>\n",
              "    .dataframe tbody tr th:only-of-type {\n",
              "        vertical-align: middle;\n",
              "    }\n",
              "\n",
              "    .dataframe tbody tr th {\n",
              "        vertical-align: top;\n",
              "    }\n",
              "\n",
              "    .dataframe thead th {\n",
              "        text-align: right;\n",
              "    }\n",
              "</style>\n",
              "<table border=\"1\" class=\"dataframe\">\n",
              "  <thead>\n",
              "    <tr style=\"text-align: right;\">\n",
              "      <th></th>\n",
              "      <th>tienda</th>\n",
              "      <th>category</th>\n",
              "      <th>descuento</th>\n",
              "      <th>count</th>\n",
              "    </tr>\n",
              "  </thead>\n",
              "  <tbody>\n",
              "    <tr>\n",
              "      <th>0</th>\n",
              "      <td>claro</td>\n",
              "      <td>plus</td>\n",
              "      <td>18</td>\n",
              "      <td>1</td>\n",
              "    </tr>\n",
              "    <tr>\n",
              "      <th>1</th>\n",
              "      <td>claro</td>\n",
              "      <td>pro</td>\n",
              "      <td>9</td>\n",
              "      <td>1</td>\n",
              "    </tr>\n",
              "    <tr>\n",
              "      <th>2</th>\n",
              "      <td>claro</td>\n",
              "      <td>pro max</td>\n",
              "      <td>10</td>\n",
              "      <td>1</td>\n",
              "    </tr>\n",
              "    <tr>\n",
              "      <th>3</th>\n",
              "      <td>claro</td>\n",
              "      <td>standard</td>\n",
              "      <td>35</td>\n",
              "      <td>3</td>\n",
              "    </tr>\n",
              "    <tr>\n",
              "      <th>4</th>\n",
              "      <td>falabella</td>\n",
              "      <td>pro</td>\n",
              "      <td>18</td>\n",
              "      <td>2</td>\n",
              "    </tr>\n",
              "    <tr>\n",
              "      <th>5</th>\n",
              "      <td>falabella</td>\n",
              "      <td>pro max</td>\n",
              "      <td>34</td>\n",
              "      <td>2</td>\n",
              "    </tr>\n",
              "    <tr>\n",
              "      <th>6</th>\n",
              "      <td>falabella</td>\n",
              "      <td>standard</td>\n",
              "      <td>13</td>\n",
              "      <td>8</td>\n",
              "    </tr>\n",
              "    <tr>\n",
              "      <th>7</th>\n",
              "      <td>hites</td>\n",
              "      <td>plus</td>\n",
              "      <td>28</td>\n",
              "      <td>1</td>\n",
              "    </tr>\n",
              "    <tr>\n",
              "      <th>8</th>\n",
              "      <td>hites</td>\n",
              "      <td>pro</td>\n",
              "      <td>17</td>\n",
              "      <td>1</td>\n",
              "    </tr>\n",
              "    <tr>\n",
              "      <th>9</th>\n",
              "      <td>hites</td>\n",
              "      <td>pro max</td>\n",
              "      <td>13</td>\n",
              "      <td>1</td>\n",
              "    </tr>\n",
              "    <tr>\n",
              "      <th>10</th>\n",
              "      <td>hites</td>\n",
              "      <td>standard</td>\n",
              "      <td>25</td>\n",
              "      <td>9</td>\n",
              "    </tr>\n",
              "    <tr>\n",
              "      <th>11</th>\n",
              "      <td>la polar</td>\n",
              "      <td>plus</td>\n",
              "      <td>21</td>\n",
              "      <td>1</td>\n",
              "    </tr>\n",
              "    <tr>\n",
              "      <th>12</th>\n",
              "      <td>la polar</td>\n",
              "      <td>pro</td>\n",
              "      <td>27</td>\n",
              "      <td>2</td>\n",
              "    </tr>\n",
              "    <tr>\n",
              "      <th>13</th>\n",
              "      <td>la polar</td>\n",
              "      <td>pro max</td>\n",
              "      <td>24</td>\n",
              "      <td>1</td>\n",
              "    </tr>\n",
              "    <tr>\n",
              "      <th>14</th>\n",
              "      <td>la polar</td>\n",
              "      <td>standard</td>\n",
              "      <td>27</td>\n",
              "      <td>6</td>\n",
              "    </tr>\n",
              "    <tr>\n",
              "      <th>15</th>\n",
              "      <td>lider</td>\n",
              "      <td>plus</td>\n",
              "      <td>28</td>\n",
              "      <td>1</td>\n",
              "    </tr>\n",
              "    <tr>\n",
              "      <th>16</th>\n",
              "      <td>lider</td>\n",
              "      <td>pro</td>\n",
              "      <td>21</td>\n",
              "      <td>1</td>\n",
              "    </tr>\n",
              "    <tr>\n",
              "      <th>17</th>\n",
              "      <td>lider</td>\n",
              "      <td>standard</td>\n",
              "      <td>26</td>\n",
              "      <td>4</td>\n",
              "    </tr>\n",
              "    <tr>\n",
              "      <th>18</th>\n",
              "      <td>mercado libre</td>\n",
              "      <td>plus</td>\n",
              "      <td>31</td>\n",
              "      <td>5</td>\n",
              "    </tr>\n",
              "    <tr>\n",
              "      <th>19</th>\n",
              "      <td>mercado libre</td>\n",
              "      <td>pro</td>\n",
              "      <td>10</td>\n",
              "      <td>1</td>\n",
              "    </tr>\n",
              "    <tr>\n",
              "      <th>20</th>\n",
              "      <td>mercado libre</td>\n",
              "      <td>pro max</td>\n",
              "      <td>12</td>\n",
              "      <td>2</td>\n",
              "    </tr>\n",
              "    <tr>\n",
              "      <th>21</th>\n",
              "      <td>mercado libre</td>\n",
              "      <td>standard</td>\n",
              "      <td>28</td>\n",
              "      <td>6</td>\n",
              "    </tr>\n",
              "    <tr>\n",
              "      <th>22</th>\n",
              "      <td>movistar</td>\n",
              "      <td>plus</td>\n",
              "      <td>28</td>\n",
              "      <td>2</td>\n",
              "    </tr>\n",
              "    <tr>\n",
              "      <th>23</th>\n",
              "      <td>movistar</td>\n",
              "      <td>pro</td>\n",
              "      <td>4</td>\n",
              "      <td>2</td>\n",
              "    </tr>\n",
              "    <tr>\n",
              "      <th>24</th>\n",
              "      <td>movistar</td>\n",
              "      <td>pro max</td>\n",
              "      <td>7</td>\n",
              "      <td>1</td>\n",
              "    </tr>\n",
              "    <tr>\n",
              "      <th>25</th>\n",
              "      <td>movistar</td>\n",
              "      <td>standard</td>\n",
              "      <td>25</td>\n",
              "      <td>8</td>\n",
              "    </tr>\n",
              "    <tr>\n",
              "      <th>26</th>\n",
              "      <td>paris</td>\n",
              "      <td>plus</td>\n",
              "      <td>6</td>\n",
              "      <td>2</td>\n",
              "    </tr>\n",
              "    <tr>\n",
              "      <th>27</th>\n",
              "      <td>paris</td>\n",
              "      <td>pro</td>\n",
              "      <td>4</td>\n",
              "      <td>4</td>\n",
              "    </tr>\n",
              "    <tr>\n",
              "      <th>28</th>\n",
              "      <td>paris</td>\n",
              "      <td>standard</td>\n",
              "      <td>3</td>\n",
              "      <td>6</td>\n",
              "    </tr>\n",
              "    <tr>\n",
              "      <th>29</th>\n",
              "      <td>pcfactory</td>\n",
              "      <td>pro max</td>\n",
              "      <td>3</td>\n",
              "      <td>2</td>\n",
              "    </tr>\n",
              "    <tr>\n",
              "      <th>30</th>\n",
              "      <td>pcfactory</td>\n",
              "      <td>standard</td>\n",
              "      <td>3</td>\n",
              "      <td>1</td>\n",
              "    </tr>\n",
              "    <tr>\n",
              "      <th>31</th>\n",
              "      <td>ripley</td>\n",
              "      <td>plus</td>\n",
              "      <td>50</td>\n",
              "      <td>1</td>\n",
              "    </tr>\n",
              "    <tr>\n",
              "      <th>32</th>\n",
              "      <td>ripley</td>\n",
              "      <td>pro</td>\n",
              "      <td>24</td>\n",
              "      <td>2</td>\n",
              "    </tr>\n",
              "    <tr>\n",
              "      <th>33</th>\n",
              "      <td>ripley</td>\n",
              "      <td>pro max</td>\n",
              "      <td>6</td>\n",
              "      <td>2</td>\n",
              "    </tr>\n",
              "    <tr>\n",
              "      <th>34</th>\n",
              "      <td>ripley</td>\n",
              "      <td>standard</td>\n",
              "      <td>9</td>\n",
              "      <td>5</td>\n",
              "    </tr>\n",
              "    <tr>\n",
              "      <th>35</th>\n",
              "      <td>wom</td>\n",
              "      <td>pro</td>\n",
              "      <td>10</td>\n",
              "      <td>1</td>\n",
              "    </tr>\n",
              "    <tr>\n",
              "      <th>36</th>\n",
              "      <td>wom</td>\n",
              "      <td>pro max</td>\n",
              "      <td>10</td>\n",
              "      <td>1</td>\n",
              "    </tr>\n",
              "    <tr>\n",
              "      <th>37</th>\n",
              "      <td>wom</td>\n",
              "      <td>standard</td>\n",
              "      <td>25</td>\n",
              "      <td>4</td>\n",
              "    </tr>\n",
              "  </tbody>\n",
              "</table>\n",
              "</div>"
            ],
            "text/plain": [
              "           tienda  category  descuento  count\n",
              "0           claro      plus         18      1\n",
              "1           claro       pro          9      1\n",
              "2           claro   pro max         10      1\n",
              "3           claro  standard         35      3\n",
              "4       falabella       pro         18      2\n",
              "5       falabella   pro max         34      2\n",
              "6       falabella  standard         13      8\n",
              "7           hites      plus         28      1\n",
              "8           hites       pro         17      1\n",
              "9           hites   pro max         13      1\n",
              "10          hites  standard         25      9\n",
              "11       la polar      plus         21      1\n",
              "12       la polar       pro         27      2\n",
              "13       la polar   pro max         24      1\n",
              "14       la polar  standard         27      6\n",
              "15          lider      plus         28      1\n",
              "16          lider       pro         21      1\n",
              "17          lider  standard         26      4\n",
              "18  mercado libre      plus         31      5\n",
              "19  mercado libre       pro         10      1\n",
              "20  mercado libre   pro max         12      2\n",
              "21  mercado libre  standard         28      6\n",
              "22       movistar      plus         28      2\n",
              "23       movistar       pro          4      2\n",
              "24       movistar   pro max          7      1\n",
              "25       movistar  standard         25      8\n",
              "26          paris      plus          6      2\n",
              "27          paris       pro          4      4\n",
              "28          paris  standard          3      6\n",
              "29      pcfactory   pro max          3      2\n",
              "30      pcfactory  standard          3      1\n",
              "31         ripley      plus         50      1\n",
              "32         ripley       pro         24      2\n",
              "33         ripley   pro max          6      2\n",
              "34         ripley  standard          9      5\n",
              "35            wom       pro         10      1\n",
              "36            wom   pro max         10      1\n",
              "37            wom  standard         25      4"
            ]
          },
          "execution_count": 65,
          "metadata": {},
          "output_type": "execute_result"
        }
      ],
      "source": [
        "productos['descuento'] = ((productos['precio_normal'] - productos['precio_oferta']) / productos['precio_normal']) * 100\n",
        "\n",
        "result = productos.groupby(['tienda', 'category']).agg({'descuento': 'mean', 'category': 'count'}).rename(columns={'category': 'count'}).reset_index()\n",
        "\n",
        "result['descuento'] = result['descuento']\n",
        "result\n"
      ]
    },
    {
      "cell_type": "code",
      "execution_count": 66,
      "metadata": {},
      "outputs": [
        {
          "name": "stderr",
          "output_type": "stream",
          "text": [
            "C:\\Users\\ferna\\AppData\\Local\\Temp\\ipykernel_5888\\3871089243.py:20: MatplotlibDeprecationWarning:\n",
            "\n",
            "The 'labels' parameter of boxplot() has been renamed 'tick_labels' since Matplotlib 3.9; support for the old name will be dropped in 3.11.\n",
            "\n"
          ]
        },
        {
          "data": {
            "image/png": "[encoded data removed]",
            "text/plain": [
              "<Figure size 1000x600 with 1 Axes>"
            ]
          },
          "metadata": {},
          "output_type": "display_data"
        },
        {
          "data": {
            "text/plain": [
              "(np.float64(0.0467612830529636), np.float64(0.34871115735707453), None)"
            ]
          },
          "execution_count": 66,
          "metadata": {},
          "output_type": "execute_result"
        }
      ],
      "source": [
        "from scipy.stats import f_oneway, chi2_contingency\n",
        "\n",
        "anova_result = f_oneway(\n",
        "    result[result['category'] == 'plus']['descuento'],\n",
        "    result[result['category'] == 'pro']['descuento'],\n",
        "    result[result['category'] == 'pro max']['descuento'],\n",
        "    result[result['category'] == 'standard']['descuento']\n",
        ")\n",
        "\n",
        "contingency_table = pd.crosstab(result['tienda'], result['descuento'])\n",
        "\n",
        "chi2_result = chi2_contingency(contingency_table)\n",
        "\n",
        "plt.figure(figsize=(10, 6))\n",
        "plt.boxplot([result[result['category'] == 'plus']['descuento'],\n",
        "             result[result['category'] == 'pro']['descuento'],\n",
        "             result[result['category'] == 'pro max']['descuento'],\n",
        "             result[result['category'] == 'standard']['descuento']],\n",
        "            labels=['Plus', 'Pro', 'Pro Max', 'Standard'])\n",
        "plt.title('Dispersión de Descuentos por Categoría de Modelo')\n",
        "plt.ylabel('Descuento (%)')\n",
        "plt.xlabel('Categoría de Modelo')\n",
        "plt.grid(True)\n",
        "\n",
        "anova_result.pvalue, chi2_result[1], plt.show()\n"
      ]
    },
    {
      "cell_type": "markdown",
      "metadata": {},
      "source": [
        "Los modelos Plus y Standard tienden a tener los mayores descuentos en términos de mediana.\n",
        "Los modelos Pro Max presentan los descuentos más bajos.\n",
        "Los modelos Pro tienen una mediana de descuento más baja en comparación con Plus y Standard.\n",
        "Hay un outlier en la categoría Plus donde un modelo alcanzó un descuento muy alto cercano al 50%.\n",
        "\n",
        "Este valor p = 0.0467 indica que existe una diferencia estadísticamente significativa entre las categorías de modelos al nivel de significancia del 5% (es decir, p < 0.05). En otras palabras, los descuentos ofrecidos entre las categorías (Plus, Pro, Pro Max, Standard) no son iguales, y al menos una de las categorías tiene un descuento promedio significativamente diferente de las demás.\n",
        "\n",
        "Este valor p = 0.3487 indica que no hay una relación significativa entre las tiendas y los descuentos. Es decir, no hay suficiente evidencia para concluir que las tiendas y los descuentos están relacionados de manera significativa. Esto sugiere que las tiendas no tienen patrones consistentes en los descuentos que ofrezcan."
      ]
    },
    {
      "cell_type": "code",
      "execution_count": 71,
      "metadata": {},
      "outputs": [
        {
          "data": {
            "image/png": "[encoded data removed]",
            "text/plain": [
              "<Figure size 1000x600 with 1 Axes>"
            ]
          },
          "metadata": {},
          "output_type": "display_data"
        },
        {
          "data": {
            "text/plain": [
              "(0.015260586961764577,\n",
              " np.float64(0.12353374827052017),\n",
              " np.float64(0.45996038230614866),\n",
              " None)"
            ]
          },
          "execution_count": 71,
          "metadata": {},
          "output_type": "execute_result"
        }
      ],
      "source": [
        "from scipy.stats import pearsonr\n",
        "from sklearn.linear_model import LinearRegression\n",
        "import numpy as np\n",
        "\n",
        "X = result[['count']].values  \n",
        "y = result['descuento'].values  \n",
        "\n",
        "\n",
        "reg_model = LinearRegression()\n",
        "reg_model.fit(X, y)\n",
        "r_squared = reg_model.score(X, y)  \n",
        "\n",
        "corr_coef, p_value_corr = pearsonr(result['count'], result['descuento'])\n",
        "\n",
        "plt.figure(figsize=(10, 6))\n",
        "plt.scatter(result['count'], result['descuento'], color='blue')\n",
        "plt.plot(result['count'], reg_model.predict(X), color='red', linewidth=2)\n",
        "plt.title('Relación entre el número de modelos disponibles y el descuento ofrecido')\n",
        "plt.xlabel('Número de Modelos Disponibles')\n",
        "plt.ylabel('Descuento (%)')\n",
        "plt.grid(True)\n",
        "\n",
        "r_squared, corr_coef, p_value_corr, plt.show()\n"
      ]
    },
    {
      "cell_type": "markdown",
      "metadata": {},
      "source": [
        "Gráfico de dispersión:\n",
        "\n",
        "Los puntos azules representan los datos observados (el número de modelos disponibles frente al descuento ofrecido).\n",
        "La línea roja es la línea de regresión que intenta ajustar la relación entre las dos variables.\n",
        "Línea de regresión:\n",
        "\n",
        "La línea roja tiene una ligera pendiente ascendente, lo que sugiere que a medida que aumenta el número de modelos disponibles, también aumenta el descuento, aunque muy débilmente.\n",
        "\n",
        "1. R² (0.0153)\n",
        "El valor \n",
        "𝑅2=0.0153\n",
        "R2=0.0153 indica que solo el 1.53% de la variabilidad en los descuentos puede explicarse por el número de modelos disponibles. Esto sugiere que el número de modelos disponibles no es un buen predictor del descuento ofrecido, ya que el modelo solo explica una porción muy pequeña de la variabilidad en los descuentos.\n",
        "\n",
        "2. Coeficiente de correlación de Pearson (0.1235)\n",
        "El coeficiente de correlación de Pearson \n",
        "𝑟=0.1235\n",
        "r=0.1235 sugiere una correlación positiva muy débil entre el número de modelos disponibles y el descuento ofrecido. Este valor está muy cercano a 0, lo que indica que prácticamente no hay una relación lineal entre estas dos variables.\n",
        "\n",
        "3. Valor p (0.4599)\n",
        "El valor p \n",
        "𝑝=0.4599\n",
        "p=0.4599 es mucho mayor que 0.05, lo que significa que no hay evidencia estadísticamente significativa de una relación entre el número de modelos disponibles y los descuentos ofrecidos. En otras palabras, no podemos rechazar la hipótesis nula de que no existe una relación entre estas dos variables."
      ]
    },
    {
      "cell_type": "code",
      "execution_count": 74,
      "metadata": {},
      "outputs": [
        {
          "data": {
            "text/plain": [
              "(0.5486940857880243,\n",
              "                 Variable  Coeficiente\n",
              " 0       tienda_falabella            6\n",
              " 1           tienda_hites            2\n",
              " 2        tienda_la polar            7\n",
              " 3           tienda_lider            5\n",
              " 4   tienda_mercado libre            2\n",
              " 5        tienda_movistar           -2\n",
              " 6           tienda_paris          -16\n",
              " 7       tienda_pcfactory          -13\n",
              " 8          tienda_ripley            4\n",
              " 9             tienda_wom           -0\n",
              " 10          category_pro          -12\n",
              " 11      category_pro max          -14\n",
              " 12     category_standard           -5)"
            ]
          },
          "execution_count": 74,
          "metadata": {},
          "output_type": "execute_result"
        }
      ],
      "source": [
        "import statsmodels.api as sm\n",
        "from statsmodels.formula.api import ols\n",
        "\n",
        "df_clean = pd.get_dummies(result, columns=['tienda', 'category'], drop_first=True)\n",
        "\n",
        "X_multi = df_clean.drop(columns=['descuento', 'count'])\n",
        "y_multi = df_clean['descuento']\n",
        "\n",
        "reg_multi_model = LinearRegression()\n",
        "reg_multi_model.fit(X_multi, y_multi)\n",
        "\n",
        "coefficients = reg_multi_model.coef_\n",
        "r_squared_multi = reg_multi_model.score(X_multi, y_multi)\n",
        "\n",
        "coef_table = pd.DataFrame({'Variable': X_multi.columns, 'Coeficiente': coefficients})\n",
        "\n",
        "r_squared_multi, coef_table\n"
      ]
    },
    {
      "cell_type": "markdown",
      "metadata": {},
      "source": [
        "1. Coeficiente de determinación \n",
        "𝑅\n",
        "2\n",
        "=\n",
        "0.5487\n",
        "R \n",
        "2\n",
        " =0.5487\n",
        "Este valor de \n",
        "𝑅\n",
        "2\n",
        "R \n",
        "2\n",
        "  indica que aproximadamente el 54.87% de la variabilidad en los descuentos puede explicarse por las variables independientes (las tiendas y las categorías de modelo). Esto significa que el modelo tiene una capacidad moderada para predecir los descuentos en función de la tienda y la categoría.\n",
        "\n",
        "2. Coeficientes de las variables:\n",
        "Cada variable categórica (tienda y categoría) tiene un coeficiente asociado, lo que indica cómo impacta esa variable en los descuentos. Estos coeficientes se interpretan de la siguiente manera:\n",
        "\n",
        "Tiendas:\n",
        "\n",
        "Falabella: \n",
        "+\n",
        "6\n",
        "+6 sugiere que, en promedio, los descuentos ofrecidos en Falabella son 6 puntos porcentuales mayores que la tienda de referencia (que podría ser \"Claro\", si no fue eliminada como referencia en drop_first=True).\n",
        "Hites: \n",
        "+\n",
        "2\n",
        "+2 indica que Hites ofrece 2 puntos porcentuales más de descuento que la tienda de referencia.\n",
        "La Polar: \n",
        "+\n",
        "7\n",
        "+7, La Polar tiende a ofrecer 7 puntos porcentuales más de descuento.\n",
        "Movistar: \n",
        "−\n",
        "2\n",
        "−2, Movistar ofrece 2 puntos porcentuales menos de descuento que la tienda de referencia.\n",
        "Paris: \n",
        "−\n",
        "16\n",
        "−16, Paris ofrece 16 puntos porcentuales menos, lo cual es un descuento significativamente menor.\n",
        "PcFactory: \n",
        "−\n",
        "13\n",
        "−13, esta tienda ofrece 13 puntos porcentuales menos.\n",
        "Categorías de modelos:\n",
        "\n",
        "Pro: \n",
        "−\n",
        "12\n",
        "−12, los modelos Pro tienden a tener 12 puntos porcentuales menos de descuento en comparación con los modelos de referencia (Plus, posiblemente).\n",
        "Pro Max: \n",
        "−\n",
        "14\n",
        "−14, los modelos Pro Max también reciben descuentos más bajos.\n",
        "Standard: \n",
        "−\n",
        "5\n",
        "−5, los modelos Standard reciben 5 puntos porcentuales menos de descuento que los modelos de referencia.\n",
        "Interpretación general:\n",
        "Las tiendas como Falabella y La Polar parecen ofrecer mayores descuentos en promedio, mientras que Paris y PcFactory tienden a ofrecer los menores descuentos.\n",
        "En cuanto a las categorías de modelo, los modelos Pro y Pro Max generalmente reciben menos descuento en comparación con los modelos de referencia (posiblemente los Plus).\n",
        "El modelo tiene una capacidad razonable para predecir los descuentos basándose en la tienda y la categoría, aunque no es perfecto (ya que el \n",
        "𝑅\n",
        "2\n",
        "R \n",
        "2\n",
        "  es 0.5487)."
      ]
    }
  ],
  "metadata": {
    "colab": {
      "provenance": []
    },
    "kernelspec": {
      "display_name": "base",
      "language": "python",
      "name": "python3"
    },
    "language_info": {
      "codemirror_mode": {
        "name": "ipython",
        "version": 3
      },
      "file_extension": ".py",
      "mimetype": "text/x-python",
      "name": "python",
      "nbconvert_exporter": "python",
      "pygments_lexer": "ipython3",
      "version": "3.10.12"
    },
    "widgets": {
      "application/vnd.jupyter.widget-state+json": {
        "1d72218f8ff54093a24f327f23a7cc0f": {
          "model_module": "@jupyter-widgets/base",
          "model_module_version": "1.2.0",
          "model_name": "LayoutModel",
          "state": {
            "_model_module": "@jupyter-widgets/base",
            "_model_module_version": "1.2.0",
            "_model_name": "LayoutModel",
            "_view_count": null,
            "_view_module": "@jupyter-widgets/base",
            "_view_module_version": "1.2.0",
            "_view_name": "LayoutView",
            "align_content": null,
            "align_items": null,
            "align_self": null,
            "border": null,
            "bottom": null,
            "display": null,
            "flex": null,
            "flex_flow": null,
            "grid_area": null,
            "grid_auto_columns": null,
            "grid_auto_flow": null,
            "grid_auto_rows": null,
            "grid_column": null,
            "grid_gap": null,
            "grid_row": null,
            "grid_template_areas": null,
            "grid_template_columns": null,
            "grid_template_rows": null,
            "height": null,
            "justify_content": null,
            "justify_items": null,
            "left": null,
            "margin": null,
            "max_height": null,
            "max_width": null,
            "min_height": null,
            "min_width": null,
            "object_fit": null,
            "object_position": null,
            "order": null,
            "overflow": null,
            "overflow_x": null,
            "overflow_y": null,
            "padding": null,
            "right": null,
            "top": null,
            "visibility": null,
            "width": null
          }
        },
        "431725f970224bbdb77646c8c6ee0bf2": {
          "model_module": "@jupyter-widgets/controls",
          "model_module_version": "1.5.0",
          "model_name": "DescriptionStyleModel",
          "state": {
            "_model_module": "@jupyter-widgets/controls",
            "_model_module_version": "1.5.0",
            "_model_name": "DescriptionStyleModel",
            "_view_count": null,
            "_view_module": "@jupyter-widgets/base",
            "_view_module_version": "1.2.0",
            "_view_name": "StyleView",
            "description_width": ""
          }
        },
        "5cb623bfec1c41f09338de6f25fde2e0": {
          "model_module": "@jupyter-widgets/output",
          "model_module_version": "1.0.0",
          "model_name": "OutputModel",
          "state": {
            "_dom_classes": [],
            "_model_module": "@jupyter-widgets/output",
            "_model_module_version": "1.0.0",
            "_model_name": "OutputModel",
            "_view_count": null,
            "_view_module": "@jupyter-widgets/output",
            "_view_module_version": "1.0.0",
            "_view_name": "OutputView",
            "layout": "IPY_MODEL_a3d022bd91d246cda8f636879c7f19fb",
            "msg_id": "",
            "outputs": [
              {
                "data": {
                  "text/html": "<html>\n<head><meta charset=\"utf-8\" /></head>\n<body>\n    <div>            <script src=\"https://cdnjs.cloudflare.com/ajax/libs/mathjax/2.7.5/MathJax.js?config=TeX-AMS-MML_SVG\"></script><script type=\"text/javascript\">if (window.MathJax && window.MathJax.Hub && window.MathJax.Hub.Config) {window.MathJax.Hub.Config({SVG: {font: \"STIX-Web\"}});}</script>                <script type=\"text/javascript\">window.PlotlyConfig = {MathJaxConfig: 'local'};</script>\n        <script charset=\"utf-8\" src=\"https://cdn.plot.ly/plotly-2.35.2.min.js\"></script>                <div id=\"e6f297ad-c865-4142-9246-c8c8395f7c8c\" class=\"plotly-graph-div\" style=\"height:525px; width:100%;\"></div>            <script type=\"text/javascript\">                                    window.PLOTLYENV=window.PLOTLYENV || {};                                    if (document.getElementById(\"e6f297ad-c865-4142-9246-c8c8395f7c8c\")) {                    Plotly.newPlot(                        \"e6f297ad-c865-4142-9246-c8c8395f7c8c\",                        [{\"marker\":{\"color\":\"#ab8a8a\"},\"name\":\"Precio de Oferta\",\"x\":[\"movistar\"],\"y\":[454990.0],\"type\":\"bar\"},{\"marker\":{\"color\":\"#dcb6a8\"},\"name\":\"Precio Normal\",\"x\":[\"falabella\"],\"y\":[429990.0],\"type\":\"bar\"}],                        {\"template\":{\"data\":{\"histogram2dcontour\":[{\"type\":\"histogram2dcontour\",\"colorbar\":{\"outlinewidth\":0,\"ticks\":\"\"},\"colorscale\":[[0.0,\"#0d0887\"],[0.1111111111111111,\"#46039f\"],[0.2222222222222222,\"#7201a8\"],[0.3333333333333333,\"#9c179e\"],[0.4444444444444444,\"#bd3786\"],[0.5555555555555556,\"#d8576b\"],[0.6666666666666666,\"#ed7953\"],[0.7777777777777778,\"#fb9f3a\"],[0.8888888888888888,\"#fdca26\"],[1.0,\"#f0f921\"]]}],\"choropleth\":[{\"type\":\"choropleth\",\"colorbar\":{\"outlinewidth\":0,\"ticks\":\"\"}}],\"histogram2d\":[{\"type\":\"histogram2d\",\"colorbar\":{\"outlinewidth\":0,\"ticks\":\"\"},\"colorscale\":[[0.0,\"#0d0887\"],[0.1111111111111111,\"#46039f\"],[0.2222222222222222,\"#7201a8\"],[0.3333333333333333,\"#9c179e\"],[0.4444444444444444,\"#bd3786\"],[0.5555555555555556,\"#d8576b\"],[0.6666666666666666,\"#ed7953\"],[0.7777777777777778,\"#fb9f3a\"],[0.8888888888888888,\"#fdca26\"],[1.0,\"#f0f921\"]]}],\"heatmap\":[{\"type\":\"heatmap\",\"colorbar\":{\"outlinewidth\":0,\"ticks\":\"\"},\"colorscale\":[[0.0,\"#0d0887\"],[0.1111111111111111,\"#46039f\"],[0.2222222222222222,\"#7201a8\"],[0.3333333333333333,\"#9c179e\"],[0.4444444444444444,\"#bd3786\"],[0.5555555555555556,\"#d8576b\"],[0.6666666666666666,\"#ed7953\"],[0.7777777777777778,\"#fb9f3a\"],[0.8888888888888888,\"#fdca26\"],[1.0,\"#f0f921\"]]}],\"heatmapgl\":[{\"type\":\"heatmapgl\",\"colorbar\":{\"outlinewidth\":0,\"ticks\":\"\"},\"colorscale\":[[0.0,\"#0d0887\"],[0.1111111111111111,\"#46039f\"],[0.2222222222222222,\"#7201a8\"],[0.3333333333333333,\"#9c179e\"],[0.4444444444444444,\"#bd3786\"],[0.5555555555555556,\"#d8576b\"],[0.6666666666666666,\"#ed7953\"],[0.7777777777777778,\"#fb9f3a\"],[0.8888888888888888,\"#fdca26\"],[1.0,\"#f0f921\"]]}],\"contourcarpet\":[{\"type\":\"contourcarpet\",\"colorbar\":{\"outlinewidth\":0,\"ticks\":\"\"}}],\"contour\":[{\"type\":\"contour\",\"colorbar\":{\"outlinewidth\":0,\"ticks\":\"\"},\"colorscale\":[[0.0,\"#0d0887\"],[0.1111111111111111,\"#46039f\"],[0.2222222222222222,\"#7201a8\"],[0.3333333333333333,\"#9c179e\"],[0.4444444444444444,\"#bd3786\"],[0.5555555555555556,\"#d8576b\"],[0.6666666666666666,\"#ed7953\"],[0.7777777777777778,\"#fb9f3a\"],[0.8888888888888888,\"#fdca26\"],[1.0,\"#f0f921\"]]}],\"surface\":[{\"type\":\"surface\",\"colorbar\":{\"outlinewidth\":0,\"ticks\":\"\"},\"colorscale\":[[0.0,\"#0d0887\"],[0.1111111111111111,\"#46039f\"],[0.2222222222222222,\"#7201a8\"],[0.3333333333333333,\"#9c179e\"],[0.4444444444444444,\"#bd3786\"],[0.5555555555555556,\"#d8576b\"],[0.6666666666666666,\"#ed7953\"],[0.7777777777777778,\"#fb9f3a\"],[0.8888888888888888,\"#fdca26\"],[1.0,\"#f0f921\"]]}],\"mesh3d\":[{\"type\":\"mesh3d\",\"colorbar\":{\"outlinewidth\":0,\"ticks\":\"\"}}],\"scatter\":[{\"fillpattern\":{\"fillmode\":\"overlay\",\"size\":10,\"solidity\":0.2},\"type\":\"scatter\"}],\"parcoords\":[{\"type\":\"parcoords\",\"line\":{\"colorbar\":{\"outlinewidth\":0,\"ticks\":\"\"}}}],\"scatterpolargl\":[{\"type\":\"scatterpolargl\",\"marker\":{\"colorbar\":{\"outlinewidth\":0,\"ticks\":\"\"}}}],\"bar\":[{\"error_x\":{\"color\":\"#2a3f5f\"},\"error_y\":{\"color\":\"#2a3f5f\"},\"marker\":{\"line\":{\"color\":\"#E5ECF6\",\"width\":0.5},\"pattern\":{\"fillmode\":\"overlay\",\"size\":10,\"solidity\":0.2}},\"type\":\"bar\"}],\"scattergeo\":[{\"type\":\"scattergeo\",\"marker\":{\"colorbar\":{\"outlinewidth\":0,\"ticks\":\"\"}}}],\"scatterpolar\":[{\"type\":\"scatterpolar\",\"marker\":{\"colorbar\":{\"outlinewidth\":0,\"ticks\":\"\"}}}],\"histogram\":[{\"marker\":{\"pattern\":{\"fillmode\":\"overlay\",\"size\":10,\"solidity\":0.2}},\"type\":\"histogram\"}],\"scattergl\":[{\"type\":\"scattergl\",\"marker\":{\"colorbar\":{\"outlinewidth\":0,\"ticks\":\"\"}}}],\"scatter3d\":[{\"type\":\"scatter3d\",\"line\":{\"colorbar\":{\"outlinewidth\":0,\"ticks\":\"\"}},\"marker\":{\"colorbar\":{\"outlinewidth\":0,\"ticks\":\"\"}}}],\"scattermapbox\":[{\"type\":\"scattermapbox\",\"marker\":{\"colorbar\":{\"outlinewidth\":0,\"ticks\":\"\"}}}],\"scatterternary\":[{\"type\":\"scatterternary\",\"marker\":{\"colorbar\":{\"outlinewidth\":0,\"ticks\":\"\"}}}],\"scattercarpet\":[{\"type\":\"scattercarpet\",\"marker\":{\"colorbar\":{\"outlinewidth\":0,\"ticks\":\"\"}}}],\"carpet\":[{\"aaxis\":{\"endlinecolor\":\"#2a3f5f\",\"gridcolor\":\"white\",\"linecolor\":\"white\",\"minorgridcolor\":\"white\",\"startlinecolor\":\"#2a3f5f\"},\"baxis\":{\"endlinecolor\":\"#2a3f5f\",\"gridcolor\":\"white\",\"linecolor\":\"white\",\"minorgridcolor\":\"white\",\"startlinecolor\":\"#2a3f5f\"},\"type\":\"carpet\"}],\"table\":[{\"cells\":{\"fill\":{\"color\":\"#EBF0F8\"},\"line\":{\"color\":\"white\"}},\"header\":{\"fill\":{\"color\":\"#C8D4E3\"},\"line\":{\"color\":\"white\"}},\"type\":\"table\"}],\"barpolar\":[{\"marker\":{\"line\":{\"color\":\"#E5ECF6\",\"width\":0.5},\"pattern\":{\"fillmode\":\"overlay\",\"size\":10,\"solidity\":0.2}},\"type\":\"barpolar\"}],\"pie\":[{\"automargin\":true,\"type\":\"pie\"}]},\"layout\":{\"autotypenumbers\":\"strict\",\"colorway\":[\"#636efa\",\"#EF553B\",\"#00cc96\",\"#ab63fa\",\"#FFA15A\",\"#19d3f3\",\"#FF6692\",\"#B6E880\",\"#FF97FF\",\"#FECB52\"],\"font\":{\"color\":\"#2a3f5f\"},\"hovermode\":\"closest\",\"hoverlabel\":{\"align\":\"left\"},\"paper_bgcolor\":\"white\",\"plot_bgcolor\":\"#E5ECF6\",\"polar\":{\"bgcolor\":\"#E5ECF6\",\"angularaxis\":{\"gridcolor\":\"white\",\"linecolor\":\"white\",\"ticks\":\"\"},\"radialaxis\":{\"gridcolor\":\"white\",\"linecolor\":\"white\",\"ticks\":\"\"}},\"ternary\":{\"bgcolor\":\"#E5ECF6\",\"aaxis\":{\"gridcolor\":\"white\",\"linecolor\":\"white\",\"ticks\":\"\"},\"baxis\":{\"gridcolor\":\"white\",\"linecolor\":\"white\",\"ticks\":\"\"},\"caxis\":{\"gridcolor\":\"white\",\"linecolor\":\"white\",\"ticks\":\"\"}},\"coloraxis\":{\"colorbar\":{\"outlinewidth\":0,\"ticks\":\"\"}},\"colorscale\":{\"sequential\":[[0.0,\"#0d0887\"],[0.1111111111111111,\"#46039f\"],[0.2222222222222222,\"#7201a8\"],[0.3333333333333333,\"#9c179e\"],[0.4444444444444444,\"#bd3786\"],[0.5555555555555556,\"#d8576b\"],[0.6666666666666666,\"#ed7953\"],[0.7777777777777778,\"#fb9f3a\"],[0.8888888888888888,\"#fdca26\"],[1.0,\"#f0f921\"]],\"sequentialminus\":[[0.0,\"#0d0887\"],[0.1111111111111111,\"#46039f\"],[0.2222222222222222,\"#7201a8\"],[0.3333333333333333,\"#9c179e\"],[0.4444444444444444,\"#bd3786\"],[0.5555555555555556,\"#d8576b\"],[0.6666666666666666,\"#ed7953\"],[0.7777777777777778,\"#fb9f3a\"],[0.8888888888888888,\"#fdca26\"],[1.0,\"#f0f921\"]],\"diverging\":[[0,\"#8e0152\"],[0.1,\"#c51b7d\"],[0.2,\"#de77ae\"],[0.3,\"#f1b6da\"],[0.4,\"#fde0ef\"],[0.5,\"#f7f7f7\"],[0.6,\"#e6f5d0\"],[0.7,\"#b8e186\"],[0.8,\"#7fbc41\"],[0.9,\"#4d9221\"],[1,\"#276419\"]]},\"xaxis\":{\"gridcolor\":\"white\",\"linecolor\":\"white\",\"ticks\":\"\",\"title\":{\"standoff\":15},\"zerolinecolor\":\"white\",\"automargin\":true,\"zerolinewidth\":2},\"yaxis\":{\"gridcolor\":\"white\",\"linecolor\":\"white\",\"ticks\":\"\",\"title\":{\"standoff\":15},\"zerolinecolor\":\"white\",\"automargin\":true,\"zerolinewidth\":2},\"scene\":{\"xaxis\":{\"backgroundcolor\":\"#E5ECF6\",\"gridcolor\":\"white\",\"linecolor\":\"white\",\"showbackground\":true,\"ticks\":\"\",\"zerolinecolor\":\"white\",\"gridwidth\":2},\"yaxis\":{\"backgroundcolor\":\"#E5ECF6\",\"gridcolor\":\"white\",\"linecolor\":\"white\",\"showbackground\":true,\"ticks\":\"\",\"zerolinecolor\":\"white\",\"gridwidth\":2},\"zaxis\":{\"backgroundcolor\":\"#E5ECF6\",\"gridcolor\":\"white\",\"linecolor\":\"white\",\"showbackground\":true,\"ticks\":\"\",\"zerolinecolor\":\"white\",\"gridwidth\":2}},\"shapedefaults\":{\"line\":{\"color\":\"#2a3f5f\"}},\"annotationdefaults\":{\"arrowcolor\":\"#2a3f5f\",\"arrowhead\":0,\"arrowwidth\":1},\"geo\":{\"bgcolor\":\"white\",\"landcolor\":\"#E5ECF6\",\"subunitcolor\":\"white\",\"showland\":true,\"showlakes\":true,\"lakecolor\":\"white\"},\"title\":{\"x\":0.05},\"mapbox\":{\"style\":\"light\"}}},\"title\":{\"text\":\"Precios para Iphone 11 128Gb\"},\"xaxis\":{\"title\":{\"text\":\"Tienda\"}},\"yaxis\":{\"title\":{\"text\":\"Precio\"}},\"barmode\":\"group\"},                        {\"responsive\": true}                    ).then(function(){\n                            \nvar gd = document.getElementById('e6f297ad-c865-4142-9246-c8c8395f7c8c');\nvar x = new MutationObserver(function (mutations, observer) {{\n        var display = window.getComputedStyle(gd).display;\n        if (!display || display === 'none') {{\n            console.log([gd, 'removed!']);\n            Plotly.purge(gd);\n            observer.disconnect();\n        }}\n}});\n\n// Listen for the removal of the full notebook cells\nvar notebookContainer = gd.closest('#notebook-container');\nif (notebookContainer) {{\n    x.observe(notebookContainer, {childList: true});\n}}\n\n// Listen for the clearing of the current output cell\nvar outputEl = gd.closest('.output');\nif (outputEl) {{\n    x.observe(outputEl, {childList: true});\n}}\n\n                        })                };                            </script>        </div>\n</body>\n</html>"
                },
                "metadata": {},
                "output_type": "display_data"
              }
            ]
          }
        },
        "65d6051dac924e97bb2149948d135370": {
          "model_module": "@jupyter-widgets/controls",
          "model_module_version": "1.5.0",
          "model_name": "VBoxModel",
          "state": {
            "_dom_classes": [
              "widget-interact"
            ],
            "_model_module": "@jupyter-widgets/controls",
            "_model_module_version": "1.5.0",
            "_model_name": "VBoxModel",
            "_view_count": null,
            "_view_module": "@jupyter-widgets/controls",
            "_view_module_version": "1.5.0",
            "_view_name": "VBoxView",
            "box_style": "",
            "children": [
              "IPY_MODEL_c1b00b495388433393e82c9b21d925ec",
              "IPY_MODEL_5cb623bfec1c41f09338de6f25fde2e0"
            ],
            "layout": "IPY_MODEL_a81fb8c890ab46fbb5507366bb634eb9"
          }
        },
        "a3d022bd91d246cda8f636879c7f19fb": {
          "model_module": "@jupyter-widgets/base",
          "model_module_version": "1.2.0",
          "model_name": "LayoutModel",
          "state": {
            "_model_module": "@jupyter-widgets/base",
            "_model_module_version": "1.2.0",
            "_model_name": "LayoutModel",
            "_view_count": null,
            "_view_module": "@jupyter-widgets/base",
            "_view_module_version": "1.2.0",
            "_view_name": "LayoutView",
            "align_content": null,
            "align_items": null,
            "align_self": null,
            "border": null,
            "bottom": null,
            "display": null,
            "flex": null,
            "flex_flow": null,
            "grid_area": null,
            "grid_auto_columns": null,
            "grid_auto_flow": null,
            "grid_auto_rows": null,
            "grid_column": null,
            "grid_gap": null,
            "grid_row": null,
            "grid_template_areas": null,
            "grid_template_columns": null,
            "grid_template_rows": null,
            "height": null,
            "justify_content": null,
            "justify_items": null,
            "left": null,
            "margin": null,
            "max_height": null,
            "max_width": null,
            "min_height": null,
            "min_width": null,
            "object_fit": null,
            "object_position": null,
            "order": null,
            "overflow": null,
            "overflow_x": null,
            "overflow_y": null,
            "padding": null,
            "right": null,
            "top": null,
            "visibility": null,
            "width": null
          }
        },
        "a81fb8c890ab46fbb5507366bb634eb9": {
          "model_module": "@jupyter-widgets/base",
          "model_module_version": "1.2.0",
          "model_name": "LayoutModel",
          "state": {
            "_model_module": "@jupyter-widgets/base",
            "_model_module_version": "1.2.0",
            "_model_name": "LayoutModel",
            "_view_count": null,
            "_view_module": "@jupyter-widgets/base",
            "_view_module_version": "1.2.0",
            "_view_name": "LayoutView",
            "align_content": null,
            "align_items": null,
            "align_self": null,
            "border": null,
            "bottom": null,
            "display": null,
            "flex": null,
            "flex_flow": null,
            "grid_area": null,
            "grid_auto_columns": null,
            "grid_auto_flow": null,
            "grid_auto_rows": null,
            "grid_column": null,
            "grid_gap": null,
            "grid_row": null,
            "grid_template_areas": null,
            "grid_template_columns": null,
            "grid_template_rows": null,
            "height": null,
            "justify_content": null,
            "justify_items": null,
            "left": null,
            "margin": null,
            "max_height": null,
            "max_width": null,
            "min_height": null,
            "min_width": null,
            "object_fit": null,
            "object_position": null,
            "order": null,
            "overflow": null,
            "overflow_x": null,
            "overflow_y": null,
            "padding": null,
            "right": null,
            "top": null,
            "visibility": null,
            "width": null
          }
        },
        "c1b00b495388433393e82c9b21d925ec": {
          "model_module": "@jupyter-widgets/controls",
          "model_module_version": "1.5.0",
          "model_name": "DropdownModel",
          "state": {
            "_dom_classes": [],
            "_model_module": "@jupyter-widgets/controls",
            "_model_module_version": "1.5.0",
            "_model_name": "DropdownModel",
            "_options_labels": [
              "iphone 11 128gb",
              "iphone 11 64gb",
              "iphone 12 128gb",
              "iphone 12 64gb",
              "iphone 13 128gb",
              "iphone 13 256gb",
              "iphone 13 512gb",
              "iphone 13 pro 1tb",
              "iphone 14 128gb",
              "iphone 14 256gb",
              "iphone 14 512gb",
              "iphone 14 plus 128gb",
              "iphone 14 plus 256gb",
              "iphone 14 plus 512gb",
              "iphone 14 pro 128gb",
              "iphone 14 pro max 128gb",
              "iphone 15 128gb",
              "iphone 15 256gb",
              "iphone 15 512gb",
              "iphone 15 negro 256gb",
              "iphone 15 plus 128gb",
              "iphone 15 plus 256gb",
              "iphone 15 plus 512gb",
              "iphone 15 pro 128gb",
              "iphone 15 pro 256gb",
              "iphone 15 pro 512gb",
              "iphone 15 pro max  256gb",
              "iphone 15 pro max 256gb",
              "iphone 15 pro max 512gb",
              "iphone 13 128gb",
              "iphone 15 pro 128gb",
              "iphone 15 pro 256gb",
              "iphone 15 pro max 256gb",
              "iphone 15 pro max 512gb"
            ],
            "_view_count": null,
            "_view_module": "@jupyter-widgets/controls",
            "_view_module_version": "1.5.0",
            "_view_name": "DropdownView",
            "description": "modelo",
            "description_tooltip": null,
            "disabled": false,
            "index": 0,
            "layout": "IPY_MODEL_1d72218f8ff54093a24f327f23a7cc0f",
            "style": "IPY_MODEL_431725f970224bbdb77646c8c6ee0bf2"
          }
        }
      }
    }
  },
  "nbformat": 4,
  "nbformat_minor": 0
}
