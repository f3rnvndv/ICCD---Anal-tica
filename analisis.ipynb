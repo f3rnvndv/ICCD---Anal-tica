{
 "cells": [
  {
   "cell_type": "code",
   "execution_count": 1,
   "metadata": {},
   "outputs": [
    {
     "data": {
      "text/html": [
       "<div>\n",
       "<style scoped>\n",
       "    .dataframe tbody tr th:only-of-type {\n",
       "        vertical-align: middle;\n",
       "    }\n",
       "\n",
       "    .dataframe tbody tr th {\n",
       "        vertical-align: top;\n",
       "    }\n",
       "\n",
       "    .dataframe thead th {\n",
       "        text-align: right;\n",
       "    }\n",
       "</style>\n",
       "<table border=\"1\" class=\"dataframe\">\n",
       "  <thead>\n",
       "    <tr style=\"text-align: right;\">\n",
       "      <th></th>\n",
       "      <th>modelo</th>\n",
       "      <th>precio_normal</th>\n",
       "      <th>precio_oferta</th>\n",
       "      <th>tienda</th>\n",
       "    </tr>\n",
       "  </thead>\n",
       "  <tbody>\n",
       "    <tr>\n",
       "      <th>0</th>\n",
       "      <td>iphone 15 128gb</td>\n",
       "      <td>849990.0</td>\n",
       "      <td>819990.0</td>\n",
       "      <td>falabella</td>\n",
       "    </tr>\n",
       "    <tr>\n",
       "      <th>1</th>\n",
       "      <td>iphone 15 pro max 512gb</td>\n",
       "      <td>1499990.0</td>\n",
       "      <td>1079990.0</td>\n",
       "      <td>falabella</td>\n",
       "    </tr>\n",
       "    <tr>\n",
       "      <th>2</th>\n",
       "      <td>iphone 11 128gb</td>\n",
       "      <td>729990.0</td>\n",
       "      <td>429990.0</td>\n",
       "      <td>falabella</td>\n",
       "    </tr>\n",
       "    <tr>\n",
       "      <th>3</th>\n",
       "      <td>iphone 15 pro 128gb</td>\n",
       "      <td>1129990.0</td>\n",
       "      <td>1079990.0</td>\n",
       "      <td>falabella</td>\n",
       "    </tr>\n",
       "    <tr>\n",
       "      <th>4</th>\n",
       "      <td>iphone 15 256gb</td>\n",
       "      <td>799990.0</td>\n",
       "      <td>719990.0</td>\n",
       "      <td>falabella</td>\n",
       "    </tr>\n",
       "    <tr>\n",
       "      <th>...</th>\n",
       "      <td>...</td>\n",
       "      <td>...</td>\n",
       "      <td>...</td>\n",
       "      <td>...</td>\n",
       "    </tr>\n",
       "    <tr>\n",
       "      <th>118</th>\n",
       "      <td>iphone 15 plus 128gb</td>\n",
       "      <td>1099990.0</td>\n",
       "      <td>999990.0</td>\n",
       "      <td>movistar</td>\n",
       "    </tr>\n",
       "    <tr>\n",
       "      <th>119</th>\n",
       "      <td>iphone 14 plus 512gb</td>\n",
       "      <td>1499990.0</td>\n",
       "      <td>1399990.0</td>\n",
       "      <td>movistar</td>\n",
       "    </tr>\n",
       "    <tr>\n",
       "      <th>120</th>\n",
       "      <td>iphone 13 pro 1tb</td>\n",
       "      <td>1649990.0</td>\n",
       "      <td>1649990.0</td>\n",
       "      <td>movistar</td>\n",
       "    </tr>\n",
       "    <tr>\n",
       "      <th>121</th>\n",
       "      <td>iphone 13 512gb</td>\n",
       "      <td>1199990.0</td>\n",
       "      <td>999990.0</td>\n",
       "      <td>movistar</td>\n",
       "    </tr>\n",
       "    <tr>\n",
       "      <th>122</th>\n",
       "      <td>iphone 14 512gb</td>\n",
       "      <td>1369990.0</td>\n",
       "      <td>1039990.0</td>\n",
       "      <td>movistar</td>\n",
       "    </tr>\n",
       "  </tbody>\n",
       "</table>\n",
       "<p>123 rows × 4 columns</p>\n",
       "</div>"
      ],
      "text/plain": [
       "                      modelo  precio_normal  precio_oferta     tienda\n",
       "0            iphone 15 128gb       849990.0       819990.0  falabella\n",
       "1    iphone 15 pro max 512gb      1499990.0      1079990.0  falabella\n",
       "2            iphone 11 128gb       729990.0       429990.0  falabella\n",
       "3        iphone 15 pro 128gb      1129990.0      1079990.0  falabella\n",
       "4            iphone 15 256gb       799990.0       719990.0  falabella\n",
       "..                       ...            ...            ...        ...\n",
       "118     iphone 15 plus 128gb      1099990.0       999990.0   movistar\n",
       "119     iphone 14 plus 512gb      1499990.0      1399990.0   movistar\n",
       "120        iphone 13 pro 1tb      1649990.0      1649990.0   movistar\n",
       "121          iphone 13 512gb      1199990.0       999990.0   movistar\n",
       "122          iphone 14 512gb      1369990.0      1039990.0   movistar\n",
       "\n",
       "[123 rows x 4 columns]"
      ]
     },
     "execution_count": 1,
     "metadata": {},
     "output_type": "execute_result"
    }
   ],
   "source": [
    "import pandas as pd\n",
    "\n",
    "productos = pd.read_csv('productosFinal copy.csv')\n",
    "productos"
   ]
  },
  {
   "cell_type": "code",
   "execution_count": 2,
   "metadata": {},
   "outputs": [],
   "source": [
    "productos['modelo'] = productos['modelo'].str.lower().str.strip()"
   ]
  },
  {
   "cell_type": "code",
   "execution_count": 7,
   "metadata": {},
   "outputs": [
    {
     "data": {
      "text/plain": [
       "modelo           0\n",
       "precio_normal    0\n",
       "precio_oferta    0\n",
       "tienda           0\n",
       "categoria        0\n",
       "dtype: int64"
      ]
     },
     "execution_count": 7,
     "metadata": {},
     "output_type": "execute_result"
    }
   ],
   "source": [
    "valores_nulos = productos.isnull().sum()\n",
    "valores_nulos"
   ]
  },
  {
   "cell_type": "markdown",
   "metadata": {},
   "source": [
    "al eliminar los duplicados la data se reducio en 21 datos"
   ]
  },
  {
   "cell_type": "code",
   "execution_count": 4,
   "metadata": {},
   "outputs": [
    {
     "data": {
      "text/html": [
       "<div>\n",
       "<style scoped>\n",
       "    .dataframe tbody tr th:only-of-type {\n",
       "        vertical-align: middle;\n",
       "    }\n",
       "\n",
       "    .dataframe tbody tr th {\n",
       "        vertical-align: top;\n",
       "    }\n",
       "\n",
       "    .dataframe thead th {\n",
       "        text-align: right;\n",
       "    }\n",
       "</style>\n",
       "<table border=\"1\" class=\"dataframe\">\n",
       "  <thead>\n",
       "    <tr style=\"text-align: right;\">\n",
       "      <th></th>\n",
       "      <th>modelo</th>\n",
       "      <th>precio_normal</th>\n",
       "      <th>precio_oferta</th>\n",
       "      <th>tienda</th>\n",
       "    </tr>\n",
       "  </thead>\n",
       "  <tbody>\n",
       "    <tr>\n",
       "      <th>0</th>\n",
       "      <td>iphone 15 128gb</td>\n",
       "      <td>849990.0</td>\n",
       "      <td>819990.0</td>\n",
       "      <td>falabella</td>\n",
       "    </tr>\n",
       "    <tr>\n",
       "      <th>1</th>\n",
       "      <td>iphone 15 pro max 512gb</td>\n",
       "      <td>1499990.0</td>\n",
       "      <td>1079990.0</td>\n",
       "      <td>falabella</td>\n",
       "    </tr>\n",
       "    <tr>\n",
       "      <th>2</th>\n",
       "      <td>iphone 11 128gb</td>\n",
       "      <td>729990.0</td>\n",
       "      <td>429990.0</td>\n",
       "      <td>falabella</td>\n",
       "    </tr>\n",
       "    <tr>\n",
       "      <th>3</th>\n",
       "      <td>iphone 15 pro 128gb</td>\n",
       "      <td>1129990.0</td>\n",
       "      <td>1079990.0</td>\n",
       "      <td>falabella</td>\n",
       "    </tr>\n",
       "    <tr>\n",
       "      <th>4</th>\n",
       "      <td>iphone 15 256gb</td>\n",
       "      <td>799990.0</td>\n",
       "      <td>719990.0</td>\n",
       "      <td>falabella</td>\n",
       "    </tr>\n",
       "    <tr>\n",
       "      <th>...</th>\n",
       "      <td>...</td>\n",
       "      <td>...</td>\n",
       "      <td>...</td>\n",
       "      <td>...</td>\n",
       "    </tr>\n",
       "    <tr>\n",
       "      <th>118</th>\n",
       "      <td>iphone 15 plus 128gb</td>\n",
       "      <td>1099990.0</td>\n",
       "      <td>999990.0</td>\n",
       "      <td>movistar</td>\n",
       "    </tr>\n",
       "    <tr>\n",
       "      <th>119</th>\n",
       "      <td>iphone 14 plus 512gb</td>\n",
       "      <td>1499990.0</td>\n",
       "      <td>1399990.0</td>\n",
       "      <td>movistar</td>\n",
       "    </tr>\n",
       "    <tr>\n",
       "      <th>120</th>\n",
       "      <td>iphone 13 pro 1tb</td>\n",
       "      <td>1649990.0</td>\n",
       "      <td>1649990.0</td>\n",
       "      <td>movistar</td>\n",
       "    </tr>\n",
       "    <tr>\n",
       "      <th>121</th>\n",
       "      <td>iphone 13 512gb</td>\n",
       "      <td>1199990.0</td>\n",
       "      <td>999990.0</td>\n",
       "      <td>movistar</td>\n",
       "    </tr>\n",
       "    <tr>\n",
       "      <th>122</th>\n",
       "      <td>iphone 14 512gb</td>\n",
       "      <td>1369990.0</td>\n",
       "      <td>1039990.0</td>\n",
       "      <td>movistar</td>\n",
       "    </tr>\n",
       "  </tbody>\n",
       "</table>\n",
       "<p>101 rows × 4 columns</p>\n",
       "</div>"
      ],
      "text/plain": [
       "                      modelo  precio_normal  precio_oferta     tienda\n",
       "0            iphone 15 128gb       849990.0       819990.0  falabella\n",
       "1    iphone 15 pro max 512gb      1499990.0      1079990.0  falabella\n",
       "2            iphone 11 128gb       729990.0       429990.0  falabella\n",
       "3        iphone 15 pro 128gb      1129990.0      1079990.0  falabella\n",
       "4            iphone 15 256gb       799990.0       719990.0  falabella\n",
       "..                       ...            ...            ...        ...\n",
       "118     iphone 15 plus 128gb      1099990.0       999990.0   movistar\n",
       "119     iphone 14 plus 512gb      1499990.0      1399990.0   movistar\n",
       "120        iphone 13 pro 1tb      1649990.0      1649990.0   movistar\n",
       "121          iphone 13 512gb      1199990.0       999990.0   movistar\n",
       "122          iphone 14 512gb      1369990.0      1039990.0   movistar\n",
       "\n",
       "[101 rows x 4 columns]"
      ]
     },
     "execution_count": 4,
     "metadata": {},
     "output_type": "execute_result"
    }
   ],
   "source": [
    "productos = productos.drop_duplicates()\n",
    "productos"
   ]
  },
  {
   "cell_type": "markdown",
   "metadata": {},
   "source": [
    "se crea categoria de los modelos "
   ]
  },
  {
   "cell_type": "code",
   "execution_count": 6,
   "metadata": {},
   "outputs": [
    {
     "name": "stderr",
     "output_type": "stream",
     "text": [
      "C:\\Users\\Lenovo\\AppData\\Local\\Temp\\ipykernel_14628\\505132973.py:12: SettingWithCopyWarning: \n",
      "A value is trying to be set on a copy of a slice from a DataFrame.\n",
      "Try using .loc[row_indexer,col_indexer] = value instead\n",
      "\n",
      "See the caveats in the documentation: https://pandas.pydata.org/pandas-docs/stable/user_guide/indexing.html#returning-a-view-versus-a-copy\n",
      "  productos['categoria'] = productos['modelo'].apply(determinar_categoria)\n"
     ]
    },
    {
     "data": {
      "text/html": [
       "<div>\n",
       "<style scoped>\n",
       "    .dataframe tbody tr th:only-of-type {\n",
       "        vertical-align: middle;\n",
       "    }\n",
       "\n",
       "    .dataframe tbody tr th {\n",
       "        vertical-align: top;\n",
       "    }\n",
       "\n",
       "    .dataframe thead th {\n",
       "        text-align: right;\n",
       "    }\n",
       "</style>\n",
       "<table border=\"1\" class=\"dataframe\">\n",
       "  <thead>\n",
       "    <tr style=\"text-align: right;\">\n",
       "      <th></th>\n",
       "      <th>modelo</th>\n",
       "      <th>precio_normal</th>\n",
       "      <th>precio_oferta</th>\n",
       "      <th>tienda</th>\n",
       "      <th>categoria</th>\n",
       "    </tr>\n",
       "  </thead>\n",
       "  <tbody>\n",
       "    <tr>\n",
       "      <th>0</th>\n",
       "      <td>iphone 15 128gb</td>\n",
       "      <td>849990.0</td>\n",
       "      <td>819990.0</td>\n",
       "      <td>falabella</td>\n",
       "      <td>standard</td>\n",
       "    </tr>\n",
       "    <tr>\n",
       "      <th>1</th>\n",
       "      <td>iphone 15 pro max 512gb</td>\n",
       "      <td>1499990.0</td>\n",
       "      <td>1079990.0</td>\n",
       "      <td>falabella</td>\n",
       "      <td>pro max</td>\n",
       "    </tr>\n",
       "    <tr>\n",
       "      <th>2</th>\n",
       "      <td>iphone 11 128gb</td>\n",
       "      <td>729990.0</td>\n",
       "      <td>429990.0</td>\n",
       "      <td>falabella</td>\n",
       "      <td>standard</td>\n",
       "    </tr>\n",
       "    <tr>\n",
       "      <th>3</th>\n",
       "      <td>iphone 15 pro 128gb</td>\n",
       "      <td>1129990.0</td>\n",
       "      <td>1079990.0</td>\n",
       "      <td>falabella</td>\n",
       "      <td>pro</td>\n",
       "    </tr>\n",
       "    <tr>\n",
       "      <th>4</th>\n",
       "      <td>iphone 15 256gb</td>\n",
       "      <td>799990.0</td>\n",
       "      <td>719990.0</td>\n",
       "      <td>falabella</td>\n",
       "      <td>standard</td>\n",
       "    </tr>\n",
       "    <tr>\n",
       "      <th>...</th>\n",
       "      <td>...</td>\n",
       "      <td>...</td>\n",
       "      <td>...</td>\n",
       "      <td>...</td>\n",
       "      <td>...</td>\n",
       "    </tr>\n",
       "    <tr>\n",
       "      <th>118</th>\n",
       "      <td>iphone 15 plus 128gb</td>\n",
       "      <td>1099990.0</td>\n",
       "      <td>999990.0</td>\n",
       "      <td>movistar</td>\n",
       "      <td>plus</td>\n",
       "    </tr>\n",
       "    <tr>\n",
       "      <th>119</th>\n",
       "      <td>iphone 14 plus 512gb</td>\n",
       "      <td>1499990.0</td>\n",
       "      <td>1399990.0</td>\n",
       "      <td>movistar</td>\n",
       "      <td>plus</td>\n",
       "    </tr>\n",
       "    <tr>\n",
       "      <th>120</th>\n",
       "      <td>iphone 13 pro 1tb</td>\n",
       "      <td>1649990.0</td>\n",
       "      <td>1649990.0</td>\n",
       "      <td>movistar</td>\n",
       "      <td>pro</td>\n",
       "    </tr>\n",
       "    <tr>\n",
       "      <th>121</th>\n",
       "      <td>iphone 13 512gb</td>\n",
       "      <td>1199990.0</td>\n",
       "      <td>999990.0</td>\n",
       "      <td>movistar</td>\n",
       "      <td>standard</td>\n",
       "    </tr>\n",
       "    <tr>\n",
       "      <th>122</th>\n",
       "      <td>iphone 14 512gb</td>\n",
       "      <td>1369990.0</td>\n",
       "      <td>1039990.0</td>\n",
       "      <td>movistar</td>\n",
       "      <td>standard</td>\n",
       "    </tr>\n",
       "  </tbody>\n",
       "</table>\n",
       "<p>101 rows × 5 columns</p>\n",
       "</div>"
      ],
      "text/plain": [
       "                      modelo  precio_normal  precio_oferta     tienda  \\\n",
       "0            iphone 15 128gb       849990.0       819990.0  falabella   \n",
       "1    iphone 15 pro max 512gb      1499990.0      1079990.0  falabella   \n",
       "2            iphone 11 128gb       729990.0       429990.0  falabella   \n",
       "3        iphone 15 pro 128gb      1129990.0      1079990.0  falabella   \n",
       "4            iphone 15 256gb       799990.0       719990.0  falabella   \n",
       "..                       ...            ...            ...        ...   \n",
       "118     iphone 15 plus 128gb      1099990.0       999990.0   movistar   \n",
       "119     iphone 14 plus 512gb      1499990.0      1399990.0   movistar   \n",
       "120        iphone 13 pro 1tb      1649990.0      1649990.0   movistar   \n",
       "121          iphone 13 512gb      1199990.0       999990.0   movistar   \n",
       "122          iphone 14 512gb      1369990.0      1039990.0   movistar   \n",
       "\n",
       "    categoria  \n",
       "0    standard  \n",
       "1     pro max  \n",
       "2    standard  \n",
       "3         pro  \n",
       "4    standard  \n",
       "..        ...  \n",
       "118      plus  \n",
       "119      plus  \n",
       "120       pro  \n",
       "121  standard  \n",
       "122  standard  \n",
       "\n",
       "[101 rows x 5 columns]"
      ]
     },
     "execution_count": 6,
     "metadata": {},
     "output_type": "execute_result"
    }
   ],
   "source": [
    "def determinar_categoria(modelo):\n",
    "    modelo_lower = modelo.lower()\n",
    "    if 'pro max' in modelo_lower:\n",
    "        return 'pro max'\n",
    "    elif 'pro' in modelo_lower:\n",
    "        return 'pro'\n",
    "    elif 'plus' in modelo_lower:\n",
    "        return 'plus'\n",
    "    else:\n",
    "        return 'standard'\n",
    "\n",
    "productos['categoria'] = productos['modelo'].apply(determinar_categoria)\n",
    "productos\n"
   ]
  },
  {
   "cell_type": "code",
   "execution_count": 8,
   "metadata": {},
   "outputs": [
    {
     "data": {
      "text/plain": [
       "array(['iphone 15 128gb', 'iphone 15 pro max 512gb', 'iphone 11 128gb',\n",
       "       'iphone 15 pro 128gb', 'iphone 15 256gb', 'iphone 14 256gb',\n",
       "       'iphone 14 128gb', 'iphone 13 128gb', 'iphone 15 512gb',\n",
       "       'iphone 12 128gb', 'iphone 15 pro 256gb',\n",
       "       'iphone 15 pro max 256gb', 'iphone 11 64gb',\n",
       "       'iphone 15 plus 128gb', 'iphone 13 256gb', 'iphone 14 plus 256gb',\n",
       "       'iphone 15 512 gb', 'iphone 15 pro 512gb', 'iphone 15 plus 256gb',\n",
       "       'iphone 13 512gb', 'iphone 15 plus 512gb',\n",
       "       'iphone 14 pro max 128gb', 'iphone 14 plus 128gb',\n",
       "       'iphone 14 pro 128gb', 'iphone 12 64gb', 'iphone 14 plus 512gb',\n",
       "       'iphone 13 pro 1tb', 'iphone 14 512gb'], dtype=object)"
      ]
     },
     "execution_count": 8,
     "metadata": {},
     "output_type": "execute_result"
    }
   ],
   "source": [
    "productos['modelo'].unique()"
   ]
  },
  {
   "cell_type": "markdown",
   "metadata": {},
   "source": [
    "se estandarizan los precios para ser mas comprensibles en pesos"
   ]
  },
  {
   "cell_type": "code",
   "execution_count": 9,
   "metadata": {},
   "outputs": [
    {
     "data": {
      "text/html": [
       "<div>\n",
       "<style scoped>\n",
       "    .dataframe tbody tr th:only-of-type {\n",
       "        vertical-align: middle;\n",
       "    }\n",
       "\n",
       "    .dataframe tbody tr th {\n",
       "        vertical-align: top;\n",
       "    }\n",
       "\n",
       "    .dataframe thead th {\n",
       "        text-align: right;\n",
       "    }\n",
       "</style>\n",
       "<table border=\"1\" class=\"dataframe\">\n",
       "  <thead>\n",
       "    <tr style=\"text-align: right;\">\n",
       "      <th></th>\n",
       "      <th>modelo</th>\n",
       "      <th>precio_normal</th>\n",
       "      <th>precio_oferta</th>\n",
       "      <th>tienda</th>\n",
       "      <th>categoria</th>\n",
       "    </tr>\n",
       "  </thead>\n",
       "  <tbody>\n",
       "    <tr>\n",
       "      <th>0</th>\n",
       "      <td>iphone 15 128gb</td>\n",
       "      <td>849,990</td>\n",
       "      <td>819,990</td>\n",
       "      <td>falabella</td>\n",
       "      <td>standard</td>\n",
       "    </tr>\n",
       "    <tr>\n",
       "      <th>1</th>\n",
       "      <td>iphone 15 pro max 512gb</td>\n",
       "      <td>1,499,990</td>\n",
       "      <td>1,079,990</td>\n",
       "      <td>falabella</td>\n",
       "      <td>pro max</td>\n",
       "    </tr>\n",
       "    <tr>\n",
       "      <th>2</th>\n",
       "      <td>iphone 11 128gb</td>\n",
       "      <td>729,990</td>\n",
       "      <td>429,990</td>\n",
       "      <td>falabella</td>\n",
       "      <td>standard</td>\n",
       "    </tr>\n",
       "    <tr>\n",
       "      <th>3</th>\n",
       "      <td>iphone 15 pro 128gb</td>\n",
       "      <td>1,129,990</td>\n",
       "      <td>1,079,990</td>\n",
       "      <td>falabella</td>\n",
       "      <td>pro</td>\n",
       "    </tr>\n",
       "    <tr>\n",
       "      <th>4</th>\n",
       "      <td>iphone 15 256gb</td>\n",
       "      <td>799,990</td>\n",
       "      <td>719,990</td>\n",
       "      <td>falabella</td>\n",
       "      <td>standard</td>\n",
       "    </tr>\n",
       "    <tr>\n",
       "      <th>...</th>\n",
       "      <td>...</td>\n",
       "      <td>...</td>\n",
       "      <td>...</td>\n",
       "      <td>...</td>\n",
       "      <td>...</td>\n",
       "    </tr>\n",
       "    <tr>\n",
       "      <th>118</th>\n",
       "      <td>iphone 15 plus 128gb</td>\n",
       "      <td>1,099,990</td>\n",
       "      <td>999,990</td>\n",
       "      <td>movistar</td>\n",
       "      <td>plus</td>\n",
       "    </tr>\n",
       "    <tr>\n",
       "      <th>119</th>\n",
       "      <td>iphone 14 plus 512gb</td>\n",
       "      <td>1,499,990</td>\n",
       "      <td>1,399,990</td>\n",
       "      <td>movistar</td>\n",
       "      <td>plus</td>\n",
       "    </tr>\n",
       "    <tr>\n",
       "      <th>120</th>\n",
       "      <td>iphone 13 pro 1tb</td>\n",
       "      <td>1,649,990</td>\n",
       "      <td>1,649,990</td>\n",
       "      <td>movistar</td>\n",
       "      <td>pro</td>\n",
       "    </tr>\n",
       "    <tr>\n",
       "      <th>121</th>\n",
       "      <td>iphone 13 512gb</td>\n",
       "      <td>1,199,990</td>\n",
       "      <td>999,990</td>\n",
       "      <td>movistar</td>\n",
       "      <td>standard</td>\n",
       "    </tr>\n",
       "    <tr>\n",
       "      <th>122</th>\n",
       "      <td>iphone 14 512gb</td>\n",
       "      <td>1,369,990</td>\n",
       "      <td>1,039,990</td>\n",
       "      <td>movistar</td>\n",
       "      <td>standard</td>\n",
       "    </tr>\n",
       "  </tbody>\n",
       "</table>\n",
       "<p>101 rows × 5 columns</p>\n",
       "</div>"
      ],
      "text/plain": [
       "                      modelo  precio_normal  precio_oferta     tienda  \\\n",
       "0            iphone 15 128gb        849,990        819,990  falabella   \n",
       "1    iphone 15 pro max 512gb      1,499,990      1,079,990  falabella   \n",
       "2            iphone 11 128gb        729,990        429,990  falabella   \n",
       "3        iphone 15 pro 128gb      1,129,990      1,079,990  falabella   \n",
       "4            iphone 15 256gb        799,990        719,990  falabella   \n",
       "..                       ...            ...            ...        ...   \n",
       "118     iphone 15 plus 128gb      1,099,990        999,990   movistar   \n",
       "119     iphone 14 plus 512gb      1,499,990      1,399,990   movistar   \n",
       "120        iphone 13 pro 1tb      1,649,990      1,649,990   movistar   \n",
       "121          iphone 13 512gb      1,199,990        999,990   movistar   \n",
       "122          iphone 14 512gb      1,369,990      1,039,990   movistar   \n",
       "\n",
       "    categoria  \n",
       "0    standard  \n",
       "1     pro max  \n",
       "2    standard  \n",
       "3         pro  \n",
       "4    standard  \n",
       "..        ...  \n",
       "118      plus  \n",
       "119      plus  \n",
       "120       pro  \n",
       "121  standard  \n",
       "122  standard  \n",
       "\n",
       "[101 rows x 5 columns]"
      ]
     },
     "execution_count": 9,
     "metadata": {},
     "output_type": "execute_result"
    }
   ],
   "source": [
    "pd.options.display.float_format = '{:,.0f}'.format\n",
    "productos"
   ]
  },
  {
   "cell_type": "markdown",
   "metadata": {},
   "source": [
    "descripcion breve de los datos con los que se estan trabajando"
   ]
  },
  {
   "cell_type": "code",
   "execution_count": 10,
   "metadata": {},
   "outputs": [
    {
     "name": "stdout",
     "output_type": "stream",
     "text": [
      "<class 'pandas.core.frame.DataFrame'>\n",
      "Index: 101 entries, 0 to 122\n",
      "Data columns (total 5 columns):\n",
      " #   Column         Non-Null Count  Dtype  \n",
      "---  ------         --------------  -----  \n",
      " 0   modelo         101 non-null    object \n",
      " 1   precio_normal  101 non-null    float64\n",
      " 2   precio_oferta  101 non-null    float64\n",
      " 3   tienda         101 non-null    object \n",
      " 4   categoria      101 non-null    object \n",
      "dtypes: float64(2), object(3)\n",
      "memory usage: 4.7+ KB\n"
     ]
    }
   ],
   "source": [
    "productos.info()"
   ]
  },
  {
   "cell_type": "code",
   "execution_count": 11,
   "metadata": {},
   "outputs": [
    {
     "data": {
      "text/html": [
       "<div>\n",
       "<style scoped>\n",
       "    .dataframe tbody tr th:only-of-type {\n",
       "        vertical-align: middle;\n",
       "    }\n",
       "\n",
       "    .dataframe tbody tr th {\n",
       "        vertical-align: top;\n",
       "    }\n",
       "\n",
       "    .dataframe thead th {\n",
       "        text-align: right;\n",
       "    }\n",
       "</style>\n",
       "<table border=\"1\" class=\"dataframe\">\n",
       "  <thead>\n",
       "    <tr style=\"text-align: right;\">\n",
       "      <th></th>\n",
       "      <th>precio_normal</th>\n",
       "      <th>precio_oferta</th>\n",
       "    </tr>\n",
       "  </thead>\n",
       "  <tbody>\n",
       "    <tr>\n",
       "      <th>count</th>\n",
       "      <td>101</td>\n",
       "      <td>101</td>\n",
       "    </tr>\n",
       "    <tr>\n",
       "      <th>mean</th>\n",
       "      <td>1,096,779</td>\n",
       "      <td>906,992</td>\n",
       "    </tr>\n",
       "    <tr>\n",
       "      <th>std</th>\n",
       "      <td>352,444</td>\n",
       "      <td>336,753</td>\n",
       "    </tr>\n",
       "    <tr>\n",
       "      <th>min</th>\n",
       "      <td>399,990</td>\n",
       "      <td>329,900</td>\n",
       "    </tr>\n",
       "    <tr>\n",
       "      <th>25%</th>\n",
       "      <td>849,990</td>\n",
       "      <td>679,990</td>\n",
       "    </tr>\n",
       "    <tr>\n",
       "      <th>50%</th>\n",
       "      <td>1,079,990</td>\n",
       "      <td>879,990</td>\n",
       "    </tr>\n",
       "    <tr>\n",
       "      <th>75%</th>\n",
       "      <td>1,369,990</td>\n",
       "      <td>1,179,900</td>\n",
       "    </tr>\n",
       "    <tr>\n",
       "      <th>max</th>\n",
       "      <td>1,899,990</td>\n",
       "      <td>1,649,990</td>\n",
       "    </tr>\n",
       "  </tbody>\n",
       "</table>\n",
       "</div>"
      ],
      "text/plain": [
       "       precio_normal  precio_oferta\n",
       "count            101            101\n",
       "mean       1,096,779        906,992\n",
       "std          352,444        336,753\n",
       "min          399,990        329,900\n",
       "25%          849,990        679,990\n",
       "50%        1,079,990        879,990\n",
       "75%        1,369,990      1,179,900\n",
       "max        1,899,990      1,649,990"
      ]
     },
     "execution_count": 11,
     "metadata": {},
     "output_type": "execute_result"
    }
   ],
   "source": [
    "productos.describe()"
   ]
  },
  {
   "cell_type": "markdown",
   "metadata": {},
   "source": [
    "hablar un poco de como se distribuyen las tiendas, esto depende de cuanto stock tengan de los modelos "
   ]
  },
  {
   "cell_type": "code",
   "execution_count": 12,
   "metadata": {},
   "outputs": [
    {
     "data": {
      "text/plain": [
       "(array(['claro', 'falabella', 'hites', 'la polar', 'lider',\n",
       "        'mercado libre', 'movistar', 'paris', 'pcfactory', 'ripley', 'wom'],\n",
       "       dtype=object),\n",
       " array([ 6, 11, 12, 10,  6, 13, 13, 11,  3, 10,  6], dtype=int64))"
      ]
     },
     "execution_count": 12,
     "metadata": {},
     "output_type": "execute_result"
    }
   ],
   "source": [
    "import numpy as np\n",
    "temp, temp1=np.unique(productos['tienda'], return_counts=True)\n",
    "temp, temp1"
   ]
  },
  {
   "cell_type": "code",
   "execution_count": 32,
   "metadata": {},
   "outputs": [
    {
     "data": {
      "application/vnd.plotly.v1+json": {
       "config": {
        "plotlyServerURL": "https://plot.ly"
       },
       "data": [
        {
         "fill": "toself",
         "marker": {
          "color": "#dcb6a8"
         },
         "name": "Cantidad",
         "r": [
          6,
          11,
          12,
          10,
          6,
          13,
          13,
          11,
          3,
          10,
          6,
          6
         ],
         "theta": [
          "claro",
          "falabella",
          "hites",
          "la polar",
          "lider",
          "mercado libre",
          "movistar",
          "paris",
          "pcfactory",
          "ripley",
          "wom",
          "claro"
         ],
         "type": "scatterpolar"
        }
       ],
       "layout": {
        "polar": {
         "radialaxis": {
          "range": [
           0,
           13
          ],
          "visible": true
         }
        },
        "showlegend": true,
        "template": {
         "data": {
          "bar": [
           {
            "error_x": {
             "color": "#2a3f5f"
            },
            "error_y": {
             "color": "#2a3f5f"
            },
            "marker": {
             "line": {
              "color": "#E5ECF6",
              "width": 0.5
             },
             "pattern": {
              "fillmode": "overlay",
              "size": 10,
              "solidity": 0.2
             }
            },
            "type": "bar"
           }
          ],
          "barpolar": [
           {
            "marker": {
             "line": {
              "color": "#E5ECF6",
              "width": 0.5
             },
             "pattern": {
              "fillmode": "overlay",
              "size": 10,
              "solidity": 0.2
             }
            },
            "type": "barpolar"
           }
          ],
          "carpet": [
           {
            "aaxis": {
             "endlinecolor": "#2a3f5f",
             "gridcolor": "white",
             "linecolor": "white",
             "minorgridcolor": "white",
             "startlinecolor": "#2a3f5f"
            },
            "baxis": {
             "endlinecolor": "#2a3f5f",
             "gridcolor": "white",
             "linecolor": "white",
             "minorgridcolor": "white",
             "startlinecolor": "#2a3f5f"
            },
            "type": "carpet"
           }
          ],
          "choropleth": [
           {
            "colorbar": {
             "outlinewidth": 0,
             "ticks": ""
            },
            "type": "choropleth"
           }
          ],
          "contour": [
           {
            "colorbar": {
             "outlinewidth": 0,
             "ticks": ""
            },
            "colorscale": [
             [
              0,
              "#0d0887"
             ],
             [
              0.1111111111111111,
              "#46039f"
             ],
             [
              0.2222222222222222,
              "#7201a8"
             ],
             [
              0.3333333333333333,
              "#9c179e"
             ],
             [
              0.4444444444444444,
              "#bd3786"
             ],
             [
              0.5555555555555556,
              "#d8576b"
             ],
             [
              0.6666666666666666,
              "#ed7953"
             ],
             [
              0.7777777777777778,
              "#fb9f3a"
             ],
             [
              0.8888888888888888,
              "#fdca26"
             ],
             [
              1,
              "#f0f921"
             ]
            ],
            "type": "contour"
           }
          ],
          "contourcarpet": [
           {
            "colorbar": {
             "outlinewidth": 0,
             "ticks": ""
            },
            "type": "contourcarpet"
           }
          ],
          "heatmap": [
           {
            "colorbar": {
             "outlinewidth": 0,
             "ticks": ""
            },
            "colorscale": [
             [
              0,
              "#0d0887"
             ],
             [
              0.1111111111111111,
              "#46039f"
             ],
             [
              0.2222222222222222,
              "#7201a8"
             ],
             [
              0.3333333333333333,
              "#9c179e"
             ],
             [
              0.4444444444444444,
              "#bd3786"
             ],
             [
              0.5555555555555556,
              "#d8576b"
             ],
             [
              0.6666666666666666,
              "#ed7953"
             ],
             [
              0.7777777777777778,
              "#fb9f3a"
             ],
             [
              0.8888888888888888,
              "#fdca26"
             ],
             [
              1,
              "#f0f921"
             ]
            ],
            "type": "heatmap"
           }
          ],
          "heatmapgl": [
           {
            "colorbar": {
             "outlinewidth": 0,
             "ticks": ""
            },
            "colorscale": [
             [
              0,
              "#0d0887"
             ],
             [
              0.1111111111111111,
              "#46039f"
             ],
             [
              0.2222222222222222,
              "#7201a8"
             ],
             [
              0.3333333333333333,
              "#9c179e"
             ],
             [
              0.4444444444444444,
              "#bd3786"
             ],
             [
              0.5555555555555556,
              "#d8576b"
             ],
             [
              0.6666666666666666,
              "#ed7953"
             ],
             [
              0.7777777777777778,
              "#fb9f3a"
             ],
             [
              0.8888888888888888,
              "#fdca26"
             ],
             [
              1,
              "#f0f921"
             ]
            ],
            "type": "heatmapgl"
           }
          ],
          "histogram": [
           {
            "marker": {
             "pattern": {
              "fillmode": "overlay",
              "size": 10,
              "solidity": 0.2
             }
            },
            "type": "histogram"
           }
          ],
          "histogram2d": [
           {
            "colorbar": {
             "outlinewidth": 0,
             "ticks": ""
            },
            "colorscale": [
             [
              0,
              "#0d0887"
             ],
             [
              0.1111111111111111,
              "#46039f"
             ],
             [
              0.2222222222222222,
              "#7201a8"
             ],
             [
              0.3333333333333333,
              "#9c179e"
             ],
             [
              0.4444444444444444,
              "#bd3786"
             ],
             [
              0.5555555555555556,
              "#d8576b"
             ],
             [
              0.6666666666666666,
              "#ed7953"
             ],
             [
              0.7777777777777778,
              "#fb9f3a"
             ],
             [
              0.8888888888888888,
              "#fdca26"
             ],
             [
              1,
              "#f0f921"
             ]
            ],
            "type": "histogram2d"
           }
          ],
          "histogram2dcontour": [
           {
            "colorbar": {
             "outlinewidth": 0,
             "ticks": ""
            },
            "colorscale": [
             [
              0,
              "#0d0887"
             ],
             [
              0.1111111111111111,
              "#46039f"
             ],
             [
              0.2222222222222222,
              "#7201a8"
             ],
             [
              0.3333333333333333,
              "#9c179e"
             ],
             [
              0.4444444444444444,
              "#bd3786"
             ],
             [
              0.5555555555555556,
              "#d8576b"
             ],
             [
              0.6666666666666666,
              "#ed7953"
             ],
             [
              0.7777777777777778,
              "#fb9f3a"
             ],
             [
              0.8888888888888888,
              "#fdca26"
             ],
             [
              1,
              "#f0f921"
             ]
            ],
            "type": "histogram2dcontour"
           }
          ],
          "mesh3d": [
           {
            "colorbar": {
             "outlinewidth": 0,
             "ticks": ""
            },
            "type": "mesh3d"
           }
          ],
          "parcoords": [
           {
            "line": {
             "colorbar": {
              "outlinewidth": 0,
              "ticks": ""
             }
            },
            "type": "parcoords"
           }
          ],
          "pie": [
           {
            "automargin": true,
            "type": "pie"
           }
          ],
          "scatter": [
           {
            "fillpattern": {
             "fillmode": "overlay",
             "size": 10,
             "solidity": 0.2
            },
            "type": "scatter"
           }
          ],
          "scatter3d": [
           {
            "line": {
             "colorbar": {
              "outlinewidth": 0,
              "ticks": ""
             }
            },
            "marker": {
             "colorbar": {
              "outlinewidth": 0,
              "ticks": ""
             }
            },
            "type": "scatter3d"
           }
          ],
          "scattercarpet": [
           {
            "marker": {
             "colorbar": {
              "outlinewidth": 0,
              "ticks": ""
             }
            },
            "type": "scattercarpet"
           }
          ],
          "scattergeo": [
           {
            "marker": {
             "colorbar": {
              "outlinewidth": 0,
              "ticks": ""
             }
            },
            "type": "scattergeo"
           }
          ],
          "scattergl": [
           {
            "marker": {
             "colorbar": {
              "outlinewidth": 0,
              "ticks": ""
             }
            },
            "type": "scattergl"
           }
          ],
          "scattermapbox": [
           {
            "marker": {
             "colorbar": {
              "outlinewidth": 0,
              "ticks": ""
             }
            },
            "type": "scattermapbox"
           }
          ],
          "scatterpolar": [
           {
            "marker": {
             "colorbar": {
              "outlinewidth": 0,
              "ticks": ""
             }
            },
            "type": "scatterpolar"
           }
          ],
          "scatterpolargl": [
           {
            "marker": {
             "colorbar": {
              "outlinewidth": 0,
              "ticks": ""
             }
            },
            "type": "scatterpolargl"
           }
          ],
          "scatterternary": [
           {
            "marker": {
             "colorbar": {
              "outlinewidth": 0,
              "ticks": ""
             }
            },
            "type": "scatterternary"
           }
          ],
          "surface": [
           {
            "colorbar": {
             "outlinewidth": 0,
             "ticks": ""
            },
            "colorscale": [
             [
              0,
              "#0d0887"
             ],
             [
              0.1111111111111111,
              "#46039f"
             ],
             [
              0.2222222222222222,
              "#7201a8"
             ],
             [
              0.3333333333333333,
              "#9c179e"
             ],
             [
              0.4444444444444444,
              "#bd3786"
             ],
             [
              0.5555555555555556,
              "#d8576b"
             ],
             [
              0.6666666666666666,
              "#ed7953"
             ],
             [
              0.7777777777777778,
              "#fb9f3a"
             ],
             [
              0.8888888888888888,
              "#fdca26"
             ],
             [
              1,
              "#f0f921"
             ]
            ],
            "type": "surface"
           }
          ],
          "table": [
           {
            "cells": {
             "fill": {
              "color": "#EBF0F8"
             },
             "line": {
              "color": "white"
             }
            },
            "header": {
             "fill": {
              "color": "#C8D4E3"
             },
             "line": {
              "color": "white"
             }
            },
            "type": "table"
           }
          ]
         },
         "layout": {
          "annotationdefaults": {
           "arrowcolor": "#2a3f5f",
           "arrowhead": 0,
           "arrowwidth": 1
          },
          "autotypenumbers": "strict",
          "coloraxis": {
           "colorbar": {
            "outlinewidth": 0,
            "ticks": ""
           }
          },
          "colorscale": {
           "diverging": [
            [
             0,
             "#8e0152"
            ],
            [
             0.1,
             "#c51b7d"
            ],
            [
             0.2,
             "#de77ae"
            ],
            [
             0.3,
             "#f1b6da"
            ],
            [
             0.4,
             "#fde0ef"
            ],
            [
             0.5,
             "#f7f7f7"
            ],
            [
             0.6,
             "#e6f5d0"
            ],
            [
             0.7,
             "#b8e186"
            ],
            [
             0.8,
             "#7fbc41"
            ],
            [
             0.9,
             "#4d9221"
            ],
            [
             1,
             "#276419"
            ]
           ],
           "sequential": [
            [
             0,
             "#0d0887"
            ],
            [
             0.1111111111111111,
             "#46039f"
            ],
            [
             0.2222222222222222,
             "#7201a8"
            ],
            [
             0.3333333333333333,
             "#9c179e"
            ],
            [
             0.4444444444444444,
             "#bd3786"
            ],
            [
             0.5555555555555556,
             "#d8576b"
            ],
            [
             0.6666666666666666,
             "#ed7953"
            ],
            [
             0.7777777777777778,
             "#fb9f3a"
            ],
            [
             0.8888888888888888,
             "#fdca26"
            ],
            [
             1,
             "#f0f921"
            ]
           ],
           "sequentialminus": [
            [
             0,
             "#0d0887"
            ],
            [
             0.1111111111111111,
             "#46039f"
            ],
            [
             0.2222222222222222,
             "#7201a8"
            ],
            [
             0.3333333333333333,
             "#9c179e"
            ],
            [
             0.4444444444444444,
             "#bd3786"
            ],
            [
             0.5555555555555556,
             "#d8576b"
            ],
            [
             0.6666666666666666,
             "#ed7953"
            ],
            [
             0.7777777777777778,
             "#fb9f3a"
            ],
            [
             0.8888888888888888,
             "#fdca26"
            ],
            [
             1,
             "#f0f921"
            ]
           ]
          },
          "colorway": [
           "#636efa",
           "#EF553B",
           "#00cc96",
           "#ab63fa",
           "#FFA15A",
           "#19d3f3",
           "#FF6692",
           "#B6E880",
           "#FF97FF",
           "#FECB52"
          ],
          "font": {
           "color": "#2a3f5f"
          },
          "geo": {
           "bgcolor": "white",
           "lakecolor": "white",
           "landcolor": "#E5ECF6",
           "showlakes": true,
           "showland": true,
           "subunitcolor": "white"
          },
          "hoverlabel": {
           "align": "left"
          },
          "hovermode": "closest",
          "mapbox": {
           "style": "light"
          },
          "paper_bgcolor": "white",
          "plot_bgcolor": "#E5ECF6",
          "polar": {
           "angularaxis": {
            "gridcolor": "white",
            "linecolor": "white",
            "ticks": ""
           },
           "bgcolor": "#E5ECF6",
           "radialaxis": {
            "gridcolor": "white",
            "linecolor": "white",
            "ticks": ""
           }
          },
          "scene": {
           "xaxis": {
            "backgroundcolor": "#E5ECF6",
            "gridcolor": "white",
            "gridwidth": 2,
            "linecolor": "white",
            "showbackground": true,
            "ticks": "",
            "zerolinecolor": "white"
           },
           "yaxis": {
            "backgroundcolor": "#E5ECF6",
            "gridcolor": "white",
            "gridwidth": 2,
            "linecolor": "white",
            "showbackground": true,
            "ticks": "",
            "zerolinecolor": "white"
           },
           "zaxis": {
            "backgroundcolor": "#E5ECF6",
            "gridcolor": "white",
            "gridwidth": 2,
            "linecolor": "white",
            "showbackground": true,
            "ticks": "",
            "zerolinecolor": "white"
           }
          },
          "shapedefaults": {
           "line": {
            "color": "#2a3f5f"
           }
          },
          "ternary": {
           "aaxis": {
            "gridcolor": "white",
            "linecolor": "white",
            "ticks": ""
           },
           "baxis": {
            "gridcolor": "white",
            "linecolor": "white",
            "ticks": ""
           },
           "bgcolor": "#E5ECF6",
           "caxis": {
            "gridcolor": "white",
            "linecolor": "white",
            "ticks": ""
           }
          },
          "title": {
           "x": 0.05
          },
          "xaxis": {
           "automargin": true,
           "gridcolor": "white",
           "linecolor": "white",
           "ticks": "",
           "title": {
            "standoff": 15
           },
           "zerolinecolor": "white",
           "zerolinewidth": 2
          },
          "yaxis": {
           "automargin": true,
           "gridcolor": "white",
           "linecolor": "white",
           "ticks": "",
           "title": {
            "standoff": 15
           },
           "zerolinecolor": "white",
           "zerolinewidth": 2
          }
         }
        },
        "title": {
         "text": "Distribución de tiendas"
        }
       }
      }
     },
     "metadata": {},
     "output_type": "display_data"
    }
   ],
   "source": [
    "import pandas as pd\n",
    "import plotly.graph_objects as go\n",
    "\n",
    "df_temp = pd.DataFrame({'Col A': temp,\n",
    "                        'Col B': temp1})\n",
    "\n",
    "fig = go.Figure()\n",
    "\n",
    "r_values = df_temp['Col B'].tolist() + [df_temp['Col B'][0]]\n",
    "theta_values = df_temp['Col A'].tolist() + [df_temp['Col A'][0]]\n",
    "\n",
    "fig.add_trace(go.Scatterpolar(\n",
    "    r=r_values,\n",
    "    theta=theta_values,\n",
    "    fill='toself',\n",
    "    marker=dict(color='#dcb6a8'),\n",
    "    name='Cantidad'\n",
    "))\n",
    "\n",
    "fig.update_layout(\n",
    "    polar=dict(\n",
    "        radialaxis=dict(\n",
    "            visible=True,\n",
    "            range=[0, max(df_temp['Col B'])]  \n",
    "        ),\n",
    "    ),\n",
    "    showlegend=True,\n",
    "    title=\"Distribución de tiendas\"\n",
    ")\n",
    "\n",
    "fig.show()\n"
   ]
  },
  {
   "cell_type": "code",
   "execution_count": 34,
   "metadata": {},
   "outputs": [
    {
     "data": {
      "image/png": "[encoded data removed]",
      "text/plain": [
       "<Figure size 1400x600 with 1 Axes>"
      ]
     },
     "metadata": {},
     "output_type": "display_data"
    }
   ],
   "source": [
    "import matplotlib.pyplot as plt\n",
    "import seaborn as sns\n",
    "\n",
    "plt.figure(figsize=(14, 6))\n",
    "\n",
    "plt.subplot(1, 2, 1)\n",
    "sns.histplot(productos['categoria'], color='#f2e5dd', bins=20)\n",
    "plt.title('Distribución de categorias')\n",
    "plt.xlabel('categorias')\n",
    "\n",
    "plt.show()"
   ]
  },
  {
   "cell_type": "markdown",
   "metadata": {},
   "source": [
    "sacar conclus de estos graficos, puede ser con ayuda de gpt"
   ]
  },
  {
   "cell_type": "code",
   "execution_count": 38,
   "metadata": {},
   "outputs": [
    {
     "data": {
      "image/png": "[encoded data removed]",
      "text/plain": [
       "<Figure size 1400x600 with 2 Axes>"
      ]
     },
     "metadata": {},
     "output_type": "display_data"
    }
   ],
   "source": [
    "import matplotlib.pyplot as plt\n",
    "import seaborn as sns\n",
    "\n",
    "mediana_precio_normal = productos['precio_normal'].median()\n",
    "mediana_precio_oferta = productos['precio_oferta'].median()\n",
    "\n",
    "# Moda\n",
    "moda_precio_normal = productos['precio_normal'].mode()[0]\n",
    "moda_precio_oferta = productos['precio_oferta'].mode()[0]\n",
    "\n",
    "# Visualización de distribuciones de precios\n",
    "plt.figure(figsize=(14, 6))\n",
    "\n",
    "plt.subplot(1, 2, 1)\n",
    "sns.histplot(productos['precio_normal'], kde=True, color='#dcb6a8', bins=20)\n",
    "plt.title('Distribución de Precio Normal')\n",
    "plt.xlabel('Precio Normal')\n",
    "\n",
    "plt.subplot(1, 2, 2)\n",
    "sns.histplot(productos['precio_oferta'], kde=True, color='#dcb6a8', bins=20)\n",
    "plt.title('Distribución de Precio de Oferta')\n",
    "plt.xlabel('Precio de Oferta')\n",
    "\n",
    "plt.tight_layout()\n",
    "plt.show()"
   ]
  },
  {
   "cell_type": "code",
   "execution_count": 39,
   "metadata": {},
   "outputs": [
    {
     "data": {
      "image/png": "[encoded data removed]",
      "text/plain": [
       "<Figure size 1000x600 with 1 Axes>"
      ]
     },
     "metadata": {},
     "output_type": "display_data"
    }
   ],
   "source": [
    "# Boxplot por categoría\n",
    "plt.figure(figsize=(10, 6))\n",
    "sns.boxplot(x='categoria', y='precio_oferta', data=productos,color='#c49191')\n",
    "plt.title('Distribución de Precio de Oferta por Categoría')\n",
    "plt.xlabel('Categoría')\n",
    "plt.ylabel('Precio de Oferta')\n",
    "plt.show()\n"
   ]
  },
  {
   "cell_type": "code",
   "execution_count": 16,
   "metadata": {},
   "outputs": [
    {
     "data": {
      "text/plain": [
       "tienda\n",
       "falabella         721,808\n",
       "lider             763,323\n",
       "hites             862,490\n",
       "wom               868,400\n",
       "claro             868,877\n",
       "paris             899,990\n",
       "movistar          923,452\n",
       "la polar          954,990\n",
       "ripley            966,990\n",
       "mercado libre   1,027,484\n",
       "pcfactory       1,276,990\n",
       "Name: precio_oferta, dtype: float64"
      ]
     },
     "execution_count": 16,
     "metadata": {},
     "output_type": "execute_result"
    }
   ],
   "source": [
    "# 1. Análisis de Ofertas por Tienda: precio promedio de oferta por tienda\n",
    "promedio_ofertas_tienda = productos.groupby('tienda')['precio_oferta'].mean().sort_values(ascending=True)\n",
    "promedio_ofertas_tienda"
   ]
  },
  {
   "cell_type": "markdown",
   "metadata": {},
   "source": [
    "no encontre manera bonita de hacer esto, ver como se pone en el informe, preo compara los precios por modelos en las tiendas, este es de precio oferta, si sale nan es porque esa tienda no tiene el modelo"
   ]
  },
  {
   "cell_type": "code",
   "execution_count": 17,
   "metadata": {},
   "outputs": [
    {
     "data": {
      "text/html": [
       "<div>\n",
       "<style scoped>\n",
       "    .dataframe tbody tr th:only-of-type {\n",
       "        vertical-align: middle;\n",
       "    }\n",
       "\n",
       "    .dataframe tbody tr th {\n",
       "        vertical-align: top;\n",
       "    }\n",
       "\n",
       "    .dataframe thead th {\n",
       "        text-align: right;\n",
       "    }\n",
       "</style>\n",
       "<table border=\"1\" class=\"dataframe\">\n",
       "  <thead>\n",
       "    <tr style=\"text-align: right;\">\n",
       "      <th>tienda</th>\n",
       "      <th>claro</th>\n",
       "      <th>falabella</th>\n",
       "      <th>hites</th>\n",
       "      <th>la polar</th>\n",
       "      <th>lider</th>\n",
       "      <th>mercado libre</th>\n",
       "      <th>movistar</th>\n",
       "      <th>paris</th>\n",
       "      <th>pcfactory</th>\n",
       "      <th>ripley</th>\n",
       "      <th>wom</th>\n",
       "      <th>Tienda_Mejor_Precio</th>\n",
       "    </tr>\n",
       "    <tr>\n",
       "      <th>modelo</th>\n",
       "      <th></th>\n",
       "      <th></th>\n",
       "      <th></th>\n",
       "      <th></th>\n",
       "      <th></th>\n",
       "      <th></th>\n",
       "      <th></th>\n",
       "      <th></th>\n",
       "      <th></th>\n",
       "      <th></th>\n",
       "      <th></th>\n",
       "      <th></th>\n",
       "    </tr>\n",
       "  </thead>\n",
       "  <tbody>\n",
       "    <tr>\n",
       "      <th>iphone 11 128gb</th>\n",
       "      <td>NaN</td>\n",
       "      <td>429,990</td>\n",
       "      <td>NaN</td>\n",
       "      <td>NaN</td>\n",
       "      <td>NaN</td>\n",
       "      <td>NaN</td>\n",
       "      <td>454,990</td>\n",
       "      <td>NaN</td>\n",
       "      <td>NaN</td>\n",
       "      <td>NaN</td>\n",
       "      <td>NaN</td>\n",
       "      <td>falabella</td>\n",
       "    </tr>\n",
       "    <tr>\n",
       "      <th>iphone 11 64gb</th>\n",
       "      <td>329,900</td>\n",
       "      <td>NaN</td>\n",
       "      <td>399,990</td>\n",
       "      <td>379,990</td>\n",
       "      <td>349,990</td>\n",
       "      <td>359,990</td>\n",
       "      <td>394,990</td>\n",
       "      <td>379,990</td>\n",
       "      <td>NaN</td>\n",
       "      <td>379,990</td>\n",
       "      <td>NaN</td>\n",
       "      <td>claro</td>\n",
       "    </tr>\n",
       "    <tr>\n",
       "      <th>iphone 12 128gb</th>\n",
       "      <td>NaN</td>\n",
       "      <td>479,990</td>\n",
       "      <td>529,990</td>\n",
       "      <td>NaN</td>\n",
       "      <td>NaN</td>\n",
       "      <td>625,990</td>\n",
       "      <td>499,990</td>\n",
       "      <td>479,990</td>\n",
       "      <td>NaN</td>\n",
       "      <td>NaN</td>\n",
       "      <td>480,000</td>\n",
       "      <td>falabella</td>\n",
       "    </tr>\n",
       "    <tr>\n",
       "      <th>iphone 12 64gb</th>\n",
       "      <td>NaN</td>\n",
       "      <td>NaN</td>\n",
       "      <td>NaN</td>\n",
       "      <td>NaN</td>\n",
       "      <td>NaN</td>\n",
       "      <td>NaN</td>\n",
       "      <td>564,990</td>\n",
       "      <td>NaN</td>\n",
       "      <td>NaN</td>\n",
       "      <td>NaN</td>\n",
       "      <td>NaN</td>\n",
       "      <td>movistar</td>\n",
       "    </tr>\n",
       "    <tr>\n",
       "      <th>iphone 13 128gb</th>\n",
       "      <td>623,760</td>\n",
       "      <td>589,990</td>\n",
       "      <td>679,990</td>\n",
       "      <td>NaN</td>\n",
       "      <td>589,990</td>\n",
       "      <td>NaN</td>\n",
       "      <td>629,990</td>\n",
       "      <td>599,990</td>\n",
       "      <td>NaN</td>\n",
       "      <td>619,990</td>\n",
       "      <td>660,000</td>\n",
       "      <td>falabella</td>\n",
       "    </tr>\n",
       "    <tr>\n",
       "      <th>iphone 13 256gb</th>\n",
       "      <td>NaN</td>\n",
       "      <td>NaN</td>\n",
       "      <td>729,990</td>\n",
       "      <td>699,990</td>\n",
       "      <td>689,990</td>\n",
       "      <td>NaN</td>\n",
       "      <td>NaN</td>\n",
       "      <td>NaN</td>\n",
       "      <td>NaN</td>\n",
       "      <td>749,990</td>\n",
       "      <td>NaN</td>\n",
       "      <td>lider</td>\n",
       "    </tr>\n",
       "    <tr>\n",
       "      <th>iphone 13 512gb</th>\n",
       "      <td>NaN</td>\n",
       "      <td>NaN</td>\n",
       "      <td>NaN</td>\n",
       "      <td>NaN</td>\n",
       "      <td>NaN</td>\n",
       "      <td>869,990</td>\n",
       "      <td>999,990</td>\n",
       "      <td>NaN</td>\n",
       "      <td>NaN</td>\n",
       "      <td>NaN</td>\n",
       "      <td>NaN</td>\n",
       "      <td>mercado libre</td>\n",
       "    </tr>\n",
       "    <tr>\n",
       "      <th>iphone 13 pro 1tb</th>\n",
       "      <td>NaN</td>\n",
       "      <td>NaN</td>\n",
       "      <td>NaN</td>\n",
       "      <td>NaN</td>\n",
       "      <td>NaN</td>\n",
       "      <td>NaN</td>\n",
       "      <td>1,649,990</td>\n",
       "      <td>NaN</td>\n",
       "      <td>NaN</td>\n",
       "      <td>NaN</td>\n",
       "      <td>NaN</td>\n",
       "      <td>movistar</td>\n",
       "    </tr>\n",
       "    <tr>\n",
       "      <th>iphone 14 128gb</th>\n",
       "      <td>829,900</td>\n",
       "      <td>719,990</td>\n",
       "      <td>724,990</td>\n",
       "      <td>719,990</td>\n",
       "      <td>699,990</td>\n",
       "      <td>NaN</td>\n",
       "      <td>NaN</td>\n",
       "      <td>699,990</td>\n",
       "      <td>NaN</td>\n",
       "      <td>699,990</td>\n",
       "      <td>720,000</td>\n",
       "      <td>lider</td>\n",
       "    </tr>\n",
       "    <tr>\n",
       "      <th>iphone 14 256gb</th>\n",
       "      <td>NaN</td>\n",
       "      <td>719,990</td>\n",
       "      <td>NaN</td>\n",
       "      <td>NaN</td>\n",
       "      <td>NaN</td>\n",
       "      <td>819,490</td>\n",
       "      <td>NaN</td>\n",
       "      <td>NaN</td>\n",
       "      <td>NaN</td>\n",
       "      <td>NaN</td>\n",
       "      <td>NaN</td>\n",
       "      <td>falabella</td>\n",
       "    </tr>\n",
       "    <tr>\n",
       "      <th>iphone 14 512gb</th>\n",
       "      <td>NaN</td>\n",
       "      <td>NaN</td>\n",
       "      <td>NaN</td>\n",
       "      <td>NaN</td>\n",
       "      <td>NaN</td>\n",
       "      <td>NaN</td>\n",
       "      <td>1,039,990</td>\n",
       "      <td>NaN</td>\n",
       "      <td>NaN</td>\n",
       "      <td>NaN</td>\n",
       "      <td>NaN</td>\n",
       "      <td>movistar</td>\n",
       "    </tr>\n",
       "    <tr>\n",
       "      <th>iphone 14 plus 128gb</th>\n",
       "      <td>949,900</td>\n",
       "      <td>NaN</td>\n",
       "      <td>NaN</td>\n",
       "      <td>NaN</td>\n",
       "      <td>NaN</td>\n",
       "      <td>NaN</td>\n",
       "      <td>NaN</td>\n",
       "      <td>NaN</td>\n",
       "      <td>NaN</td>\n",
       "      <td>NaN</td>\n",
       "      <td>NaN</td>\n",
       "      <td>claro</td>\n",
       "    </tr>\n",
       "    <tr>\n",
       "      <th>iphone 14 plus 256gb</th>\n",
       "      <td>NaN</td>\n",
       "      <td>NaN</td>\n",
       "      <td>899,990</td>\n",
       "      <td>NaN</td>\n",
       "      <td>889,990</td>\n",
       "      <td>NaN</td>\n",
       "      <td>NaN</td>\n",
       "      <td>NaN</td>\n",
       "      <td>NaN</td>\n",
       "      <td>NaN</td>\n",
       "      <td>NaN</td>\n",
       "      <td>lider</td>\n",
       "    </tr>\n",
       "    <tr>\n",
       "      <th>iphone 14 plus 512gb</th>\n",
       "      <td>NaN</td>\n",
       "      <td>NaN</td>\n",
       "      <td>NaN</td>\n",
       "      <td>NaN</td>\n",
       "      <td>NaN</td>\n",
       "      <td>NaN</td>\n",
       "      <td>1,399,990</td>\n",
       "      <td>NaN</td>\n",
       "      <td>NaN</td>\n",
       "      <td>NaN</td>\n",
       "      <td>NaN</td>\n",
       "      <td>movistar</td>\n",
       "    </tr>\n",
       "    <tr>\n",
       "      <th>iphone 14 pro 128gb</th>\n",
       "      <td>1,179,900</td>\n",
       "      <td>NaN</td>\n",
       "      <td>NaN</td>\n",
       "      <td>NaN</td>\n",
       "      <td>NaN</td>\n",
       "      <td>NaN</td>\n",
       "      <td>NaN</td>\n",
       "      <td>NaN</td>\n",
       "      <td>NaN</td>\n",
       "      <td>NaN</td>\n",
       "      <td>NaN</td>\n",
       "      <td>claro</td>\n",
       "    </tr>\n",
       "    <tr>\n",
       "      <th>iphone 14 pro max 128gb</th>\n",
       "      <td>1,299,900</td>\n",
       "      <td>NaN</td>\n",
       "      <td>NaN</td>\n",
       "      <td>NaN</td>\n",
       "      <td>NaN</td>\n",
       "      <td>NaN</td>\n",
       "      <td>NaN</td>\n",
       "      <td>NaN</td>\n",
       "      <td>NaN</td>\n",
       "      <td>NaN</td>\n",
       "      <td>NaN</td>\n",
       "      <td>claro</td>\n",
       "    </tr>\n",
       "    <tr>\n",
       "      <th>iphone 15 128gb</th>\n",
       "      <td>NaN</td>\n",
       "      <td>819,990</td>\n",
       "      <td>829,990</td>\n",
       "      <td>849,990</td>\n",
       "      <td>NaN</td>\n",
       "      <td>879,990</td>\n",
       "      <td>879,990</td>\n",
       "      <td>819,990</td>\n",
       "      <td>950,590</td>\n",
       "      <td>819,990</td>\n",
       "      <td>880,800</td>\n",
       "      <td>falabella</td>\n",
       "    </tr>\n",
       "    <tr>\n",
       "      <th>iphone 15 256gb</th>\n",
       "      <td>NaN</td>\n",
       "      <td>719,990</td>\n",
       "      <td>979,990</td>\n",
       "      <td>949,990</td>\n",
       "      <td>NaN</td>\n",
       "      <td>NaN</td>\n",
       "      <td>NaN</td>\n",
       "      <td>NaN</td>\n",
       "      <td>NaN</td>\n",
       "      <td>NaN</td>\n",
       "      <td>NaN</td>\n",
       "      <td>falabella</td>\n",
       "    </tr>\n",
       "    <tr>\n",
       "      <th>iphone 15 512 gb</th>\n",
       "      <td>NaN</td>\n",
       "      <td>NaN</td>\n",
       "      <td>1,199,990</td>\n",
       "      <td>NaN</td>\n",
       "      <td>NaN</td>\n",
       "      <td>NaN</td>\n",
       "      <td>NaN</td>\n",
       "      <td>NaN</td>\n",
       "      <td>NaN</td>\n",
       "      <td>NaN</td>\n",
       "      <td>NaN</td>\n",
       "      <td>hites</td>\n",
       "    </tr>\n",
       "    <tr>\n",
       "      <th>iphone 15 512gb</th>\n",
       "      <td>NaN</td>\n",
       "      <td>479,990</td>\n",
       "      <td>NaN</td>\n",
       "      <td>999,990</td>\n",
       "      <td>NaN</td>\n",
       "      <td>NaN</td>\n",
       "      <td>NaN</td>\n",
       "      <td>NaN</td>\n",
       "      <td>NaN</td>\n",
       "      <td>NaN</td>\n",
       "      <td>NaN</td>\n",
       "      <td>falabella</td>\n",
       "    </tr>\n",
       "    <tr>\n",
       "      <th>iphone 15 plus 128gb</th>\n",
       "      <td>NaN</td>\n",
       "      <td>NaN</td>\n",
       "      <td>NaN</td>\n",
       "      <td>NaN</td>\n",
       "      <td>NaN</td>\n",
       "      <td>1,009,990</td>\n",
       "      <td>999,990</td>\n",
       "      <td>939,990</td>\n",
       "      <td>NaN</td>\n",
       "      <td>999,990</td>\n",
       "      <td>NaN</td>\n",
       "      <td>paris</td>\n",
       "    </tr>\n",
       "    <tr>\n",
       "      <th>iphone 15 plus 256gb</th>\n",
       "      <td>NaN</td>\n",
       "      <td>NaN</td>\n",
       "      <td>NaN</td>\n",
       "      <td>1,099,990</td>\n",
       "      <td>NaN</td>\n",
       "      <td>NaN</td>\n",
       "      <td>NaN</td>\n",
       "      <td>NaN</td>\n",
       "      <td>NaN</td>\n",
       "      <td>NaN</td>\n",
       "      <td>NaN</td>\n",
       "      <td>la polar</td>\n",
       "    </tr>\n",
       "    <tr>\n",
       "      <th>iphone 15 plus 512gb</th>\n",
       "      <td>NaN</td>\n",
       "      <td>NaN</td>\n",
       "      <td>NaN</td>\n",
       "      <td>NaN</td>\n",
       "      <td>NaN</td>\n",
       "      <td>1,269,108</td>\n",
       "      <td>NaN</td>\n",
       "      <td>NaN</td>\n",
       "      <td>NaN</td>\n",
       "      <td>NaN</td>\n",
       "      <td>NaN</td>\n",
       "      <td>mercado libre</td>\n",
       "    </tr>\n",
       "    <tr>\n",
       "      <th>iphone 15 pro 128gb</th>\n",
       "      <td>NaN</td>\n",
       "      <td>1,079,990</td>\n",
       "      <td>NaN</td>\n",
       "      <td>NaN</td>\n",
       "      <td>NaN</td>\n",
       "      <td>NaN</td>\n",
       "      <td>1,119,990</td>\n",
       "      <td>1,049,990</td>\n",
       "      <td>NaN</td>\n",
       "      <td>1,049,990</td>\n",
       "      <td>1,120,800</td>\n",
       "      <td>paris</td>\n",
       "    </tr>\n",
       "    <tr>\n",
       "      <th>iphone 15 pro 256gb</th>\n",
       "      <td>NaN</td>\n",
       "      <td>819,990</td>\n",
       "      <td>1,249,990</td>\n",
       "      <td>1,199,990</td>\n",
       "      <td>NaN</td>\n",
       "      <td>NaN</td>\n",
       "      <td>NaN</td>\n",
       "      <td>1,199,990</td>\n",
       "      <td>NaN</td>\n",
       "      <td>NaN</td>\n",
       "      <td>NaN</td>\n",
       "      <td>falabella</td>\n",
       "    </tr>\n",
       "    <tr>\n",
       "      <th>iphone 15 pro 512gb</th>\n",
       "      <td>NaN</td>\n",
       "      <td>NaN</td>\n",
       "      <td>NaN</td>\n",
       "      <td>1,349,990</td>\n",
       "      <td>1,359,990</td>\n",
       "      <td>1,418,990</td>\n",
       "      <td>NaN</td>\n",
       "      <td>NaN</td>\n",
       "      <td>NaN</td>\n",
       "      <td>1,499,990</td>\n",
       "      <td>NaN</td>\n",
       "      <td>la polar</td>\n",
       "    </tr>\n",
       "    <tr>\n",
       "      <th>iphone 15 pro max 256gb</th>\n",
       "      <td>NaN</td>\n",
       "      <td>NaN</td>\n",
       "      <td>1,399,990</td>\n",
       "      <td>1,299,990</td>\n",
       "      <td>NaN</td>\n",
       "      <td>NaN</td>\n",
       "      <td>1,369,990</td>\n",
       "      <td>1,289,990</td>\n",
       "      <td>1,440,190</td>\n",
       "      <td>1,299,990</td>\n",
       "      <td>1,348,800</td>\n",
       "      <td>paris</td>\n",
       "    </tr>\n",
       "    <tr>\n",
       "      <th>iphone 15 pro max 512gb</th>\n",
       "      <td>NaN</td>\n",
       "      <td>1,079,990</td>\n",
       "      <td>NaN</td>\n",
       "      <td>NaN</td>\n",
       "      <td>NaN</td>\n",
       "      <td>1,502,585</td>\n",
       "      <td>NaN</td>\n",
       "      <td>1,499,990</td>\n",
       "      <td>NaN</td>\n",
       "      <td>1,549,990</td>\n",
       "      <td>NaN</td>\n",
       "      <td>falabella</td>\n",
       "    </tr>\n",
       "  </tbody>\n",
       "</table>\n",
       "</div>"
      ],
      "text/plain": [
       "tienda                      claro  falabella     hites  la polar     lider  \\\n",
       "modelo                                                                       \n",
       "iphone 11 128gb               NaN    429,990       NaN       NaN       NaN   \n",
       "iphone 11 64gb            329,900        NaN   399,990   379,990   349,990   \n",
       "iphone 12 128gb               NaN    479,990   529,990       NaN       NaN   \n",
       "iphone 12 64gb                NaN        NaN       NaN       NaN       NaN   \n",
       "iphone 13 128gb           623,760    589,990   679,990       NaN   589,990   \n",
       "iphone 13 256gb               NaN        NaN   729,990   699,990   689,990   \n",
       "iphone 13 512gb               NaN        NaN       NaN       NaN       NaN   \n",
       "iphone 13 pro 1tb             NaN        NaN       NaN       NaN       NaN   \n",
       "iphone 14 128gb           829,900    719,990   724,990   719,990   699,990   \n",
       "iphone 14 256gb               NaN    719,990       NaN       NaN       NaN   \n",
       "iphone 14 512gb               NaN        NaN       NaN       NaN       NaN   \n",
       "iphone 14 plus 128gb      949,900        NaN       NaN       NaN       NaN   \n",
       "iphone 14 plus 256gb          NaN        NaN   899,990       NaN   889,990   \n",
       "iphone 14 plus 512gb          NaN        NaN       NaN       NaN       NaN   \n",
       "iphone 14 pro 128gb     1,179,900        NaN       NaN       NaN       NaN   \n",
       "iphone 14 pro max 128gb 1,299,900        NaN       NaN       NaN       NaN   \n",
       "iphone 15 128gb               NaN    819,990   829,990   849,990       NaN   \n",
       "iphone 15 256gb               NaN    719,990   979,990   949,990       NaN   \n",
       "iphone 15 512 gb              NaN        NaN 1,199,990       NaN       NaN   \n",
       "iphone 15 512gb               NaN    479,990       NaN   999,990       NaN   \n",
       "iphone 15 plus 128gb          NaN        NaN       NaN       NaN       NaN   \n",
       "iphone 15 plus 256gb          NaN        NaN       NaN 1,099,990       NaN   \n",
       "iphone 15 plus 512gb          NaN        NaN       NaN       NaN       NaN   \n",
       "iphone 15 pro 128gb           NaN  1,079,990       NaN       NaN       NaN   \n",
       "iphone 15 pro 256gb           NaN    819,990 1,249,990 1,199,990       NaN   \n",
       "iphone 15 pro 512gb           NaN        NaN       NaN 1,349,990 1,359,990   \n",
       "iphone 15 pro max 256gb       NaN        NaN 1,399,990 1,299,990       NaN   \n",
       "iphone 15 pro max 512gb       NaN  1,079,990       NaN       NaN       NaN   \n",
       "\n",
       "tienda                   mercado libre  movistar     paris  pcfactory  \\\n",
       "modelo                                                                  \n",
       "iphone 11 128gb                    NaN   454,990       NaN        NaN   \n",
       "iphone 11 64gb                 359,990   394,990   379,990        NaN   \n",
       "iphone 12 128gb                625,990   499,990   479,990        NaN   \n",
       "iphone 12 64gb                     NaN   564,990       NaN        NaN   \n",
       "iphone 13 128gb                    NaN   629,990   599,990        NaN   \n",
       "iphone 13 256gb                    NaN       NaN       NaN        NaN   \n",
       "iphone 13 512gb                869,990   999,990       NaN        NaN   \n",
       "iphone 13 pro 1tb                  NaN 1,649,990       NaN        NaN   \n",
       "iphone 14 128gb                    NaN       NaN   699,990        NaN   \n",
       "iphone 14 256gb                819,490       NaN       NaN        NaN   \n",
       "iphone 14 512gb                    NaN 1,039,990       NaN        NaN   \n",
       "iphone 14 plus 128gb               NaN       NaN       NaN        NaN   \n",
       "iphone 14 plus 256gb               NaN       NaN       NaN        NaN   \n",
       "iphone 14 plus 512gb               NaN 1,399,990       NaN        NaN   \n",
       "iphone 14 pro 128gb                NaN       NaN       NaN        NaN   \n",
       "iphone 14 pro max 128gb            NaN       NaN       NaN        NaN   \n",
       "iphone 15 128gb                879,990   879,990   819,990    950,590   \n",
       "iphone 15 256gb                    NaN       NaN       NaN        NaN   \n",
       "iphone 15 512 gb                   NaN       NaN       NaN        NaN   \n",
       "iphone 15 512gb                    NaN       NaN       NaN        NaN   \n",
       "iphone 15 plus 128gb         1,009,990   999,990   939,990        NaN   \n",
       "iphone 15 plus 256gb               NaN       NaN       NaN        NaN   \n",
       "iphone 15 plus 512gb         1,269,108       NaN       NaN        NaN   \n",
       "iphone 15 pro 128gb                NaN 1,119,990 1,049,990        NaN   \n",
       "iphone 15 pro 256gb                NaN       NaN 1,199,990        NaN   \n",
       "iphone 15 pro 512gb          1,418,990       NaN       NaN        NaN   \n",
       "iphone 15 pro max 256gb            NaN 1,369,990 1,289,990  1,440,190   \n",
       "iphone 15 pro max 512gb      1,502,585       NaN 1,499,990        NaN   \n",
       "\n",
       "tienda                     ripley       wom Tienda_Mejor_Precio  \n",
       "modelo                                                           \n",
       "iphone 11 128gb               NaN       NaN           falabella  \n",
       "iphone 11 64gb            379,990       NaN               claro  \n",
       "iphone 12 128gb               NaN   480,000           falabella  \n",
       "iphone 12 64gb                NaN       NaN            movistar  \n",
       "iphone 13 128gb           619,990   660,000           falabella  \n",
       "iphone 13 256gb           749,990       NaN               lider  \n",
       "iphone 13 512gb               NaN       NaN       mercado libre  \n",
       "iphone 13 pro 1tb             NaN       NaN            movistar  \n",
       "iphone 14 128gb           699,990   720,000               lider  \n",
       "iphone 14 256gb               NaN       NaN           falabella  \n",
       "iphone 14 512gb               NaN       NaN            movistar  \n",
       "iphone 14 plus 128gb          NaN       NaN               claro  \n",
       "iphone 14 plus 256gb          NaN       NaN               lider  \n",
       "iphone 14 plus 512gb          NaN       NaN            movistar  \n",
       "iphone 14 pro 128gb           NaN       NaN               claro  \n",
       "iphone 14 pro max 128gb       NaN       NaN               claro  \n",
       "iphone 15 128gb           819,990   880,800           falabella  \n",
       "iphone 15 256gb               NaN       NaN           falabella  \n",
       "iphone 15 512 gb              NaN       NaN               hites  \n",
       "iphone 15 512gb               NaN       NaN           falabella  \n",
       "iphone 15 plus 128gb      999,990       NaN               paris  \n",
       "iphone 15 plus 256gb          NaN       NaN            la polar  \n",
       "iphone 15 plus 512gb          NaN       NaN       mercado libre  \n",
       "iphone 15 pro 128gb     1,049,990 1,120,800               paris  \n",
       "iphone 15 pro 256gb           NaN       NaN           falabella  \n",
       "iphone 15 pro 512gb     1,499,990       NaN            la polar  \n",
       "iphone 15 pro max 256gb 1,299,990 1,348,800               paris  \n",
       "iphone 15 pro max 512gb 1,549,990       NaN           falabella  "
      ]
     },
     "execution_count": 17,
     "metadata": {},
     "output_type": "execute_result"
    }
   ],
   "source": [
    "# 2. Comparación de Precios de Oferta por Modelo en Diferentes Tiendas\n",
    "precios_modelo_tienda = productos.pivot_table(index='modelo', columns='tienda', values='precio_oferta')\n",
    "\n",
    "precios_modelo_tienda['Tienda_Mejor_Precio'] = precios_modelo_tienda.idxmin(axis=1)\n",
    "\n",
    "precios_modelo_tienda"
   ]
  },
  {
   "cell_type": "markdown",
   "metadata": {},
   "source": [
    "falabella tiende a tener las mejores ofertas pero esto igual varia en los modelos, ejemplo en el iphone 14 128gb, esta mas barato en el lider que en falabella"
   ]
  },
  {
   "cell_type": "code",
   "execution_count": 18,
   "metadata": {},
   "outputs": [
    {
     "data": {
      "text/plain": [
       "Tienda_Mejor_Precio\n",
       "falabella        9\n",
       "claro            4\n",
       "movistar         4\n",
       "lider            3\n",
       "paris            3\n",
       "mercado libre    2\n",
       "la polar         2\n",
       "hites            1\n",
       "Name: count, dtype: int64"
      ]
     },
     "execution_count": 18,
     "metadata": {},
     "output_type": "execute_result"
    }
   ],
   "source": [
    "precios_modelo_tienda['Tienda_Mejor_Precio'].value_counts()"
   ]
  },
  {
   "cell_type": "markdown",
   "metadata": {},
   "source": [
    "este no es precio oferta, es el real "
   ]
  },
  {
   "cell_type": "code",
   "execution_count": 19,
   "metadata": {},
   "outputs": [
    {
     "data": {
      "text/html": [
       "<div>\n",
       "<style scoped>\n",
       "    .dataframe tbody tr th:only-of-type {\n",
       "        vertical-align: middle;\n",
       "    }\n",
       "\n",
       "    .dataframe tbody tr th {\n",
       "        vertical-align: top;\n",
       "    }\n",
       "\n",
       "    .dataframe thead th {\n",
       "        text-align: right;\n",
       "    }\n",
       "</style>\n",
       "<table border=\"1\" class=\"dataframe\">\n",
       "  <thead>\n",
       "    <tr style=\"text-align: right;\">\n",
       "      <th>tienda</th>\n",
       "      <th>claro</th>\n",
       "      <th>falabella</th>\n",
       "      <th>hites</th>\n",
       "      <th>la polar</th>\n",
       "      <th>lider</th>\n",
       "      <th>mercado libre</th>\n",
       "      <th>movistar</th>\n",
       "      <th>paris</th>\n",
       "      <th>pcfactory</th>\n",
       "      <th>ripley</th>\n",
       "      <th>wom</th>\n",
       "      <th>Tienda_Mejor_Precio</th>\n",
       "    </tr>\n",
       "    <tr>\n",
       "      <th>modelo</th>\n",
       "      <th></th>\n",
       "      <th></th>\n",
       "      <th></th>\n",
       "      <th></th>\n",
       "      <th></th>\n",
       "      <th></th>\n",
       "      <th></th>\n",
       "      <th></th>\n",
       "      <th></th>\n",
       "      <th></th>\n",
       "      <th></th>\n",
       "      <th></th>\n",
       "    </tr>\n",
       "  </thead>\n",
       "  <tbody>\n",
       "    <tr>\n",
       "      <th>iphone 11 128gb</th>\n",
       "      <td>NaN</td>\n",
       "      <td>729,990</td>\n",
       "      <td>NaN</td>\n",
       "      <td>NaN</td>\n",
       "      <td>NaN</td>\n",
       "      <td>NaN</td>\n",
       "      <td>729,990</td>\n",
       "      <td>NaN</td>\n",
       "      <td>NaN</td>\n",
       "      <td>NaN</td>\n",
       "      <td>NaN</td>\n",
       "      <td>falabella</td>\n",
       "    </tr>\n",
       "    <tr>\n",
       "      <th>iphone 11 64gb</th>\n",
       "      <td>769,990</td>\n",
       "      <td>NaN</td>\n",
       "      <td>699,990</td>\n",
       "      <td>499,990</td>\n",
       "      <td>469,990</td>\n",
       "      <td>669,990</td>\n",
       "      <td>549,990</td>\n",
       "      <td>399,990</td>\n",
       "      <td>NaN</td>\n",
       "      <td>399,990</td>\n",
       "      <td>NaN</td>\n",
       "      <td>paris</td>\n",
       "    </tr>\n",
       "    <tr>\n",
       "      <th>iphone 12 128gb</th>\n",
       "      <td>NaN</td>\n",
       "      <td>499,990</td>\n",
       "      <td>799,990</td>\n",
       "      <td>NaN</td>\n",
       "      <td>NaN</td>\n",
       "      <td>949,990</td>\n",
       "      <td>749,990</td>\n",
       "      <td>499,990</td>\n",
       "      <td>NaN</td>\n",
       "      <td>NaN</td>\n",
       "      <td>799,990</td>\n",
       "      <td>falabella</td>\n",
       "    </tr>\n",
       "    <tr>\n",
       "      <th>iphone 12 64gb</th>\n",
       "      <td>NaN</td>\n",
       "      <td>NaN</td>\n",
       "      <td>NaN</td>\n",
       "      <td>NaN</td>\n",
       "      <td>NaN</td>\n",
       "      <td>NaN</td>\n",
       "      <td>749,990</td>\n",
       "      <td>NaN</td>\n",
       "      <td>NaN</td>\n",
       "      <td>NaN</td>\n",
       "      <td>NaN</td>\n",
       "      <td>movistar</td>\n",
       "    </tr>\n",
       "    <tr>\n",
       "      <th>iphone 13 128gb</th>\n",
       "      <td>889,990</td>\n",
       "      <td>619,990</td>\n",
       "      <td>869,990</td>\n",
       "      <td>NaN</td>\n",
       "      <td>869,990</td>\n",
       "      <td>NaN</td>\n",
       "      <td>879,990</td>\n",
       "      <td>619,990</td>\n",
       "      <td>NaN</td>\n",
       "      <td>649,990</td>\n",
       "      <td>889,990</td>\n",
       "      <td>falabella</td>\n",
       "    </tr>\n",
       "    <tr>\n",
       "      <th>iphone 13 256gb</th>\n",
       "      <td>NaN</td>\n",
       "      <td>NaN</td>\n",
       "      <td>929,990</td>\n",
       "      <td>939,990</td>\n",
       "      <td>899,990</td>\n",
       "      <td>NaN</td>\n",
       "      <td>NaN</td>\n",
       "      <td>NaN</td>\n",
       "      <td>NaN</td>\n",
       "      <td>999,990</td>\n",
       "      <td>NaN</td>\n",
       "      <td>lider</td>\n",
       "    </tr>\n",
       "    <tr>\n",
       "      <th>iphone 13 512gb</th>\n",
       "      <td>NaN</td>\n",
       "      <td>NaN</td>\n",
       "      <td>NaN</td>\n",
       "      <td>NaN</td>\n",
       "      <td>NaN</td>\n",
       "      <td>1,199,990</td>\n",
       "      <td>1,199,990</td>\n",
       "      <td>NaN</td>\n",
       "      <td>NaN</td>\n",
       "      <td>NaN</td>\n",
       "      <td>NaN</td>\n",
       "      <td>mercado libre</td>\n",
       "    </tr>\n",
       "    <tr>\n",
       "      <th>iphone 13 pro 1tb</th>\n",
       "      <td>NaN</td>\n",
       "      <td>NaN</td>\n",
       "      <td>NaN</td>\n",
       "      <td>NaN</td>\n",
       "      <td>NaN</td>\n",
       "      <td>NaN</td>\n",
       "      <td>1,649,990</td>\n",
       "      <td>NaN</td>\n",
       "      <td>NaN</td>\n",
       "      <td>NaN</td>\n",
       "      <td>NaN</td>\n",
       "      <td>movistar</td>\n",
       "    </tr>\n",
       "    <tr>\n",
       "      <th>iphone 14 128gb</th>\n",
       "      <td>1,029,990</td>\n",
       "      <td>739,990</td>\n",
       "      <td>949,990</td>\n",
       "      <td>949,990</td>\n",
       "      <td>899,990</td>\n",
       "      <td>NaN</td>\n",
       "      <td>NaN</td>\n",
       "      <td>729,990</td>\n",
       "      <td>NaN</td>\n",
       "      <td>739,990</td>\n",
       "      <td>949,990</td>\n",
       "      <td>paris</td>\n",
       "    </tr>\n",
       "    <tr>\n",
       "      <th>iphone 14 256gb</th>\n",
       "      <td>NaN</td>\n",
       "      <td>929,990</td>\n",
       "      <td>NaN</td>\n",
       "      <td>NaN</td>\n",
       "      <td>NaN</td>\n",
       "      <td>1,099,990</td>\n",
       "      <td>NaN</td>\n",
       "      <td>NaN</td>\n",
       "      <td>NaN</td>\n",
       "      <td>NaN</td>\n",
       "      <td>NaN</td>\n",
       "      <td>falabella</td>\n",
       "    </tr>\n",
       "    <tr>\n",
       "      <th>iphone 14 512gb</th>\n",
       "      <td>NaN</td>\n",
       "      <td>NaN</td>\n",
       "      <td>NaN</td>\n",
       "      <td>NaN</td>\n",
       "      <td>NaN</td>\n",
       "      <td>NaN</td>\n",
       "      <td>1,369,990</td>\n",
       "      <td>NaN</td>\n",
       "      <td>NaN</td>\n",
       "      <td>NaN</td>\n",
       "      <td>NaN</td>\n",
       "      <td>movistar</td>\n",
       "    </tr>\n",
       "    <tr>\n",
       "      <th>iphone 14 plus 128gb</th>\n",
       "      <td>1,159,990</td>\n",
       "      <td>NaN</td>\n",
       "      <td>NaN</td>\n",
       "      <td>NaN</td>\n",
       "      <td>NaN</td>\n",
       "      <td>NaN</td>\n",
       "      <td>NaN</td>\n",
       "      <td>NaN</td>\n",
       "      <td>NaN</td>\n",
       "      <td>NaN</td>\n",
       "      <td>NaN</td>\n",
       "      <td>claro</td>\n",
       "    </tr>\n",
       "    <tr>\n",
       "      <th>iphone 14 plus 256gb</th>\n",
       "      <td>NaN</td>\n",
       "      <td>NaN</td>\n",
       "      <td>1,249,990</td>\n",
       "      <td>NaN</td>\n",
       "      <td>1,229,990</td>\n",
       "      <td>NaN</td>\n",
       "      <td>NaN</td>\n",
       "      <td>NaN</td>\n",
       "      <td>NaN</td>\n",
       "      <td>NaN</td>\n",
       "      <td>NaN</td>\n",
       "      <td>lider</td>\n",
       "    </tr>\n",
       "    <tr>\n",
       "      <th>iphone 14 plus 512gb</th>\n",
       "      <td>NaN</td>\n",
       "      <td>NaN</td>\n",
       "      <td>NaN</td>\n",
       "      <td>NaN</td>\n",
       "      <td>NaN</td>\n",
       "      <td>NaN</td>\n",
       "      <td>1,499,990</td>\n",
       "      <td>NaN</td>\n",
       "      <td>NaN</td>\n",
       "      <td>NaN</td>\n",
       "      <td>NaN</td>\n",
       "      <td>movistar</td>\n",
       "    </tr>\n",
       "    <tr>\n",
       "      <th>iphone 14 pro 128gb</th>\n",
       "      <td>1,299,990</td>\n",
       "      <td>NaN</td>\n",
       "      <td>NaN</td>\n",
       "      <td>NaN</td>\n",
       "      <td>NaN</td>\n",
       "      <td>NaN</td>\n",
       "      <td>NaN</td>\n",
       "      <td>NaN</td>\n",
       "      <td>NaN</td>\n",
       "      <td>NaN</td>\n",
       "      <td>NaN</td>\n",
       "      <td>claro</td>\n",
       "    </tr>\n",
       "    <tr>\n",
       "      <th>iphone 14 pro max 128gb</th>\n",
       "      <td>1,439,990</td>\n",
       "      <td>NaN</td>\n",
       "      <td>NaN</td>\n",
       "      <td>NaN</td>\n",
       "      <td>NaN</td>\n",
       "      <td>NaN</td>\n",
       "      <td>NaN</td>\n",
       "      <td>NaN</td>\n",
       "      <td>NaN</td>\n",
       "      <td>NaN</td>\n",
       "      <td>NaN</td>\n",
       "      <td>claro</td>\n",
       "    </tr>\n",
       "    <tr>\n",
       "      <th>iphone 15 128gb</th>\n",
       "      <td>NaN</td>\n",
       "      <td>849,990</td>\n",
       "      <td>1,099,990</td>\n",
       "      <td>1,099,990</td>\n",
       "      <td>NaN</td>\n",
       "      <td>999,990</td>\n",
       "      <td>979,990</td>\n",
       "      <td>849,990</td>\n",
       "      <td>979,990</td>\n",
       "      <td>849,990</td>\n",
       "      <td>999,990</td>\n",
       "      <td>falabella</td>\n",
       "    </tr>\n",
       "    <tr>\n",
       "      <th>iphone 15 256gb</th>\n",
       "      <td>NaN</td>\n",
       "      <td>799,990</td>\n",
       "      <td>1,199,990</td>\n",
       "      <td>1,249,990</td>\n",
       "      <td>NaN</td>\n",
       "      <td>NaN</td>\n",
       "      <td>NaN</td>\n",
       "      <td>NaN</td>\n",
       "      <td>NaN</td>\n",
       "      <td>NaN</td>\n",
       "      <td>NaN</td>\n",
       "      <td>falabella</td>\n",
       "    </tr>\n",
       "    <tr>\n",
       "      <th>iphone 15 512 gb</th>\n",
       "      <td>NaN</td>\n",
       "      <td>NaN</td>\n",
       "      <td>1,349,990</td>\n",
       "      <td>NaN</td>\n",
       "      <td>NaN</td>\n",
       "      <td>NaN</td>\n",
       "      <td>NaN</td>\n",
       "      <td>NaN</td>\n",
       "      <td>NaN</td>\n",
       "      <td>NaN</td>\n",
       "      <td>NaN</td>\n",
       "      <td>hites</td>\n",
       "    </tr>\n",
       "    <tr>\n",
       "      <th>iphone 15 512gb</th>\n",
       "      <td>NaN</td>\n",
       "      <td>999,990</td>\n",
       "      <td>NaN</td>\n",
       "      <td>1,799,990</td>\n",
       "      <td>NaN</td>\n",
       "      <td>NaN</td>\n",
       "      <td>NaN</td>\n",
       "      <td>NaN</td>\n",
       "      <td>NaN</td>\n",
       "      <td>NaN</td>\n",
       "      <td>NaN</td>\n",
       "      <td>falabella</td>\n",
       "    </tr>\n",
       "    <tr>\n",
       "      <th>iphone 15 plus 128gb</th>\n",
       "      <td>NaN</td>\n",
       "      <td>NaN</td>\n",
       "      <td>NaN</td>\n",
       "      <td>NaN</td>\n",
       "      <td>NaN</td>\n",
       "      <td>1,199,990</td>\n",
       "      <td>1,099,990</td>\n",
       "      <td>999,990</td>\n",
       "      <td>NaN</td>\n",
       "      <td>1,099,990</td>\n",
       "      <td>NaN</td>\n",
       "      <td>paris</td>\n",
       "    </tr>\n",
       "    <tr>\n",
       "      <th>iphone 15 plus 256gb</th>\n",
       "      <td>NaN</td>\n",
       "      <td>NaN</td>\n",
       "      <td>NaN</td>\n",
       "      <td>1,399,990</td>\n",
       "      <td>NaN</td>\n",
       "      <td>NaN</td>\n",
       "      <td>NaN</td>\n",
       "      <td>NaN</td>\n",
       "      <td>NaN</td>\n",
       "      <td>NaN</td>\n",
       "      <td>NaN</td>\n",
       "      <td>la polar</td>\n",
       "    </tr>\n",
       "    <tr>\n",
       "      <th>iphone 15 plus 512gb</th>\n",
       "      <td>NaN</td>\n",
       "      <td>NaN</td>\n",
       "      <td>NaN</td>\n",
       "      <td>NaN</td>\n",
       "      <td>NaN</td>\n",
       "      <td>1,523,090</td>\n",
       "      <td>NaN</td>\n",
       "      <td>NaN</td>\n",
       "      <td>NaN</td>\n",
       "      <td>NaN</td>\n",
       "      <td>NaN</td>\n",
       "      <td>mercado libre</td>\n",
       "    </tr>\n",
       "    <tr>\n",
       "      <th>iphone 15 pro 128gb</th>\n",
       "      <td>NaN</td>\n",
       "      <td>1,129,990</td>\n",
       "      <td>NaN</td>\n",
       "      <td>NaN</td>\n",
       "      <td>NaN</td>\n",
       "      <td>NaN</td>\n",
       "      <td>1,229,990</td>\n",
       "      <td>1,149,990</td>\n",
       "      <td>NaN</td>\n",
       "      <td>1,079,990</td>\n",
       "      <td>1,249,990</td>\n",
       "      <td>ripley</td>\n",
       "    </tr>\n",
       "    <tr>\n",
       "      <th>iphone 15 pro 256gb</th>\n",
       "      <td>NaN</td>\n",
       "      <td>1,199,990</td>\n",
       "      <td>1,499,990</td>\n",
       "      <td>1,599,990</td>\n",
       "      <td>NaN</td>\n",
       "      <td>NaN</td>\n",
       "      <td>NaN</td>\n",
       "      <td>1,199,990</td>\n",
       "      <td>NaN</td>\n",
       "      <td>NaN</td>\n",
       "      <td>NaN</td>\n",
       "      <td>falabella</td>\n",
       "    </tr>\n",
       "    <tr>\n",
       "      <th>iphone 15 pro 512gb</th>\n",
       "      <td>NaN</td>\n",
       "      <td>NaN</td>\n",
       "      <td>NaN</td>\n",
       "      <td>1,899,990</td>\n",
       "      <td>1,729,990</td>\n",
       "      <td>1,579,990</td>\n",
       "      <td>NaN</td>\n",
       "      <td>NaN</td>\n",
       "      <td>NaN</td>\n",
       "      <td>1,599,990</td>\n",
       "      <td>NaN</td>\n",
       "      <td>mercado libre</td>\n",
       "    </tr>\n",
       "    <tr>\n",
       "      <th>iphone 15 pro max 256gb</th>\n",
       "      <td>NaN</td>\n",
       "      <td>NaN</td>\n",
       "      <td>1,599,990</td>\n",
       "      <td>1,699,990</td>\n",
       "      <td>NaN</td>\n",
       "      <td>NaN</td>\n",
       "      <td>1,469,990</td>\n",
       "      <td>1,379,990</td>\n",
       "      <td>1,484,740</td>\n",
       "      <td>1,349,990</td>\n",
       "      <td>1,499,990</td>\n",
       "      <td>ripley</td>\n",
       "    </tr>\n",
       "    <tr>\n",
       "      <th>iphone 15 pro max 512gb</th>\n",
       "      <td>NaN</td>\n",
       "      <td>1,499,990</td>\n",
       "      <td>NaN</td>\n",
       "      <td>NaN</td>\n",
       "      <td>NaN</td>\n",
       "      <td>1,699,990</td>\n",
       "      <td>NaN</td>\n",
       "      <td>1,499,990</td>\n",
       "      <td>NaN</td>\n",
       "      <td>1,699,990</td>\n",
       "      <td>NaN</td>\n",
       "      <td>falabella</td>\n",
       "    </tr>\n",
       "  </tbody>\n",
       "</table>\n",
       "</div>"
      ],
      "text/plain": [
       "tienda                      claro  falabella     hites  la polar     lider  \\\n",
       "modelo                                                                       \n",
       "iphone 11 128gb               NaN    729,990       NaN       NaN       NaN   \n",
       "iphone 11 64gb            769,990        NaN   699,990   499,990   469,990   \n",
       "iphone 12 128gb               NaN    499,990   799,990       NaN       NaN   \n",
       "iphone 12 64gb                NaN        NaN       NaN       NaN       NaN   \n",
       "iphone 13 128gb           889,990    619,990   869,990       NaN   869,990   \n",
       "iphone 13 256gb               NaN        NaN   929,990   939,990   899,990   \n",
       "iphone 13 512gb               NaN        NaN       NaN       NaN       NaN   \n",
       "iphone 13 pro 1tb             NaN        NaN       NaN       NaN       NaN   \n",
       "iphone 14 128gb         1,029,990    739,990   949,990   949,990   899,990   \n",
       "iphone 14 256gb               NaN    929,990       NaN       NaN       NaN   \n",
       "iphone 14 512gb               NaN        NaN       NaN       NaN       NaN   \n",
       "iphone 14 plus 128gb    1,159,990        NaN       NaN       NaN       NaN   \n",
       "iphone 14 plus 256gb          NaN        NaN 1,249,990       NaN 1,229,990   \n",
       "iphone 14 plus 512gb          NaN        NaN       NaN       NaN       NaN   \n",
       "iphone 14 pro 128gb     1,299,990        NaN       NaN       NaN       NaN   \n",
       "iphone 14 pro max 128gb 1,439,990        NaN       NaN       NaN       NaN   \n",
       "iphone 15 128gb               NaN    849,990 1,099,990 1,099,990       NaN   \n",
       "iphone 15 256gb               NaN    799,990 1,199,990 1,249,990       NaN   \n",
       "iphone 15 512 gb              NaN        NaN 1,349,990       NaN       NaN   \n",
       "iphone 15 512gb               NaN    999,990       NaN 1,799,990       NaN   \n",
       "iphone 15 plus 128gb          NaN        NaN       NaN       NaN       NaN   \n",
       "iphone 15 plus 256gb          NaN        NaN       NaN 1,399,990       NaN   \n",
       "iphone 15 plus 512gb          NaN        NaN       NaN       NaN       NaN   \n",
       "iphone 15 pro 128gb           NaN  1,129,990       NaN       NaN       NaN   \n",
       "iphone 15 pro 256gb           NaN  1,199,990 1,499,990 1,599,990       NaN   \n",
       "iphone 15 pro 512gb           NaN        NaN       NaN 1,899,990 1,729,990   \n",
       "iphone 15 pro max 256gb       NaN        NaN 1,599,990 1,699,990       NaN   \n",
       "iphone 15 pro max 512gb       NaN  1,499,990       NaN       NaN       NaN   \n",
       "\n",
       "tienda                   mercado libre  movistar     paris  pcfactory  \\\n",
       "modelo                                                                  \n",
       "iphone 11 128gb                    NaN   729,990       NaN        NaN   \n",
       "iphone 11 64gb                 669,990   549,990   399,990        NaN   \n",
       "iphone 12 128gb                949,990   749,990   499,990        NaN   \n",
       "iphone 12 64gb                     NaN   749,990       NaN        NaN   \n",
       "iphone 13 128gb                    NaN   879,990   619,990        NaN   \n",
       "iphone 13 256gb                    NaN       NaN       NaN        NaN   \n",
       "iphone 13 512gb              1,199,990 1,199,990       NaN        NaN   \n",
       "iphone 13 pro 1tb                  NaN 1,649,990       NaN        NaN   \n",
       "iphone 14 128gb                    NaN       NaN   729,990        NaN   \n",
       "iphone 14 256gb              1,099,990       NaN       NaN        NaN   \n",
       "iphone 14 512gb                    NaN 1,369,990       NaN        NaN   \n",
       "iphone 14 plus 128gb               NaN       NaN       NaN        NaN   \n",
       "iphone 14 plus 256gb               NaN       NaN       NaN        NaN   \n",
       "iphone 14 plus 512gb               NaN 1,499,990       NaN        NaN   \n",
       "iphone 14 pro 128gb                NaN       NaN       NaN        NaN   \n",
       "iphone 14 pro max 128gb            NaN       NaN       NaN        NaN   \n",
       "iphone 15 128gb                999,990   979,990   849,990    979,990   \n",
       "iphone 15 256gb                    NaN       NaN       NaN        NaN   \n",
       "iphone 15 512 gb                   NaN       NaN       NaN        NaN   \n",
       "iphone 15 512gb                    NaN       NaN       NaN        NaN   \n",
       "iphone 15 plus 128gb         1,199,990 1,099,990   999,990        NaN   \n",
       "iphone 15 plus 256gb               NaN       NaN       NaN        NaN   \n",
       "iphone 15 plus 512gb         1,523,090       NaN       NaN        NaN   \n",
       "iphone 15 pro 128gb                NaN 1,229,990 1,149,990        NaN   \n",
       "iphone 15 pro 256gb                NaN       NaN 1,199,990        NaN   \n",
       "iphone 15 pro 512gb          1,579,990       NaN       NaN        NaN   \n",
       "iphone 15 pro max 256gb            NaN 1,469,990 1,379,990  1,484,740   \n",
       "iphone 15 pro max 512gb      1,699,990       NaN 1,499,990        NaN   \n",
       "\n",
       "tienda                     ripley       wom Tienda_Mejor_Precio  \n",
       "modelo                                                           \n",
       "iphone 11 128gb               NaN       NaN           falabella  \n",
       "iphone 11 64gb            399,990       NaN               paris  \n",
       "iphone 12 128gb               NaN   799,990           falabella  \n",
       "iphone 12 64gb                NaN       NaN            movistar  \n",
       "iphone 13 128gb           649,990   889,990           falabella  \n",
       "iphone 13 256gb           999,990       NaN               lider  \n",
       "iphone 13 512gb               NaN       NaN       mercado libre  \n",
       "iphone 13 pro 1tb             NaN       NaN            movistar  \n",
       "iphone 14 128gb           739,990   949,990               paris  \n",
       "iphone 14 256gb               NaN       NaN           falabella  \n",
       "iphone 14 512gb               NaN       NaN            movistar  \n",
       "iphone 14 plus 128gb          NaN       NaN               claro  \n",
       "iphone 14 plus 256gb          NaN       NaN               lider  \n",
       "iphone 14 plus 512gb          NaN       NaN            movistar  \n",
       "iphone 14 pro 128gb           NaN       NaN               claro  \n",
       "iphone 14 pro max 128gb       NaN       NaN               claro  \n",
       "iphone 15 128gb           849,990   999,990           falabella  \n",
       "iphone 15 256gb               NaN       NaN           falabella  \n",
       "iphone 15 512 gb              NaN       NaN               hites  \n",
       "iphone 15 512gb               NaN       NaN           falabella  \n",
       "iphone 15 plus 128gb    1,099,990       NaN               paris  \n",
       "iphone 15 plus 256gb          NaN       NaN            la polar  \n",
       "iphone 15 plus 512gb          NaN       NaN       mercado libre  \n",
       "iphone 15 pro 128gb     1,079,990 1,249,990              ripley  \n",
       "iphone 15 pro 256gb           NaN       NaN           falabella  \n",
       "iphone 15 pro 512gb     1,599,990       NaN       mercado libre  \n",
       "iphone 15 pro max 256gb 1,349,990 1,499,990              ripley  \n",
       "iphone 15 pro max 512gb 1,699,990       NaN           falabella  "
      ]
     },
     "execution_count": 19,
     "metadata": {},
     "output_type": "execute_result"
    }
   ],
   "source": [
    "precios_real_modelo_tienda = productos.pivot_table(index='modelo', columns='tienda', values='precio_normal')\n",
    "\n",
    "precios_real_modelo_tienda['Tienda_Mejor_Precio'] = precios_real_modelo_tienda.idxmin(axis=1)\n",
    "\n",
    "precios_real_modelo_tienda"
   ]
  },
  {
   "cell_type": "markdown",
   "metadata": {},
   "source": [
    "aun en precio real falabella sigue siendo el mas barato esto igual depende de los modelos"
   ]
  },
  {
   "cell_type": "code",
   "execution_count": 20,
   "metadata": {},
   "outputs": [
    {
     "data": {
      "text/plain": [
       "Tienda_Mejor_Precio\n",
       "falabella        9\n",
       "movistar         4\n",
       "paris            3\n",
       "mercado libre    3\n",
       "claro            3\n",
       "lider            2\n",
       "ripley           2\n",
       "hites            1\n",
       "la polar         1\n",
       "Name: count, dtype: int64"
      ]
     },
     "execution_count": 20,
     "metadata": {},
     "output_type": "execute_result"
    }
   ],
   "source": [
    "precios_real_modelo_tienda['Tienda_Mejor_Precio'].value_counts()"
   ]
  },
  {
   "cell_type": "markdown",
   "metadata": {},
   "source": [
    "movistar tiene disponible mas modelos que las otras tiendas "
   ]
  },
  {
   "cell_type": "code",
   "execution_count": 21,
   "metadata": {},
   "outputs": [
    {
     "data": {
      "text/plain": [
       "tienda\n",
       "movistar         13\n",
       "falabella        11\n",
       "hites            11\n",
       "la polar         10\n",
       "paris            10\n",
       "ripley           10\n",
       "mercado libre     9\n",
       "claro             6\n",
       "lider             6\n",
       "wom               6\n",
       "pcfactory         2\n",
       "Name: modelo, dtype: int64"
      ]
     },
     "execution_count": 21,
     "metadata": {},
     "output_type": "execute_result"
    }
   ],
   "source": [
    "# 3. Tienda con Mayor Variedad de Modelos\n",
    "variedad_modelos_tienda = productos.groupby('tienda')['modelo'].nunique().sort_values(ascending=False)\n",
    "variedad_modelos_tienda"
   ]
  },
  {
   "cell_type": "markdown",
   "metadata": {},
   "source": [
    "aca se comparan las ofertas con los precios reales, ej pcfactory tiene un precio promedio en ofertas mas elevados en comparacion de otras tienedas, es decir su valor de oferta con el precio real  no baja tanto en comparacion a los otros, por otro lado falabellaa tiene ofertas mas bajas a comparacion con sus precios reales, es decir que sus precios en oferta son mas economicos"
   ]
  },
  {
   "cell_type": "code",
   "execution_count": 40,
   "metadata": {},
   "outputs": [
    {
     "data": {
      "image/png": "[encoded data removed]",
      "text/plain": [
       "<Figure size 1000x600 with 1 Axes>"
      ]
     },
     "metadata": {},
     "output_type": "display_data"
    }
   ],
   "source": [
    "# 4. Tendencias en Precios\n",
    "# Analizar tendencias de precios por modelo y tienda\n",
    "tendencias_precios = productos.groupby(['modelo', 'tienda']).agg({\n",
    "    'precio_normal': ['mean', 'std'],\n",
    "    'precio_oferta': ['mean', 'std']\n",
    "}).reset_index()\n",
    "\n",
    "# Visualización de Resultados\n",
    "plt.figure(figsize=(10, 6))\n",
    "promedio_ofertas_tienda.plot(kind='barh', color='#ab8a8a')\n",
    "plt.title('Precio Promedio de Oferta por Tienda')\n",
    "plt.xlabel('Precio Promedio de Oferta')\n",
    "plt.ylabel('Tienda')\n",
    "plt.show()\n",
    "\n"
   ]
  },
  {
   "cell_type": "code",
   "execution_count": 23,
   "metadata": {},
   "outputs": [
    {
     "data": {
      "application/vnd.plotly.v1+json": {
       "config": {
        "plotlyServerURL": "https://plot.ly"
       },
       "data": [
        {
         "customdata": [
          [
           "iphone 11 128gb",
           "falabella",
           "falabella"
          ],
          [
           "iphone 11 64gb",
           "claro",
           "paris"
          ],
          [
           "iphone 12 128gb",
           "falabella",
           "falabella"
          ],
          [
           "iphone 12 64gb",
           "movistar",
           "movistar"
          ],
          [
           "iphone 13 128gb",
           "falabella",
           "falabella"
          ],
          [
           "iphone 13 256gb",
           "lider",
           "lider"
          ],
          [
           "iphone 13 512gb",
           "mercado libre",
           "mercado libre"
          ],
          [
           "iphone 13 pro 1tb",
           "movistar",
           "movistar"
          ],
          [
           "iphone 14 128gb",
           "lider",
           "paris"
          ],
          [
           "iphone 14 256gb",
           "falabella",
           "falabella"
          ],
          [
           "iphone 14 512gb",
           "movistar",
           "movistar"
          ],
          [
           "iphone 14 plus 128gb",
           "claro",
           "claro"
          ],
          [
           "iphone 14 plus 256gb",
           "lider",
           "lider"
          ],
          [
           "iphone 14 plus 512gb",
           "movistar",
           "movistar"
          ],
          [
           "iphone 14 pro 128gb",
           "claro",
           "claro"
          ],
          [
           "iphone 14 pro max 128gb",
           "claro",
           "claro"
          ],
          [
           "iphone 15 128gb",
           "falabella",
           "falabella"
          ],
          [
           "iphone 15 256gb",
           "falabella",
           "falabella"
          ],
          [
           "iphone 15 512 gb",
           "hites",
           "hites"
          ],
          [
           "iphone 15 512gb",
           "falabella",
           "falabella"
          ],
          [
           "iphone 15 plus 128gb",
           "paris",
           "paris"
          ],
          [
           "iphone 15 plus 256gb",
           "la polar",
           "la polar"
          ],
          [
           "iphone 15 plus 512gb",
           "mercado libre",
           "mercado libre"
          ],
          [
           "iphone 15 pro 128gb",
           "paris",
           "ripley"
          ],
          [
           "iphone 15 pro 256gb",
           "falabella",
           "falabella"
          ],
          [
           "iphone 15 pro 512gb",
           "la polar",
           "mercado libre"
          ],
          [
           "iphone 15 pro max 256gb",
           "paris",
           "ripley"
          ],
          [
           "iphone 15 pro max 512gb",
           "falabella",
           "falabella"
          ]
         ],
         "hovertemplate": "Precio de Oferta Más Bajo=%{x}<br>Precio Normal Más Bajo=%{y}<br>modelo=%{customdata[0]}<br>Tienda_Mejor_Oferta=%{customdata[1]}<br>Tienda_Mejor_Precio_Normal=%{customdata[2]}<extra></extra>",
         "legendgroup": "",
         "marker": {
          "color": "#636efa",
          "symbol": "circle"
         },
         "mode": "markers",
         "name": "",
         "orientation": "v",
         "showlegend": false,
         "type": "scatter",
         "x": [
          429990,
          329900,
          479990,
          564990,
          589990,
          689990,
          869990,
          1649990,
          699990,
          719990,
          1039990,
          949900,
          889990,
          1399990,
          1179900,
          1299900,
          819990,
          719990,
          1199990,
          479990,
          939990,
          1099990,
          1269108,
          1049990,
          819990,
          1349990,
          1289990,
          1079990
         ],
         "xaxis": "x",
         "y": [
          729990,
          399990,
          499990,
          749990,
          619990,
          899990,
          1199990,
          1649990,
          729990,
          929990,
          1369990,
          1159990,
          1229990,
          1499990,
          1299990,
          1439990,
          849990,
          799990,
          1349990,
          999990,
          999990,
          1399990,
          1523090,
          1079990,
          1199990,
          1579990,
          1349990,
          1499990
         ],
         "yaxis": "y"
        }
       ],
       "layout": {
        "legend": {
         "tracegroupgap": 0
        },
        "template": {
         "data": {
          "bar": [
           {
            "error_x": {
             "color": "#2a3f5f"
            },
            "error_y": {
             "color": "#2a3f5f"
            },
            "marker": {
             "line": {
              "color": "#E5ECF6",
              "width": 0.5
             },
             "pattern": {
              "fillmode": "overlay",
              "size": 10,
              "solidity": 0.2
             }
            },
            "type": "bar"
           }
          ],
          "barpolar": [
           {
            "marker": {
             "line": {
              "color": "#E5ECF6",
              "width": 0.5
             },
             "pattern": {
              "fillmode": "overlay",
              "size": 10,
              "solidity": 0.2
             }
            },
            "type": "barpolar"
           }
          ],
          "carpet": [
           {
            "aaxis": {
             "endlinecolor": "#2a3f5f",
             "gridcolor": "white",
             "linecolor": "white",
             "minorgridcolor": "white",
             "startlinecolor": "#2a3f5f"
            },
            "baxis": {
             "endlinecolor": "#2a3f5f",
             "gridcolor": "white",
             "linecolor": "white",
             "minorgridcolor": "white",
             "startlinecolor": "#2a3f5f"
            },
            "type": "carpet"
           }
          ],
          "choropleth": [
           {
            "colorbar": {
             "outlinewidth": 0,
             "ticks": ""
            },
            "type": "choropleth"
           }
          ],
          "contour": [
           {
            "colorbar": {
             "outlinewidth": 0,
             "ticks": ""
            },
            "colorscale": [
             [
              0,
              "#0d0887"
             ],
             [
              0.1111111111111111,
              "#46039f"
             ],
             [
              0.2222222222222222,
              "#7201a8"
             ],
             [
              0.3333333333333333,
              "#9c179e"
             ],
             [
              0.4444444444444444,
              "#bd3786"
             ],
             [
              0.5555555555555556,
              "#d8576b"
             ],
             [
              0.6666666666666666,
              "#ed7953"
             ],
             [
              0.7777777777777778,
              "#fb9f3a"
             ],
             [
              0.8888888888888888,
              "#fdca26"
             ],
             [
              1,
              "#f0f921"
             ]
            ],
            "type": "contour"
           }
          ],
          "contourcarpet": [
           {
            "colorbar": {
             "outlinewidth": 0,
             "ticks": ""
            },
            "type": "contourcarpet"
           }
          ],
          "heatmap": [
           {
            "colorbar": {
             "outlinewidth": 0,
             "ticks": ""
            },
            "colorscale": [
             [
              0,
              "#0d0887"
             ],
             [
              0.1111111111111111,
              "#46039f"
             ],
             [
              0.2222222222222222,
              "#7201a8"
             ],
             [
              0.3333333333333333,
              "#9c179e"
             ],
             [
              0.4444444444444444,
              "#bd3786"
             ],
             [
              0.5555555555555556,
              "#d8576b"
             ],
             [
              0.6666666666666666,
              "#ed7953"
             ],
             [
              0.7777777777777778,
              "#fb9f3a"
             ],
             [
              0.8888888888888888,
              "#fdca26"
             ],
             [
              1,
              "#f0f921"
             ]
            ],
            "type": "heatmap"
           }
          ],
          "heatmapgl": [
           {
            "colorbar": {
             "outlinewidth": 0,
             "ticks": ""
            },
            "colorscale": [
             [
              0,
              "#0d0887"
             ],
             [
              0.1111111111111111,
              "#46039f"
             ],
             [
              0.2222222222222222,
              "#7201a8"
             ],
             [
              0.3333333333333333,
              "#9c179e"
             ],
             [
              0.4444444444444444,
              "#bd3786"
             ],
             [
              0.5555555555555556,
              "#d8576b"
             ],
             [
              0.6666666666666666,
              "#ed7953"
             ],
             [
              0.7777777777777778,
              "#fb9f3a"
             ],
             [
              0.8888888888888888,
              "#fdca26"
             ],
             [
              1,
              "#f0f921"
             ]
            ],
            "type": "heatmapgl"
           }
          ],
          "histogram": [
           {
            "marker": {
             "pattern": {
              "fillmode": "overlay",
              "size": 10,
              "solidity": 0.2
             }
            },
            "type": "histogram"
           }
          ],
          "histogram2d": [
           {
            "colorbar": {
             "outlinewidth": 0,
             "ticks": ""
            },
            "colorscale": [
             [
              0,
              "#0d0887"
             ],
             [
              0.1111111111111111,
              "#46039f"
             ],
             [
              0.2222222222222222,
              "#7201a8"
             ],
             [
              0.3333333333333333,
              "#9c179e"
             ],
             [
              0.4444444444444444,
              "#bd3786"
             ],
             [
              0.5555555555555556,
              "#d8576b"
             ],
             [
              0.6666666666666666,
              "#ed7953"
             ],
             [
              0.7777777777777778,
              "#fb9f3a"
             ],
             [
              0.8888888888888888,
              "#fdca26"
             ],
             [
              1,
              "#f0f921"
             ]
            ],
            "type": "histogram2d"
           }
          ],
          "histogram2dcontour": [
           {
            "colorbar": {
             "outlinewidth": 0,
             "ticks": ""
            },
            "colorscale": [
             [
              0,
              "#0d0887"
             ],
             [
              0.1111111111111111,
              "#46039f"
             ],
             [
              0.2222222222222222,
              "#7201a8"
             ],
             [
              0.3333333333333333,
              "#9c179e"
             ],
             [
              0.4444444444444444,
              "#bd3786"
             ],
             [
              0.5555555555555556,
              "#d8576b"
             ],
             [
              0.6666666666666666,
              "#ed7953"
             ],
             [
              0.7777777777777778,
              "#fb9f3a"
             ],
             [
              0.8888888888888888,
              "#fdca26"
             ],
             [
              1,
              "#f0f921"
             ]
            ],
            "type": "histogram2dcontour"
           }
          ],
          "mesh3d": [
           {
            "colorbar": {
             "outlinewidth": 0,
             "ticks": ""
            },
            "type": "mesh3d"
           }
          ],
          "parcoords": [
           {
            "line": {
             "colorbar": {
              "outlinewidth": 0,
              "ticks": ""
             }
            },
            "type": "parcoords"
           }
          ],
          "pie": [
           {
            "automargin": true,
            "type": "pie"
           }
          ],
          "scatter": [
           {
            "fillpattern": {
             "fillmode": "overlay",
             "size": 10,
             "solidity": 0.2
            },
            "type": "scatter"
           }
          ],
          "scatter3d": [
           {
            "line": {
             "colorbar": {
              "outlinewidth": 0,
              "ticks": ""
             }
            },
            "marker": {
             "colorbar": {
              "outlinewidth": 0,
              "ticks": ""
             }
            },
            "type": "scatter3d"
           }
          ],
          "scattercarpet": [
           {
            "marker": {
             "colorbar": {
              "outlinewidth": 0,
              "ticks": ""
             }
            },
            "type": "scattercarpet"
           }
          ],
          "scattergeo": [
           {
            "marker": {
             "colorbar": {
              "outlinewidth": 0,
              "ticks": ""
             }
            },
            "type": "scattergeo"
           }
          ],
          "scattergl": [
           {
            "marker": {
             "colorbar": {
              "outlinewidth": 0,
              "ticks": ""
             }
            },
            "type": "scattergl"
           }
          ],
          "scattermapbox": [
           {
            "marker": {
             "colorbar": {
              "outlinewidth": 0,
              "ticks": ""
             }
            },
            "type": "scattermapbox"
           }
          ],
          "scatterpolar": [
           {
            "marker": {
             "colorbar": {
              "outlinewidth": 0,
              "ticks": ""
             }
            },
            "type": "scatterpolar"
           }
          ],
          "scatterpolargl": [
           {
            "marker": {
             "colorbar": {
              "outlinewidth": 0,
              "ticks": ""
             }
            },
            "type": "scatterpolargl"
           }
          ],
          "scatterternary": [
           {
            "marker": {
             "colorbar": {
              "outlinewidth": 0,
              "ticks": ""
             }
            },
            "type": "scatterternary"
           }
          ],
          "surface": [
           {
            "colorbar": {
             "outlinewidth": 0,
             "ticks": ""
            },
            "colorscale": [
             [
              0,
              "#0d0887"
             ],
             [
              0.1111111111111111,
              "#46039f"
             ],
             [
              0.2222222222222222,
              "#7201a8"
             ],
             [
              0.3333333333333333,
              "#9c179e"
             ],
             [
              0.4444444444444444,
              "#bd3786"
             ],
             [
              0.5555555555555556,
              "#d8576b"
             ],
             [
              0.6666666666666666,
              "#ed7953"
             ],
             [
              0.7777777777777778,
              "#fb9f3a"
             ],
             [
              0.8888888888888888,
              "#fdca26"
             ],
             [
              1,
              "#f0f921"
             ]
            ],
            "type": "surface"
           }
          ],
          "table": [
           {
            "cells": {
             "fill": {
              "color": "#EBF0F8"
             },
             "line": {
              "color": "white"
             }
            },
            "header": {
             "fill": {
              "color": "#C8D4E3"
             },
             "line": {
              "color": "white"
             }
            },
            "type": "table"
           }
          ]
         },
         "layout": {
          "annotationdefaults": {
           "arrowcolor": "#2a3f5f",
           "arrowhead": 0,
           "arrowwidth": 1
          },
          "autotypenumbers": "strict",
          "coloraxis": {
           "colorbar": {
            "outlinewidth": 0,
            "ticks": ""
           }
          },
          "colorscale": {
           "diverging": [
            [
             0,
             "#8e0152"
            ],
            [
             0.1,
             "#c51b7d"
            ],
            [
             0.2,
             "#de77ae"
            ],
            [
             0.3,
             "#f1b6da"
            ],
            [
             0.4,
             "#fde0ef"
            ],
            [
             0.5,
             "#f7f7f7"
            ],
            [
             0.6,
             "#e6f5d0"
            ],
            [
             0.7,
             "#b8e186"
            ],
            [
             0.8,
             "#7fbc41"
            ],
            [
             0.9,
             "#4d9221"
            ],
            [
             1,
             "#276419"
            ]
           ],
           "sequential": [
            [
             0,
             "#0d0887"
            ],
            [
             0.1111111111111111,
             "#46039f"
            ],
            [
             0.2222222222222222,
             "#7201a8"
            ],
            [
             0.3333333333333333,
             "#9c179e"
            ],
            [
             0.4444444444444444,
             "#bd3786"
            ],
            [
             0.5555555555555556,
             "#d8576b"
            ],
            [
             0.6666666666666666,
             "#ed7953"
            ],
            [
             0.7777777777777778,
             "#fb9f3a"
            ],
            [
             0.8888888888888888,
             "#fdca26"
            ],
            [
             1,
             "#f0f921"
            ]
           ],
           "sequentialminus": [
            [
             0,
             "#0d0887"
            ],
            [
             0.1111111111111111,
             "#46039f"
            ],
            [
             0.2222222222222222,
             "#7201a8"
            ],
            [
             0.3333333333333333,
             "#9c179e"
            ],
            [
             0.4444444444444444,
             "#bd3786"
            ],
            [
             0.5555555555555556,
             "#d8576b"
            ],
            [
             0.6666666666666666,
             "#ed7953"
            ],
            [
             0.7777777777777778,
             "#fb9f3a"
            ],
            [
             0.8888888888888888,
             "#fdca26"
            ],
            [
             1,
             "#f0f921"
            ]
           ]
          },
          "colorway": [
           "#636efa",
           "#EF553B",
           "#00cc96",
           "#ab63fa",
           "#FFA15A",
           "#19d3f3",
           "#FF6692",
           "#B6E880",
           "#FF97FF",
           "#FECB52"
          ],
          "font": {
           "color": "#2a3f5f"
          },
          "geo": {
           "bgcolor": "white",
           "lakecolor": "white",
           "landcolor": "#E5ECF6",
           "showlakes": true,
           "showland": true,
           "subunitcolor": "white"
          },
          "hoverlabel": {
           "align": "left"
          },
          "hovermode": "closest",
          "mapbox": {
           "style": "light"
          },
          "paper_bgcolor": "white",
          "plot_bgcolor": "#E5ECF6",
          "polar": {
           "angularaxis": {
            "gridcolor": "white",
            "linecolor": "white",
            "ticks": ""
           },
           "bgcolor": "#E5ECF6",
           "radialaxis": {
            "gridcolor": "white",
            "linecolor": "white",
            "ticks": ""
           }
          },
          "scene": {
           "xaxis": {
            "backgroundcolor": "#E5ECF6",
            "gridcolor": "white",
            "gridwidth": 2,
            "linecolor": "white",
            "showbackground": true,
            "ticks": "",
            "zerolinecolor": "white"
           },
           "yaxis": {
            "backgroundcolor": "#E5ECF6",
            "gridcolor": "white",
            "gridwidth": 2,
            "linecolor": "white",
            "showbackground": true,
            "ticks": "",
            "zerolinecolor": "white"
           },
           "zaxis": {
            "backgroundcolor": "#E5ECF6",
            "gridcolor": "white",
            "gridwidth": 2,
            "linecolor": "white",
            "showbackground": true,
            "ticks": "",
            "zerolinecolor": "white"
           }
          },
          "shapedefaults": {
           "line": {
            "color": "#2a3f5f"
           }
          },
          "ternary": {
           "aaxis": {
            "gridcolor": "white",
            "linecolor": "white",
            "ticks": ""
           },
           "baxis": {
            "gridcolor": "white",
            "linecolor": "white",
            "ticks": ""
           },
           "bgcolor": "#E5ECF6",
           "caxis": {
            "gridcolor": "white",
            "linecolor": "white",
            "ticks": ""
           }
          },
          "title": {
           "x": 0.05
          },
          "xaxis": {
           "automargin": true,
           "gridcolor": "white",
           "linecolor": "white",
           "ticks": "",
           "title": {
            "standoff": 15
           },
           "zerolinecolor": "white",
           "zerolinewidth": 2
          },
          "yaxis": {
           "automargin": true,
           "gridcolor": "white",
           "linecolor": "white",
           "ticks": "",
           "title": {
            "standoff": 15
           },
           "zerolinecolor": "white",
           "zerolinewidth": 2
          }
         }
        },
        "title": {
         "text": "Comparación de Precios de Oferta y Normal por Modelo"
        },
        "xaxis": {
         "anchor": "y",
         "domain": [
          0,
          1
         ],
         "title": {
          "text": "Precio de Oferta Más Bajo"
         }
        },
        "yaxis": {
         "anchor": "x",
         "domain": [
          0,
          1
         ],
         "title": {
          "text": "Precio Normal Más Bajo"
         }
        }
       }
      }
     },
     "metadata": {},
     "output_type": "display_data"
    }
   ],
   "source": [
    "import pandas as pd\n",
    "import plotly.express as px\n",
    "\n",
    "# Crear un DataFrame para los precios normales, filtrando solo las columnas numéricas\n",
    "precios_normales = productos.pivot_table(index='modelo', columns='tienda', values='precio_normal')\n",
    "precios_normales['Tienda_Mejor_Precio_Normal'] = precios_normales.idxmin(axis=1)\n",
    "precios_normales['Precio_Normal_Más_Bajo'] = precios_normales.select_dtypes(include=['float64', 'int64']).min(axis=1)\n",
    "\n",
    "# Crear un DataFrame para los precios de oferta, filtrando solo las columnas numéricas\n",
    "precios_oferta = productos.pivot_table(index='modelo', columns='tienda', values='precio_oferta')\n",
    "precios_oferta['Tienda_Mejor_Oferta'] = precios_oferta.idxmin(axis=1)\n",
    "precios_oferta['Precio_Oferta_Más_Bajo'] = precios_oferta.select_dtypes(include=['float64', 'int64']).min(axis=1)\n",
    "\n",
    "# Combinar los dos DataFrames\n",
    "resultados = pd.concat([precios_oferta[['Tienda_Mejor_Oferta', 'Precio_Oferta_Más_Bajo']], precios_normales[['Tienda_Mejor_Precio_Normal', 'Precio_Normal_Más_Bajo']]], axis=1)\n",
    "\n",
    "# Crear el gráfico interactivo\n",
    "fig = px.scatter(resultados.reset_index(), x='Precio_Oferta_Más_Bajo', y='Precio_Normal_Más_Bajo',\n",
    "                 hover_data=['modelo', 'Tienda_Mejor_Oferta', 'Tienda_Mejor_Precio_Normal'],\n",
    "                 labels={\n",
    "                     \"Precio_Oferta_Más_Bajo\": \"Precio de Oferta Más Bajo\",\n",
    "                     \"Precio_Normal_Más_Bajo\": \"Precio Normal Más Bajo\"\n",
    "                 },\n",
    "                 title=\"Comparación de Precios de Oferta y Normal por Modelo\")\n",
    "\n",
    "# Mostrar el gráfico\n",
    "fig.show()\n"
   ]
  },
  {
   "cell_type": "code",
   "execution_count": 42,
   "metadata": {},
   "outputs": [
    {
     "data": {
      "application/vnd.plotly.v1+json": {
       "config": {
        "plotlyServerURL": "https://plot.ly"
       },
       "data": [
        {
         "marker": {
          "color": "#ab8a8a"
         },
         "name": "Precio de Oferta",
         "type": "bar",
         "x": [
          "falabella"
         ],
         "y": [
          429990
         ]
        },
        {
         "marker": {
          "color": "#dcb6a8"
         },
         "name": "Precio Normal",
         "type": "bar",
         "x": [
          "falabella"
         ],
         "y": [
          729990
         ]
        }
       ],
       "layout": {
        "barmode": "group",
        "template": {
         "data": {
          "bar": [
           {
            "error_x": {
             "color": "#2a3f5f"
            },
            "error_y": {
             "color": "#2a3f5f"
            },
            "marker": {
             "line": {
              "color": "#E5ECF6",
              "width": 0.5
             },
             "pattern": {
              "fillmode": "overlay",
              "size": 10,
              "solidity": 0.2
             }
            },
            "type": "bar"
           }
          ],
          "barpolar": [
           {
            "marker": {
             "line": {
              "color": "#E5ECF6",
              "width": 0.5
             },
             "pattern": {
              "fillmode": "overlay",
              "size": 10,
              "solidity": 0.2
             }
            },
            "type": "barpolar"
           }
          ],
          "carpet": [
           {
            "aaxis": {
             "endlinecolor": "#2a3f5f",
             "gridcolor": "white",
             "linecolor": "white",
             "minorgridcolor": "white",
             "startlinecolor": "#2a3f5f"
            },
            "baxis": {
             "endlinecolor": "#2a3f5f",
             "gridcolor": "white",
             "linecolor": "white",
             "minorgridcolor": "white",
             "startlinecolor": "#2a3f5f"
            },
            "type": "carpet"
           }
          ],
          "choropleth": [
           {
            "colorbar": {
             "outlinewidth": 0,
             "ticks": ""
            },
            "type": "choropleth"
           }
          ],
          "contour": [
           {
            "colorbar": {
             "outlinewidth": 0,
             "ticks": ""
            },
            "colorscale": [
             [
              0,
              "#0d0887"
             ],
             [
              0.1111111111111111,
              "#46039f"
             ],
             [
              0.2222222222222222,
              "#7201a8"
             ],
             [
              0.3333333333333333,
              "#9c179e"
             ],
             [
              0.4444444444444444,
              "#bd3786"
             ],
             [
              0.5555555555555556,
              "#d8576b"
             ],
             [
              0.6666666666666666,
              "#ed7953"
             ],
             [
              0.7777777777777778,
              "#fb9f3a"
             ],
             [
              0.8888888888888888,
              "#fdca26"
             ],
             [
              1,
              "#f0f921"
             ]
            ],
            "type": "contour"
           }
          ],
          "contourcarpet": [
           {
            "colorbar": {
             "outlinewidth": 0,
             "ticks": ""
            },
            "type": "contourcarpet"
           }
          ],
          "heatmap": [
           {
            "colorbar": {
             "outlinewidth": 0,
             "ticks": ""
            },
            "colorscale": [
             [
              0,
              "#0d0887"
             ],
             [
              0.1111111111111111,
              "#46039f"
             ],
             [
              0.2222222222222222,
              "#7201a8"
             ],
             [
              0.3333333333333333,
              "#9c179e"
             ],
             [
              0.4444444444444444,
              "#bd3786"
             ],
             [
              0.5555555555555556,
              "#d8576b"
             ],
             [
              0.6666666666666666,
              "#ed7953"
             ],
             [
              0.7777777777777778,
              "#fb9f3a"
             ],
             [
              0.8888888888888888,
              "#fdca26"
             ],
             [
              1,
              "#f0f921"
             ]
            ],
            "type": "heatmap"
           }
          ],
          "heatmapgl": [
           {
            "colorbar": {
             "outlinewidth": 0,
             "ticks": ""
            },
            "colorscale": [
             [
              0,
              "#0d0887"
             ],
             [
              0.1111111111111111,
              "#46039f"
             ],
             [
              0.2222222222222222,
              "#7201a8"
             ],
             [
              0.3333333333333333,
              "#9c179e"
             ],
             [
              0.4444444444444444,
              "#bd3786"
             ],
             [
              0.5555555555555556,
              "#d8576b"
             ],
             [
              0.6666666666666666,
              "#ed7953"
             ],
             [
              0.7777777777777778,
              "#fb9f3a"
             ],
             [
              0.8888888888888888,
              "#fdca26"
             ],
             [
              1,
              "#f0f921"
             ]
            ],
            "type": "heatmapgl"
           }
          ],
          "histogram": [
           {
            "marker": {
             "pattern": {
              "fillmode": "overlay",
              "size": 10,
              "solidity": 0.2
             }
            },
            "type": "histogram"
           }
          ],
          "histogram2d": [
           {
            "colorbar": {
             "outlinewidth": 0,
             "ticks": ""
            },
            "colorscale": [
             [
              0,
              "#0d0887"
             ],
             [
              0.1111111111111111,
              "#46039f"
             ],
             [
              0.2222222222222222,
              "#7201a8"
             ],
             [
              0.3333333333333333,
              "#9c179e"
             ],
             [
              0.4444444444444444,
              "#bd3786"
             ],
             [
              0.5555555555555556,
              "#d8576b"
             ],
             [
              0.6666666666666666,
              "#ed7953"
             ],
             [
              0.7777777777777778,
              "#fb9f3a"
             ],
             [
              0.8888888888888888,
              "#fdca26"
             ],
             [
              1,
              "#f0f921"
             ]
            ],
            "type": "histogram2d"
           }
          ],
          "histogram2dcontour": [
           {
            "colorbar": {
             "outlinewidth": 0,
             "ticks": ""
            },
            "colorscale": [
             [
              0,
              "#0d0887"
             ],
             [
              0.1111111111111111,
              "#46039f"
             ],
             [
              0.2222222222222222,
              "#7201a8"
             ],
             [
              0.3333333333333333,
              "#9c179e"
             ],
             [
              0.4444444444444444,
              "#bd3786"
             ],
             [
              0.5555555555555556,
              "#d8576b"
             ],
             [
              0.6666666666666666,
              "#ed7953"
             ],
             [
              0.7777777777777778,
              "#fb9f3a"
             ],
             [
              0.8888888888888888,
              "#fdca26"
             ],
             [
              1,
              "#f0f921"
             ]
            ],
            "type": "histogram2dcontour"
           }
          ],
          "mesh3d": [
           {
            "colorbar": {
             "outlinewidth": 0,
             "ticks": ""
            },
            "type": "mesh3d"
           }
          ],
          "parcoords": [
           {
            "line": {
             "colorbar": {
              "outlinewidth": 0,
              "ticks": ""
             }
            },
            "type": "parcoords"
           }
          ],
          "pie": [
           {
            "automargin": true,
            "type": "pie"
           }
          ],
          "scatter": [
           {
            "fillpattern": {
             "fillmode": "overlay",
             "size": 10,
             "solidity": 0.2
            },
            "type": "scatter"
           }
          ],
          "scatter3d": [
           {
            "line": {
             "colorbar": {
              "outlinewidth": 0,
              "ticks": ""
             }
            },
            "marker": {
             "colorbar": {
              "outlinewidth": 0,
              "ticks": ""
             }
            },
            "type": "scatter3d"
           }
          ],
          "scattercarpet": [
           {
            "marker": {
             "colorbar": {
              "outlinewidth": 0,
              "ticks": ""
             }
            },
            "type": "scattercarpet"
           }
          ],
          "scattergeo": [
           {
            "marker": {
             "colorbar": {
              "outlinewidth": 0,
              "ticks": ""
             }
            },
            "type": "scattergeo"
           }
          ],
          "scattergl": [
           {
            "marker": {
             "colorbar": {
              "outlinewidth": 0,
              "ticks": ""
             }
            },
            "type": "scattergl"
           }
          ],
          "scattermapbox": [
           {
            "marker": {
             "colorbar": {
              "outlinewidth": 0,
              "ticks": ""
             }
            },
            "type": "scattermapbox"
           }
          ],
          "scatterpolar": [
           {
            "marker": {
             "colorbar": {
              "outlinewidth": 0,
              "ticks": ""
             }
            },
            "type": "scatterpolar"
           }
          ],
          "scatterpolargl": [
           {
            "marker": {
             "colorbar": {
              "outlinewidth": 0,
              "ticks": ""
             }
            },
            "type": "scatterpolargl"
           }
          ],
          "scatterternary": [
           {
            "marker": {
             "colorbar": {
              "outlinewidth": 0,
              "ticks": ""
             }
            },
            "type": "scatterternary"
           }
          ],
          "surface": [
           {
            "colorbar": {
             "outlinewidth": 0,
             "ticks": ""
            },
            "colorscale": [
             [
              0,
              "#0d0887"
             ],
             [
              0.1111111111111111,
              "#46039f"
             ],
             [
              0.2222222222222222,
              "#7201a8"
             ],
             [
              0.3333333333333333,
              "#9c179e"
             ],
             [
              0.4444444444444444,
              "#bd3786"
             ],
             [
              0.5555555555555556,
              "#d8576b"
             ],
             [
              0.6666666666666666,
              "#ed7953"
             ],
             [
              0.7777777777777778,
              "#fb9f3a"
             ],
             [
              0.8888888888888888,
              "#fdca26"
             ],
             [
              1,
              "#f0f921"
             ]
            ],
            "type": "surface"
           }
          ],
          "table": [
           {
            "cells": {
             "fill": {
              "color": "#EBF0F8"
             },
             "line": {
              "color": "white"
             }
            },
            "header": {
             "fill": {
              "color": "#C8D4E3"
             },
             "line": {
              "color": "white"
             }
            },
            "type": "table"
           }
          ]
         },
         "layout": {
          "annotationdefaults": {
           "arrowcolor": "#2a3f5f",
           "arrowhead": 0,
           "arrowwidth": 1
          },
          "autotypenumbers": "strict",
          "coloraxis": {
           "colorbar": {
            "outlinewidth": 0,
            "ticks": ""
           }
          },
          "colorscale": {
           "diverging": [
            [
             0,
             "#8e0152"
            ],
            [
             0.1,
             "#c51b7d"
            ],
            [
             0.2,
             "#de77ae"
            ],
            [
             0.3,
             "#f1b6da"
            ],
            [
             0.4,
             "#fde0ef"
            ],
            [
             0.5,
             "#f7f7f7"
            ],
            [
             0.6,
             "#e6f5d0"
            ],
            [
             0.7,
             "#b8e186"
            ],
            [
             0.8,
             "#7fbc41"
            ],
            [
             0.9,
             "#4d9221"
            ],
            [
             1,
             "#276419"
            ]
           ],
           "sequential": [
            [
             0,
             "#0d0887"
            ],
            [
             0.1111111111111111,
             "#46039f"
            ],
            [
             0.2222222222222222,
             "#7201a8"
            ],
            [
             0.3333333333333333,
             "#9c179e"
            ],
            [
             0.4444444444444444,
             "#bd3786"
            ],
            [
             0.5555555555555556,
             "#d8576b"
            ],
            [
             0.6666666666666666,
             "#ed7953"
            ],
            [
             0.7777777777777778,
             "#fb9f3a"
            ],
            [
             0.8888888888888888,
             "#fdca26"
            ],
            [
             1,
             "#f0f921"
            ]
           ],
           "sequentialminus": [
            [
             0,
             "#0d0887"
            ],
            [
             0.1111111111111111,
             "#46039f"
            ],
            [
             0.2222222222222222,
             "#7201a8"
            ],
            [
             0.3333333333333333,
             "#9c179e"
            ],
            [
             0.4444444444444444,
             "#bd3786"
            ],
            [
             0.5555555555555556,
             "#d8576b"
            ],
            [
             0.6666666666666666,
             "#ed7953"
            ],
            [
             0.7777777777777778,
             "#fb9f3a"
            ],
            [
             0.8888888888888888,
             "#fdca26"
            ],
            [
             1,
             "#f0f921"
            ]
           ]
          },
          "colorway": [
           "#636efa",
           "#EF553B",
           "#00cc96",
           "#ab63fa",
           "#FFA15A",
           "#19d3f3",
           "#FF6692",
           "#B6E880",
           "#FF97FF",
           "#FECB52"
          ],
          "font": {
           "color": "#2a3f5f"
          },
          "geo": {
           "bgcolor": "white",
           "lakecolor": "white",
           "landcolor": "#E5ECF6",
           "showlakes": true,
           "showland": true,
           "subunitcolor": "white"
          },
          "hoverlabel": {
           "align": "left"
          },
          "hovermode": "closest",
          "mapbox": {
           "style": "light"
          },
          "paper_bgcolor": "white",
          "plot_bgcolor": "#E5ECF6",
          "polar": {
           "angularaxis": {
            "gridcolor": "white",
            "linecolor": "white",
            "ticks": ""
           },
           "bgcolor": "#E5ECF6",
           "radialaxis": {
            "gridcolor": "white",
            "linecolor": "white",
            "ticks": ""
           }
          },
          "scene": {
           "xaxis": {
            "backgroundcolor": "#E5ECF6",
            "gridcolor": "white",
            "gridwidth": 2,
            "linecolor": "white",
            "showbackground": true,
            "ticks": "",
            "zerolinecolor": "white"
           },
           "yaxis": {
            "backgroundcolor": "#E5ECF6",
            "gridcolor": "white",
            "gridwidth": 2,
            "linecolor": "white",
            "showbackground": true,
            "ticks": "",
            "zerolinecolor": "white"
           },
           "zaxis": {
            "backgroundcolor": "#E5ECF6",
            "gridcolor": "white",
            "gridwidth": 2,
            "linecolor": "white",
            "showbackground": true,
            "ticks": "",
            "zerolinecolor": "white"
           }
          },
          "shapedefaults": {
           "line": {
            "color": "#2a3f5f"
           }
          },
          "ternary": {
           "aaxis": {
            "gridcolor": "white",
            "linecolor": "white",
            "ticks": ""
           },
           "baxis": {
            "gridcolor": "white",
            "linecolor": "white",
            "ticks": ""
           },
           "bgcolor": "#E5ECF6",
           "caxis": {
            "gridcolor": "white",
            "linecolor": "white",
            "ticks": ""
           }
          },
          "title": {
           "x": 0.05
          },
          "xaxis": {
           "automargin": true,
           "gridcolor": "white",
           "linecolor": "white",
           "ticks": "",
           "title": {
            "standoff": 15
           },
           "zerolinecolor": "white",
           "zerolinewidth": 2
          },
          "yaxis": {
           "automargin": true,
           "gridcolor": "white",
           "linecolor": "white",
           "ticks": "",
           "title": {
            "standoff": 15
           },
           "zerolinecolor": "white",
           "zerolinewidth": 2
          }
         }
        },
        "title": {
         "text": "Precios para Iphone 11 128Gb"
        },
        "xaxis": {
         "title": {
          "text": "Tienda"
         }
        },
        "yaxis": {
         "title": {
          "text": "Precio"
         }
        }
       }
      }
     },
     "metadata": {},
     "output_type": "display_data"
    },
    {
     "data": {
      "application/vnd.jupyter.widget-view+json": {
       "model_id": "8076bac3cb9e451a8c383aa76ca3550d",
       "version_major": 2,
       "version_minor": 0
      },
      "text/plain": [
       "interactive(children=(Dropdown(description='modelo', options=('iphone 11 128gb', 'iphone 11 64gb', 'iphone 12 …"
      ]
     },
     "metadata": {},
     "output_type": "display_data"
    },
    {
     "data": {
      "text/plain": [
       "<function __main__.update_graph(modelo)>"
      ]
     },
     "execution_count": 42,
     "metadata": {},
     "output_type": "execute_result"
    }
   ],
   "source": [
    "import pandas as pd\n",
    "import plotly.graph_objects as go\n",
    "from ipywidgets import interact\n",
    "\n",
    "precios_normales = productos.pivot_table(index='modelo', columns='tienda', values='precio_normal')\n",
    "precios_normales['Tienda_Mejor_Precio_Normal'] = precios_normales.idxmin(axis=1)\n",
    "precios_normales['Precio_Normal_Más_Bajo'] = precios_normales.select_dtypes(include=['float64', 'int64']).min(axis=1)\n",
    "\n",
    "precios_oferta = productos.pivot_table(index='modelo', columns='tienda', values='precio_oferta')\n",
    "precios_oferta['Tienda_Mejor_Oferta'] = precios_oferta.idxmin(axis=1)\n",
    "precios_oferta['Precio_Oferta_Más_Bajo'] = precios_oferta.select_dtypes(include=['float64', 'int64']).min(axis=1)\n",
    "\n",
    "resultados = pd.concat([precios_oferta[['Tienda_Mejor_Oferta', 'Precio_Oferta_Más_Bajo']], precios_normales[['Tienda_Mejor_Precio_Normal', 'Precio_Normal_Más_Bajo']]], axis=1)\n",
    "\n",
    "def update_graph(modelo):\n",
    "    fig = go.Figure()\n",
    "    \n",
    "    fig.add_trace(go.Bar(\n",
    "        x=[resultados.loc[modelo]['Tienda_Mejor_Oferta']],\n",
    "        y=[resultados.loc[modelo]['Precio_Oferta_Más_Bajo']],\n",
    "        name='Precio de Oferta',\n",
    "        marker_color='#ab8a8a'\n",
    "    ))\n",
    "\n",
    "    fig.add_trace(go.Bar(\n",
    "        x=[resultados.loc[modelo]['Tienda_Mejor_Precio_Normal']],\n",
    "        y=[resultados.loc[modelo]['Precio_Normal_Más_Bajo']],\n",
    "        name='Precio Normal',\n",
    "        marker_color='#dcb6a8'\n",
    "    ))\n",
    "    \n",
    "    fig.update_layout(\n",
    "        title=f'Precios para {modelo.title()}',\n",
    "        xaxis_title='Tienda',\n",
    "        yaxis_title='Precio',\n",
    "        barmode='group'\n",
    "    )\n",
    "    \n",
    "    fig.show()\n",
    "\n",
    "interact(update_graph, modelo=list(resultados.index))\n"
   ]
  }
 ],
 "metadata": {
  "kernelspec": {
   "display_name": "base",
   "language": "python",
   "name": "python3"
  },
  "language_info": {
   "codemirror_mode": {
    "name": "ipython",
    "version": 3
   },
   "file_extension": ".py",
   "mimetype": "text/x-python",
   "name": "python",
   "nbconvert_exporter": "python",
   "pygments_lexer": "ipython3",
   "version": "3.10.12"
  }
 },
 "nbformat": 4,
 "nbformat_minor": 2
}
